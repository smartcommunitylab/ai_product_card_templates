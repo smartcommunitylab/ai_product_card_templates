{
 "cells": [
  {
   "cell_type": "code",
   "execution_count": null,
   "id": "47283bed-9f47-4a2c-a059-f1adbab2bb00",
   "metadata": {},
   "outputs": [],
   "source": [
    "import mlrun"
   ]
  },
  {
   "cell_type": "markdown",
   "id": "9d2faf41-b8b5-4233-84f6-7bf8f6241a6f",
   "metadata": {},
   "source": [
    "# Create the 'LLM chatbot' AIPC project"
   ]
  },
  {
   "cell_type": "code",
   "execution_count": null,
   "id": "095725e7-4836-4461-9cd5-d0fb485ca238",
   "metadata": {},
   "outputs": [],
   "source": [
    "project = mlrun.get_or_create_project(\n",
    "    name=\"llm-dialog-aipc\",\n",
    "    context=\"./\",\n",
    "    parameters={\n",
    "        \"source\": \"https://github.com/smartcommunitylab/ai_product_card_templates/tree/main/aipc_examples/llm\",\n",
    "        \"default_image\": \"mlrun/mlrun\",\n",
    "        \"requirements_file\": \"./requirements.txt\",\n",
    "        \"metadata_path\": \"../../metadata/\",\n",
    "    },\n",
    ")"
   ]
  },
  {
   "cell_type": "markdown",
   "id": "49043f45-be5f-43bd-b1a2-b0430ccc051c",
   "metadata": {},
   "source": [
    "# Training functions"
   ]
  },
  {
   "cell_type": "code",
   "execution_count": null,
   "id": "e626844f-c0ee-444c-a9dd-e96725df2f5e",
   "metadata": {},
   "outputs": [],
   "source": [
    "# Training function\n",
    "project.set_function(\n",
    "    name=\"training\",\n",
    "    func='functions/training.py',\n",
    "    handler='train',\n",
    "    kind=\"job\",\n",
    ")"
   ]
  },
  {
   "cell_type": "markdown",
   "id": "6cfad182-9e59-4c62-85b1-2dc4eb8f66ff",
   "metadata": {
    "tags": []
   },
   "source": [
    "# Serving function"
   ]
  },
  {
   "cell_type": "code",
   "execution_count": null,
   "id": "d1fad5ac-aca3-4400-bdcd-ac34888e07dc",
   "metadata": {},
   "outputs": [],
   "source": [
    "#Serving function\n",
    "serving_fn = mlrun.code_to_function(\"serving-5760\", filename=\"serving/serve.py\", kind=\"serving\", image=\"mlrun/mlrun\")\n",
    "serving_fn.spec.build.commands = [\n",
    "    \"pip install -r requirements.txt\",\n",
    "    \"pip uninstall apex\"\n",
    "]\n",
    "serving_fn.add_model(\n",
    "    \"pythia-5760\",\n",
    "    model_path=\" \",\n",
    "    model_name=\"EleutherAI/pythia-1.4b-deduped\",\n",
    "    adapter_path='../models/checkpoints/pythia-1.4b-finetuned-orig/checkpoint-9360',\n",
    "    class_name=\"ChatBot\"\n",
    ")\n",
    "project.deploy_function(serving_fn)\n",
    "project.save()"
   ]
  },
  {
   "cell_type": "code",
   "execution_count": null,
   "id": "43456062-32d1-46a7-8df9-08d2a3ee7d15",
   "metadata": {
    "tags": []
   },
   "outputs": [],
   "source": [
    "# test function\n",
    "server = serving_fn.to_mock_server()"
   ]
  },
  {
   "cell_type": "code",
   "execution_count": null,
   "id": "1618e494-3d8b-4839-b1a3-12216e6e2ccd",
   "metadata": {},
   "outputs": [],
   "source": [
    "def chat_with_model(skip_special_tokens=True, max_length=64):\n",
    "    conversation_history = []\n",
    "\n",
    "    while True:\n",
    "        # Get user input\n",
    "        user_input = input(\"You: \") + f\" <|endofturn|>\"\n",
    "        # Add user input to conversation history\n",
    "        conversation_history.append(user_input)\n",
    "\n",
    "        # Generate response\n",
    "        sample = {\n",
    "            \"row\": ' '.join(conversation_history), \n",
    "            \"skip_special_tokens\": skip_special_tokens, \n",
    "            \"max_length\": max_length\n",
    "        }\n",
    "        response= serving_fn.invoke(path=f\"/v2/models/pythia-5760/infer\", body=sample)\n",
    "        response = response.split(\"<|endofturn|>\")[0] \n",
    "        response_hist = response.split(\"<|endofturn|>\")[0] + f\" <|endofturn|>\"\n",
    "        # Print and add response to conversation history\n",
    "        # print(\"history:\", conversation_history)\n",
    "        print(\"Model:\", response)\n",
    "        conversation_history.append(response_hist)\n",
    "\n",
    "        # Check for exit condition\n",
    "        if user_input.lower() == \"exit\":\n",
    "            print(\"\\n\\n\\n\\n#### ALL DIALOGUE HISTORY ####\\n\\n\", '\\n'.join(conversation_history))"
   ]
  },
  {
   "cell_type": "code",
   "execution_count": null,
   "id": "ac87254c-31b1-4330-91e1-5d80e6299a3e",
   "metadata": {
    "tags": []
   },
   "outputs": [],
   "source": [
    "chat_with_model(skip_special_tokens=False, max_length=128)"
   ]
  },
  {
   "cell_type": "code",
   "execution_count": null,
   "id": "6d012765-388e-416e-a547-ae5d65e8ad27",
   "metadata": {},
   "outputs": [],
   "source": []
  }
 ],
 "metadata": {
  "kernelspec": {
   "display_name": "Python 3 (ipykernel)",
   "language": "python",
   "name": "python3"
  },
  "language_info": {
   "codemirror_mode": {
    "name": "ipython",
    "version": 3
   },
   "file_extension": ".py",
   "mimetype": "text/x-python",
   "name": "python",
   "nbconvert_exporter": "python",
   "pygments_lexer": "ipython3",
   "version": "3.9.13"
  }
 },
 "nbformat": 4,
 "nbformat_minor": 5
}
