{
 "cells": [
  {
   "cell_type": "markdown",
   "id": "92d49169",
   "metadata": {},
   "source": [
    "# Analising Video with YOLO and MLRun\n"
   ]
  },
  {
   "cell_type": "markdown",
   "id": "86252f82",
   "metadata": {},
   "source": [
    "In this notebook we are going to analise the objects from a video file using the following process:"
   ]
  },
  {
   "cell_type": "markdown",
   "id": "31805252",
   "metadata": {},
   "source": [
    "### Split and Upload Files to Minio\n"
   ]
  },
  {
   "cell_type": "code",
   "execution_count": 1,
   "id": "c93cd4b1",
   "metadata": {},
   "outputs": [
    {
     "name": "stdout",
     "output_type": "stream",
     "text": [
      "Requirement already satisfied: opencv-python in /opt/conda/lib/python3.9/site-packages (4.8.1.78)\n",
      "Requirement already satisfied: numpy>=1.17.3 in /opt/conda/lib/python3.9/site-packages (from opencv-python) (1.22.4)\n",
      "\n",
      "\u001b[1m[\u001b[0m\u001b[34;49mnotice\u001b[0m\u001b[1;39;49m]\u001b[0m\u001b[39;49m A new release of pip available: \u001b[0m\u001b[31;49m22.3.1\u001b[0m\u001b[39;49m -> \u001b[0m\u001b[32;49m23.2.1\u001b[0m\n",
      "\u001b[1m[\u001b[0m\u001b[34;49mnotice\u001b[0m\u001b[1;39;49m]\u001b[0m\u001b[39;49m To update, run: \u001b[0m\u001b[32;49mpip install --upgrade pip\u001b[0m\n",
      "Note: you may need to restart the kernel to use updated packages.\n"
     ]
    }
   ],
   "source": [
    "%pip install opencv-python"
   ]
  },
  {
   "cell_type": "code",
   "execution_count": 2,
   "id": "56265ace-6d2d-42db-8f3c-e78a080e86f5",
   "metadata": {},
   "outputs": [],
   "source": [
    "from video_spliter import Video_Spliter"
   ]
  },
  {
   "cell_type": "code",
   "execution_count": 3,
   "id": "47f8dfa4-caaa-4af6-8880-31061ad962fc",
   "metadata": {},
   "outputs": [],
   "source": [
    "secrets = {\"MINIO_URL\": \"\", \"MINIO_AK\": \"\", \"MINIO_SK\": \"\"}"
   ]
  },
  {
   "cell_type": "code",
   "execution_count": 4,
   "id": "32ec78d9",
   "metadata": {},
   "outputs": [],
   "source": [
    "v = Video_Spliter()"
   ]
  },
  {
   "cell_type": "code",
   "execution_count": 5,
   "id": "1e000b24",
   "metadata": {},
   "outputs": [],
   "source": [
    "v.split_video('mov_bbb.mp4', 'data')"
   ]
  },
  {
   "cell_type": "markdown",
   "id": "dccb3350",
   "metadata": {},
   "source": [
    "### Upload Data to Minio\n"
   ]
  },
  {
   "cell_type": "code",
   "execution_count": 6,
   "id": "628016c5",
   "metadata": {},
   "outputs": [
    {
     "name": "stdout",
     "output_type": "stream",
     "text": [
      "Requirement already satisfied: minio in /opt/conda/lib/python3.9/site-packages (7.1.17)\n",
      "Requirement already satisfied: urllib3 in /opt/conda/lib/python3.9/site-packages (from minio) (1.26.11)\n",
      "Requirement already satisfied: certifi in /opt/conda/lib/python3.9/site-packages (from minio) (2022.9.24)\n",
      "\n",
      "\u001b[1m[\u001b[0m\u001b[34;49mnotice\u001b[0m\u001b[1;39;49m]\u001b[0m\u001b[39;49m A new release of pip available: \u001b[0m\u001b[31;49m22.3.1\u001b[0m\u001b[39;49m -> \u001b[0m\u001b[32;49m23.2.1\u001b[0m\n",
      "\u001b[1m[\u001b[0m\u001b[34;49mnotice\u001b[0m\u001b[1;39;49m]\u001b[0m\u001b[39;49m To update, run: \u001b[0m\u001b[32;49mpip install --upgrade pip\u001b[0m\n",
      "Note: you may need to restart the kernel to use updated packages.\n"
     ]
    }
   ],
   "source": [
    "%pip install minio"
   ]
  },
  {
   "cell_type": "code",
   "execution_count": 7,
   "id": "2770a771",
   "metadata": {},
   "outputs": [],
   "source": [
    "import minio\n",
    "client = minio.Minio(secrets[\"MINIO_URL\"], access_key=secrets[\"MINIO_AK\"], secret_key=secrets[\"MINIO_SK\"])"
   ]
  },
  {
   "cell_type": "code",
   "execution_count": 8,
   "id": "465f1a8f",
   "metadata": {},
   "outputs": [],
   "source": [
    "import os\n",
    "\n",
    "def upload_local_directory_to_minio(client, local_path, bucket_name, minio_path):\n",
    "  \"\"\"Uploads a local directory to a Minio bucket.\n",
    "\n",
    "  Args:\n",
    "    local_path: The path to the local directory.\n",
    "    bucket_name: The name of the Minio bucket.\n",
    "    minio_path: The path to the directory in the Minio bucket.\n",
    "  \"\"\"\n",
    "\n",
    "  assert os.path.isdir(local_path)\n",
    "  for root, dirs, files in os.walk(local_path):\n",
    "    for file in files:\n",
    "      remote_path = os.path.join(minio_path, os.path.relpath(os.path.join(root, file), local_path))\n",
    "      remote_path = remote_path.replace(os.sep, '/')\n",
    "\n",
    "      # Upload the file.\n",
    "      client.fput_object(bucket_name, remote_path, os.path.join(root, file))\n",
    "\n",
    "upload_local_directory_to_minio(client, 'data/mov_bbb.mp4/', 'video', 'mov_bbb.mp4')\n"
   ]
  },
  {
   "cell_type": "markdown",
   "id": "edcc0909",
   "metadata": {},
   "source": [
    "List objects in the frame order"
   ]
  },
  {
   "cell_type": "code",
   "execution_count": 9,
   "id": "c65be9b5",
   "metadata": {},
   "outputs": [
    {
     "data": {
      "text/plain": [
       "'mov_bbb.mp4/frames/frame_00000249.jpg'"
      ]
     },
     "execution_count": 9,
     "metadata": {},
     "output_type": "execute_result"
    }
   ],
   "source": [
    "objects = client.list_objects(\n",
    "    \"video\", recursive=True, prefix=\"mov_bbb.mp4/frames/\"\n",
    ")\n",
    "file_names = [obj.object_name for obj in objects]\n",
    "file_names = sorted(file_names, key=lambda string: string.lower())\n",
    "file_names[-1]\n"
   ]
  },
  {
   "cell_type": "markdown",
   "id": "ae2bfff9",
   "metadata": {},
   "source": [
    "### Create MLRun Model Serving"
   ]
  },
  {
   "cell_type": "markdown",
   "id": "50a234df",
   "metadata": {},
   "source": [
    "Create the custom server class: serving.py "
   ]
  },
  {
   "cell_type": "markdown",
   "id": "b97451ee",
   "metadata": {},
   "source": [
    "```python\n",
    "from typing import List\n",
    "import mlrun\n",
    "import torch\n",
    "import minio\n",
    "from PIL import Image\n",
    "\n",
    "\n",
    "class ClassifierModel(mlrun.serving.V2ModelServer):\n",
    "    def load(self):\n",
    "        \"\"\"load and initialize the model and/or other elements\"\"\"\n",
    "        print(\"aa\")\n",
    "        torch.hub.set_dir('.')\n",
    "        self.model = torch.hub.load('ultralytics/yolov5', 'yolov5s')\n",
    "        self.minio_client = minio.Minio('my-docker-ip:9000', access_key='', secret_key='', secure=False)\n",
    "\n",
    "    def dowload_files(self, bucket: str, path_list: list):\n",
    "        images = []\n",
    "        for path in path_list:\n",
    "            try:\n",
    "                # dowload image\n",
    "                self.minio_client.fget_object(bucket, path, \"test.jpg\")\n",
    "                im = Image.open('test.jpg')\n",
    "                images.append(im)\n",
    "            except Exception as e:\n",
    "                print(e)\n",
    "                continue\n",
    "        \n",
    "        return images\n",
    "\n",
    "    def predict(self, body: dict) -> List:\n",
    "        \"\"\"Generate model predictions from sample.\"\"\"\n",
    "        images = self.dowload_files(str(body[\"bucket\"]), body['inputs'])\n",
    "        result = self.model(images)\n",
    "        return str(result.tolist())\n",
    "```"
   ]
  },
  {
   "cell_type": "code",
   "execution_count": 10,
   "id": "7eb4c4bb",
   "metadata": {
    "scrolled": true,
    "tags": []
   },
   "outputs": [
    {
     "name": "stdout",
     "output_type": "stream",
     "text": [
      "Requirement already satisfied: mlrun in /opt/conda/lib/python3.9/site-packages (1.3.0)\n",
      "Requirement already satisfied: v3io-frames~=0.10.4 in /opt/conda/lib/python3.9/site-packages (from mlrun) (0.10.5)\n",
      "Requirement already satisfied: click~=8.0.0 in /opt/conda/lib/python3.9/site-packages (from mlrun) (8.0.4)\n",
      "Requirement already satisfied: mergedeep~=1.3 in /opt/conda/lib/python3.9/site-packages (from mlrun) (1.3.4)\n",
      "Requirement already satisfied: alembic~=1.9 in /opt/conda/lib/python3.9/site-packages (from mlrun) (1.10.2)\n",
      "Requirement already satisfied: protobuf<3.20,>=3.13 in /opt/conda/lib/python3.9/site-packages (from mlrun) (3.19.6)\n",
      "Requirement already satisfied: kubernetes~=12.0 in /opt/conda/lib/python3.9/site-packages (from mlrun) (12.0.1)\n",
      "Requirement already satisfied: inflection~=0.5.0 in /opt/conda/lib/python3.9/site-packages (from mlrun) (0.5.1)\n",
      "Requirement already satisfied: aiohttp-retry~=2.8 in /opt/conda/lib/python3.9/site-packages (from mlrun) (2.8.3)\n",
      "Requirement already satisfied: storey~=1.3.15 in /opt/conda/lib/python3.9/site-packages (from mlrun) (1.3.15)\n",
      "Requirement already satisfied: pandas<1.5.0,~=1.2 in /opt/conda/lib/python3.9/site-packages (from mlrun) (1.4.4)\n",
      "Requirement already satisfied: orjson~=3.3 in /opt/conda/lib/python3.9/site-packages (from mlrun) (3.8.8)\n",
      "Requirement already satisfied: python-dotenv~=0.17.0 in /opt/conda/lib/python3.9/site-packages (from mlrun) (0.17.1)\n",
      "Requirement already satisfied: urllib3<1.27,>=1.25.4 in /opt/conda/lib/python3.9/site-packages (from mlrun) (1.26.11)\n",
      "Requirement already satisfied: sqlalchemy~=1.4 in /opt/conda/lib/python3.9/site-packages (from mlrun) (1.4.41)\n",
      "Requirement already satisfied: humanfriendly~=8.2 in /opt/conda/lib/python3.9/site-packages (from mlrun) (8.2)\n",
      "Requirement already satisfied: v3io~=0.5.20 in /opt/conda/lib/python3.9/site-packages (from mlrun) (0.5.20)\n",
      "Requirement already satisfied: aiohttp~=3.8 in /opt/conda/lib/python3.9/site-packages (from mlrun) (3.8.4)\n",
      "Requirement already satisfied: deprecated~=1.2 in /opt/conda/lib/python3.9/site-packages (from mlrun) (1.2.13)\n",
      "Requirement already satisfied: requests~=2.22 in /opt/conda/lib/python3.9/site-packages (from mlrun) (2.28.1)\n",
      "Requirement already satisfied: fsspec~=2021.8.1 in /opt/conda/lib/python3.9/site-packages (from mlrun) (2021.8.1)\n",
      "Requirement already satisfied: ipython<9.0,>=7.0 in /opt/conda/lib/python3.9/site-packages (from mlrun) (8.5.0)\n",
      "Requirement already satisfied: pyyaml~=5.1 in /opt/conda/lib/python3.9/site-packages (from mlrun) (5.4.1)\n",
      "Requirement already satisfied: kfp<1.8.14,~=1.8.0 in /opt/conda/lib/python3.9/site-packages (from mlrun) (1.8.13)\n",
      "Requirement already satisfied: numpy<1.23.0,>=1.16.5 in /opt/conda/lib/python3.9/site-packages (from mlrun) (1.22.4)\n",
      "Requirement already satisfied: pydantic~=1.5 in /opt/conda/lib/python3.9/site-packages (from mlrun) (1.10.6)\n",
      "Requirement already satisfied: deepdiff~=5.0 in /opt/conda/lib/python3.9/site-packages (from mlrun) (5.8.1)\n",
      "Requirement already satisfied: tabulate~=0.8.6 in /opt/conda/lib/python3.9/site-packages (from mlrun) (0.8.10)\n",
      "Requirement already satisfied: semver~=2.13 in /opt/conda/lib/python3.9/site-packages (from mlrun) (2.13.0)\n",
      "Requirement already satisfied: distributed~=2021.11.2 in /opt/conda/lib/python3.9/site-packages (from mlrun) (2021.11.2)\n",
      "Requirement already satisfied: v3iofs~=0.1.15 in /opt/conda/lib/python3.9/site-packages (from mlrun) (0.1.15)\n",
      "Requirement already satisfied: pyarrow<11,>=10 in /opt/conda/lib/python3.9/site-packages (from mlrun) (10.0.1)\n",
      "Requirement already satisfied: fastapi~=0.92.0 in /opt/conda/lib/python3.9/site-packages (from mlrun) (0.92.0)\n",
      "Requirement already satisfied: chardet<4.0,>=3.0.2 in /opt/conda/lib/python3.9/site-packages (from mlrun) (3.0.4)\n",
      "Requirement already satisfied: dask~=2021.11.2 in /opt/conda/lib/python3.9/site-packages (from mlrun) (2021.11.2)\n",
      "Requirement already satisfied: nuclio-jupyter~=0.9.9 in /opt/conda/lib/python3.9/site-packages (from mlrun) (0.9.9)\n",
      "Requirement already satisfied: setuptools~=65.5 in /opt/conda/lib/python3.9/site-packages (from mlrun) (65.7.0)\n",
      "Requirement already satisfied: GitPython>=3.1.30,~=3.1 in /opt/conda/lib/python3.9/site-packages (from mlrun) (3.1.31)\n",
      "Requirement already satisfied: nest-asyncio~=1.0 in /opt/conda/lib/python3.9/site-packages (from mlrun) (1.5.6)\n",
      "Requirement already satisfied: pymysql~=1.0 in /opt/conda/lib/python3.9/site-packages (from mlrun) (1.0.2)\n",
      "Requirement already satisfied: charset-normalizer<4.0,>=2.0 in /opt/conda/lib/python3.9/site-packages (from aiohttp~=3.8->mlrun) (2.1.1)\n",
      "Requirement already satisfied: aiosignal>=1.1.2 in /opt/conda/lib/python3.9/site-packages (from aiohttp~=3.8->mlrun) (1.3.1)\n",
      "Requirement already satisfied: yarl<2.0,>=1.0 in /opt/conda/lib/python3.9/site-packages (from aiohttp~=3.8->mlrun) (1.8.2)\n",
      "Requirement already satisfied: attrs>=17.3.0 in /opt/conda/lib/python3.9/site-packages (from aiohttp~=3.8->mlrun) (22.1.0)\n",
      "Requirement already satisfied: async-timeout<5.0,>=4.0.0a3 in /opt/conda/lib/python3.9/site-packages (from aiohttp~=3.8->mlrun) (4.0.2)\n",
      "Requirement already satisfied: frozenlist>=1.1.1 in /opt/conda/lib/python3.9/site-packages (from aiohttp~=3.8->mlrun) (1.3.3)\n",
      "Requirement already satisfied: multidict<7.0,>=4.5 in /opt/conda/lib/python3.9/site-packages (from aiohttp~=3.8->mlrun) (6.0.4)\n",
      "Requirement already satisfied: typing-extensions>=4 in /opt/conda/lib/python3.9/site-packages (from alembic~=1.9->mlrun) (4.4.0)\n",
      "Requirement already satisfied: Mako in /opt/conda/lib/python3.9/site-packages (from alembic~=1.9->mlrun) (1.2.3)\n",
      "Requirement already satisfied: cloudpickle>=1.1.1 in /opt/conda/lib/python3.9/site-packages (from dask~=2021.11.2->mlrun) (2.2.0)\n",
      "Requirement already satisfied: partd>=0.3.10 in /opt/conda/lib/python3.9/site-packages (from dask~=2021.11.2->mlrun) (1.3.0)\n",
      "Requirement already satisfied: toolz>=0.8.2 in /opt/conda/lib/python3.9/site-packages (from dask~=2021.11.2->mlrun) (0.12.0)\n",
      "Requirement already satisfied: packaging>=20.0 in /opt/conda/lib/python3.9/site-packages (from dask~=2021.11.2->mlrun) (21.3)\n",
      "Requirement already satisfied: ordered-set<4.2.0,>=4.1.0 in /opt/conda/lib/python3.9/site-packages (from deepdiff~=5.0->mlrun) (4.1.0)\n",
      "Requirement already satisfied: wrapt<2,>=1.10 in /opt/conda/lib/python3.9/site-packages (from deprecated~=1.2->mlrun) (1.15.0)\n",
      "Requirement already satisfied: jinja2 in /opt/conda/lib/python3.9/site-packages (from distributed~=2021.11.2->mlrun) (3.1.2)\n",
      "Requirement already satisfied: sortedcontainers!=2.0.0,!=2.0.1 in /opt/conda/lib/python3.9/site-packages (from distributed~=2021.11.2->mlrun) (2.4.0)\n",
      "Requirement already satisfied: psutil>=5.0 in /opt/conda/lib/python3.9/site-packages (from distributed~=2021.11.2->mlrun) (5.9.2)\n",
      "Requirement already satisfied: zict>=0.1.3 in /opt/conda/lib/python3.9/site-packages (from distributed~=2021.11.2->mlrun) (2.2.0)\n",
      "Requirement already satisfied: msgpack>=0.6.0 in /opt/conda/lib/python3.9/site-packages (from distributed~=2021.11.2->mlrun) (1.0.4)\n",
      "Requirement already satisfied: tornado>=6.0.3 in /opt/conda/lib/python3.9/site-packages (from distributed~=2021.11.2->mlrun) (6.1)\n",
      "Requirement already satisfied: tblib>=1.6.0 in /opt/conda/lib/python3.9/site-packages (from distributed~=2021.11.2->mlrun) (1.7.0)\n",
      "Requirement already satisfied: starlette<0.26.0,>=0.25.0 in /opt/conda/lib/python3.9/site-packages (from fastapi~=0.92.0->mlrun) (0.25.0)\n",
      "Requirement already satisfied: gitdb<5,>=4.0.1 in /opt/conda/lib/python3.9/site-packages (from GitPython>=3.1.30,~=3.1->mlrun) (4.0.10)\n",
      "Requirement already satisfied: backcall in /opt/conda/lib/python3.9/site-packages (from ipython<9.0,>=7.0->mlrun) (0.2.0)\n",
      "Requirement already satisfied: pexpect>4.3 in /opt/conda/lib/python3.9/site-packages (from ipython<9.0,>=7.0->mlrun) (4.8.0)\n",
      "Requirement already satisfied: pickleshare in /opt/conda/lib/python3.9/site-packages (from ipython<9.0,>=7.0->mlrun) (0.7.5)\n",
      "Requirement already satisfied: decorator in /opt/conda/lib/python3.9/site-packages (from ipython<9.0,>=7.0->mlrun) (5.1.1)\n",
      "Requirement already satisfied: matplotlib-inline in /opt/conda/lib/python3.9/site-packages (from ipython<9.0,>=7.0->mlrun) (0.1.6)\n",
      "Requirement already satisfied: pygments>=2.4.0 in /opt/conda/lib/python3.9/site-packages (from ipython<9.0,>=7.0->mlrun) (2.13.0)\n",
      "Requirement already satisfied: stack-data in /opt/conda/lib/python3.9/site-packages (from ipython<9.0,>=7.0->mlrun) (0.5.1)\n",
      "Requirement already satisfied: traitlets>=5 in /opt/conda/lib/python3.9/site-packages (from ipython<9.0,>=7.0->mlrun) (5.4.0)\n",
      "Requirement already satisfied: jedi>=0.16 in /opt/conda/lib/python3.9/site-packages (from ipython<9.0,>=7.0->mlrun) (0.18.1)\n",
      "Requirement already satisfied: prompt-toolkit<3.1.0,>3.0.1 in /opt/conda/lib/python3.9/site-packages (from ipython<9.0,>=7.0->mlrun) (3.0.31)\n",
      "Requirement already satisfied: google-api-core!=2.0.*,!=2.1.*,!=2.2.*,!=2.3.0,<3.0.0dev,>=1.31.5 in /opt/conda/lib/python3.9/site-packages (from kfp<1.8.14,~=1.8.0->mlrun) (2.10.2)\n",
      "Requirement already satisfied: kfp-server-api<2.0.0,>=1.1.2 in /opt/conda/lib/python3.9/site-packages (from kfp<1.8.14,~=1.8.0->mlrun) (1.8.5)\n",
      "Requirement already satisfied: kfp-pipeline-spec<0.2.0,>=0.1.14 in /opt/conda/lib/python3.9/site-packages (from kfp<1.8.14,~=1.8.0->mlrun) (0.1.16)\n",
      "Requirement already satisfied: fire<1,>=0.3.1 in /opt/conda/lib/python3.9/site-packages (from kfp<1.8.14,~=1.8.0->mlrun) (0.5.0)\n",
      "Requirement already satisfied: requests-toolbelt<1,>=0.8.0 in /opt/conda/lib/python3.9/site-packages (from kfp<1.8.14,~=1.8.0->mlrun) (0.10.1)\n",
      "Requirement already satisfied: absl-py<2,>=0.9 in /opt/conda/lib/python3.9/site-packages (from kfp<1.8.14,~=1.8.0->mlrun) (1.4.0)\n",
      "Requirement already satisfied: docstring-parser<1,>=0.7.3 in /opt/conda/lib/python3.9/site-packages (from kfp<1.8.14,~=1.8.0->mlrun) (0.15)\n",
      "Requirement already satisfied: google-auth<2,>=1.6.1 in /opt/conda/lib/python3.9/site-packages (from kfp<1.8.14,~=1.8.0->mlrun) (1.35.0)\n",
      "Requirement already satisfied: jsonschema<4,>=3.0.1 in /opt/conda/lib/python3.9/site-packages (from kfp<1.8.14,~=1.8.0->mlrun) (3.2.0)\n",
      "Requirement already satisfied: google-cloud-storage<2,>=1.20.0 in /opt/conda/lib/python3.9/site-packages (from kfp<1.8.14,~=1.8.0->mlrun) (1.44.0)\n",
      "Requirement already satisfied: uritemplate<4,>=3.0.1 in /opt/conda/lib/python3.9/site-packages (from kfp<1.8.14,~=1.8.0->mlrun) (3.0.1)\n",
      "Requirement already satisfied: google-api-python-client<2,>=1.7.8 in /opt/conda/lib/python3.9/site-packages (from kfp<1.8.14,~=1.8.0->mlrun) (1.12.11)\n",
      "Requirement already satisfied: strip-hints<1,>=0.1.8 in /opt/conda/lib/python3.9/site-packages (from kfp<1.8.14,~=1.8.0->mlrun) (0.1.10)\n",
      "Requirement already satisfied: typer<1.0,>=0.3.2 in /opt/conda/lib/python3.9/site-packages (from kfp<1.8.14,~=1.8.0->mlrun) (0.7.0)\n",
      "Requirement already satisfied: certifi>=14.05.14 in /opt/conda/lib/python3.9/site-packages (from kubernetes~=12.0->mlrun) (2022.9.24)\n",
      "Requirement already satisfied: python-dateutil>=2.5.3 in /opt/conda/lib/python3.9/site-packages (from kubernetes~=12.0->mlrun) (2.8.2)\n",
      "Requirement already satisfied: websocket-client!=0.40.0,!=0.41.*,!=0.42.*,>=0.32.0 in /opt/conda/lib/python3.9/site-packages (from kubernetes~=12.0->mlrun) (1.4.1)\n",
      "Requirement already satisfied: six>=1.9.0 in /opt/conda/lib/python3.9/site-packages (from kubernetes~=12.0->mlrun) (1.16.0)\n",
      "Requirement already satisfied: requests-oauthlib in /opt/conda/lib/python3.9/site-packages (from kubernetes~=12.0->mlrun) (1.3.1)\n",
      "Requirement already satisfied: notebook>=6.4 in /opt/conda/lib/python3.9/site-packages (from nuclio-jupyter~=0.9.9->mlrun) (6.4.12)\n",
      "Requirement already satisfied: nbconvert>=6.4.5 in /opt/conda/lib/python3.9/site-packages (from nuclio-jupyter~=0.9.9->mlrun) (7.2.1)\n",
      "Requirement already satisfied: boto3>=1.9 in /opt/conda/lib/python3.9/site-packages (from nuclio-jupyter~=0.9.9->mlrun) (1.17.106)\n",
      "Requirement already satisfied: pytz>=2020.1 in /opt/conda/lib/python3.9/site-packages (from pandas<1.5.0,~=1.2->mlrun) (2022.4)\n",
      "Requirement already satisfied: idna<4,>=2.5 in /opt/conda/lib/python3.9/site-packages (from requests~=2.22->mlrun) (3.4)\n",
      "Requirement already satisfied: greenlet!=0.4.17 in /opt/conda/lib/python3.9/site-packages (from sqlalchemy~=1.4->mlrun) (1.1.3)\n",
      "Requirement already satisfied: xxhash>=1 in /opt/conda/lib/python3.9/site-packages (from storey~=1.3.15->mlrun) (3.2.0)\n",
      "Requirement already satisfied: future>=0.18.2 in /opt/conda/lib/python3.9/site-packages (from v3io~=0.5.20->mlrun) (0.18.3)\n",
      "Requirement already satisfied: ujson>=3 in /opt/conda/lib/python3.9/site-packages (from v3io~=0.5.20->mlrun) (5.7.0)\n",
      "Requirement already satisfied: googleapis-common-protos>=1.5.3 in /opt/conda/lib/python3.9/site-packages (from v3io-frames~=0.10.4->mlrun) (1.59.0)\n",
      "Requirement already satisfied: grpcio-tools!=1.34.0,<1.49,>=1.30 in /opt/conda/lib/python3.9/site-packages (from v3io-frames~=0.10.4->mlrun) (1.48.2)\n",
      "Requirement already satisfied: grpcio!=1.34.0,<1.49,>=1.30 in /opt/conda/lib/python3.9/site-packages (from v3io-frames~=0.10.4->mlrun) (1.48.2)\n",
      "Requirement already satisfied: jmespath<1.0.0,>=0.7.1 in /opt/conda/lib/python3.9/site-packages (from boto3>=1.9->nuclio-jupyter~=0.9.9->mlrun) (0.10.0)\n",
      "Requirement already satisfied: s3transfer<0.5.0,>=0.4.0 in /opt/conda/lib/python3.9/site-packages (from boto3>=1.9->nuclio-jupyter~=0.9.9->mlrun) (0.4.2)\n",
      "Requirement already satisfied: botocore<1.21.0,>=1.20.106 in /opt/conda/lib/python3.9/site-packages (from boto3>=1.9->nuclio-jupyter~=0.9.9->mlrun) (1.20.106)\n",
      "Requirement already satisfied: termcolor in /opt/conda/lib/python3.9/site-packages (from fire<1,>=0.3.1->kfp<1.8.14,~=1.8.0->mlrun) (2.2.0)\n",
      "Requirement already satisfied: smmap<6,>=3.0.1 in /opt/conda/lib/python3.9/site-packages (from gitdb<5,>=4.0.1->GitPython>=3.1.30,~=3.1->mlrun) (5.0.0)\n",
      "Requirement already satisfied: httplib2<1dev,>=0.15.0 in /opt/conda/lib/python3.9/site-packages (from google-api-python-client<2,>=1.7.8->kfp<1.8.14,~=1.8.0->mlrun) (0.22.0)\n",
      "Requirement already satisfied: google-auth-httplib2>=0.0.3 in /opt/conda/lib/python3.9/site-packages (from google-api-python-client<2,>=1.7.8->kfp<1.8.14,~=1.8.0->mlrun) (0.1.0)\n",
      "Requirement already satisfied: cachetools<5.0,>=2.0.0 in /opt/conda/lib/python3.9/site-packages (from google-auth<2,>=1.6.1->kfp<1.8.14,~=1.8.0->mlrun) (4.2.4)\n",
      "Requirement already satisfied: rsa<5,>=3.1.4 in /opt/conda/lib/python3.9/site-packages (from google-auth<2,>=1.6.1->kfp<1.8.14,~=1.8.0->mlrun) (4.9)\n",
      "Requirement already satisfied: pyasn1-modules>=0.2.1 in /opt/conda/lib/python3.9/site-packages (from google-auth<2,>=1.6.1->kfp<1.8.14,~=1.8.0->mlrun) (0.2.8)\n",
      "Requirement already satisfied: google-resumable-media<3.0dev,>=1.3.0 in /opt/conda/lib/python3.9/site-packages (from google-cloud-storage<2,>=1.20.0->kfp<1.8.14,~=1.8.0->mlrun) (2.4.1)\n",
      "Requirement already satisfied: google-cloud-core<3.0dev,>=1.6.0 in /opt/conda/lib/python3.9/site-packages (from google-cloud-storage<2,>=1.20.0->kfp<1.8.14,~=1.8.0->mlrun) (2.3.2)\n",
      "Requirement already satisfied: parso<0.9.0,>=0.8.0 in /opt/conda/lib/python3.9/site-packages (from jedi>=0.16->ipython<9.0,>=7.0->mlrun) (0.8.3)\n",
      "Requirement already satisfied: pyrsistent>=0.14.0 in /opt/conda/lib/python3.9/site-packages (from jsonschema<4,>=3.0.1->kfp<1.8.14,~=1.8.0->mlrun) (0.18.1)\n",
      "Requirement already satisfied: importlib-metadata>=3.6 in /opt/conda/lib/python3.9/site-packages (from nbconvert>=6.4.5->nuclio-jupyter~=0.9.9->mlrun) (4.11.4)\n",
      "Requirement already satisfied: jupyter-core>=4.7 in /opt/conda/lib/python3.9/site-packages (from nbconvert>=6.4.5->nuclio-jupyter~=0.9.9->mlrun) (4.11.1)\n",
      "Requirement already satisfied: nbclient>=0.5.0 in /opt/conda/lib/python3.9/site-packages (from nbconvert>=6.4.5->nuclio-jupyter~=0.9.9->mlrun) (0.7.0)\n",
      "Requirement already satisfied: bleach in /opt/conda/lib/python3.9/site-packages (from nbconvert>=6.4.5->nuclio-jupyter~=0.9.9->mlrun) (5.0.1)\n",
      "Requirement already satisfied: jupyterlab-pygments in /opt/conda/lib/python3.9/site-packages (from nbconvert>=6.4.5->nuclio-jupyter~=0.9.9->mlrun) (0.2.2)\n",
      "Requirement already satisfied: beautifulsoup4 in /opt/conda/lib/python3.9/site-packages (from nbconvert>=6.4.5->nuclio-jupyter~=0.9.9->mlrun) (4.11.1)\n",
      "Requirement already satisfied: tinycss2 in /opt/conda/lib/python3.9/site-packages (from nbconvert>=6.4.5->nuclio-jupyter~=0.9.9->mlrun) (1.1.1)\n",
      "Requirement already satisfied: defusedxml in /opt/conda/lib/python3.9/site-packages (from nbconvert>=6.4.5->nuclio-jupyter~=0.9.9->mlrun) (0.7.1)\n",
      "Requirement already satisfied: markupsafe>=2.0 in /opt/conda/lib/python3.9/site-packages (from nbconvert>=6.4.5->nuclio-jupyter~=0.9.9->mlrun) (2.1.1)\n",
      "Requirement already satisfied: mistune<3,>=2.0.3 in /opt/conda/lib/python3.9/site-packages (from nbconvert>=6.4.5->nuclio-jupyter~=0.9.9->mlrun) (2.0.4)\n",
      "Requirement already satisfied: pandocfilters>=1.4.1 in /opt/conda/lib/python3.9/site-packages (from nbconvert>=6.4.5->nuclio-jupyter~=0.9.9->mlrun) (1.5.0)\n",
      "Requirement already satisfied: nbformat>=5.1 in /opt/conda/lib/python3.9/site-packages (from nbconvert>=6.4.5->nuclio-jupyter~=0.9.9->mlrun) (5.6.1)\n",
      "Requirement already satisfied: Send2Trash>=1.8.0 in /opt/conda/lib/python3.9/site-packages (from notebook>=6.4->nuclio-jupyter~=0.9.9->mlrun) (1.8.0)\n",
      "Requirement already satisfied: argon2-cffi in /opt/conda/lib/python3.9/site-packages (from notebook>=6.4->nuclio-jupyter~=0.9.9->mlrun) (21.3.0)\n",
      "Requirement already satisfied: terminado>=0.8.3 in /opt/conda/lib/python3.9/site-packages (from notebook>=6.4->nuclio-jupyter~=0.9.9->mlrun) (0.16.0)\n",
      "Requirement already satisfied: ipykernel in /opt/conda/lib/python3.9/site-packages (from notebook>=6.4->nuclio-jupyter~=0.9.9->mlrun) (6.16.0)\n",
      "Requirement already satisfied: prometheus-client in /opt/conda/lib/python3.9/site-packages (from notebook>=6.4->nuclio-jupyter~=0.9.9->mlrun) (0.14.1)\n",
      "Requirement already satisfied: jupyter-client>=5.3.4 in /opt/conda/lib/python3.9/site-packages (from notebook>=6.4->nuclio-jupyter~=0.9.9->mlrun) (7.3.4)\n",
      "Requirement already satisfied: ipython-genutils in /opt/conda/lib/python3.9/site-packages (from notebook>=6.4->nuclio-jupyter~=0.9.9->mlrun) (0.2.0)\n",
      "Requirement already satisfied: pyzmq>=17 in /opt/conda/lib/python3.9/site-packages (from notebook>=6.4->nuclio-jupyter~=0.9.9->mlrun) (24.0.1)\n",
      "Requirement already satisfied: pyparsing!=3.0.5,>=2.0.2 in /opt/conda/lib/python3.9/site-packages (from packaging>=20.0->dask~=2021.11.2->mlrun) (3.0.9)\n",
      "Requirement already satisfied: locket in /opt/conda/lib/python3.9/site-packages (from partd>=0.3.10->dask~=2021.11.2->mlrun) (1.0.0)\n",
      "Requirement already satisfied: ptyprocess>=0.5 in /opt/conda/lib/python3.9/site-packages (from pexpect>4.3->ipython<9.0,>=7.0->mlrun) (0.7.0)\n",
      "Requirement already satisfied: wcwidth in /opt/conda/lib/python3.9/site-packages (from prompt-toolkit<3.1.0,>3.0.1->ipython<9.0,>=7.0->mlrun) (0.2.5)\n",
      "Requirement already satisfied: anyio<5,>=3.4.0 in /opt/conda/lib/python3.9/site-packages (from starlette<0.26.0,>=0.25.0->fastapi~=0.92.0->mlrun) (3.6.1)\n",
      "Requirement already satisfied: wheel in /opt/conda/lib/python3.9/site-packages (from strip-hints<1,>=0.1.8->kfp<1.8.14,~=1.8.0->mlrun) (0.37.1)\n",
      "Requirement already satisfied: heapdict in /opt/conda/lib/python3.9/site-packages (from zict>=0.1.3->distributed~=2021.11.2->mlrun) (1.0.1)\n",
      "Requirement already satisfied: oauthlib>=3.0.0 in /opt/conda/lib/python3.9/site-packages (from requests-oauthlib->kubernetes~=12.0->mlrun) (3.2.1)\n",
      "Requirement already satisfied: executing in /opt/conda/lib/python3.9/site-packages (from stack-data->ipython<9.0,>=7.0->mlrun) (1.1.1)\n",
      "Requirement already satisfied: pure-eval in /opt/conda/lib/python3.9/site-packages (from stack-data->ipython<9.0,>=7.0->mlrun) (0.2.2)\n",
      "Requirement already satisfied: asttokens in /opt/conda/lib/python3.9/site-packages (from stack-data->ipython<9.0,>=7.0->mlrun) (2.0.8)\n",
      "Requirement already satisfied: sniffio>=1.1 in /opt/conda/lib/python3.9/site-packages (from anyio<5,>=3.4.0->starlette<0.26.0,>=0.25.0->fastapi~=0.92.0->mlrun) (1.3.0)\n",
      "Requirement already satisfied: google-crc32c<2.0dev,>=1.0 in /opt/conda/lib/python3.9/site-packages (from google-resumable-media<3.0dev,>=1.3.0->google-cloud-storage<2,>=1.20.0->kfp<1.8.14,~=1.8.0->mlrun) (1.5.0)\n",
      "Requirement already satisfied: zipp>=0.5 in /opt/conda/lib/python3.9/site-packages (from importlib-metadata>=3.6->nbconvert>=6.4.5->nuclio-jupyter~=0.9.9->mlrun) (3.9.0)\n",
      "Requirement already satisfied: entrypoints in /opt/conda/lib/python3.9/site-packages (from jupyter-client>=5.3.4->notebook>=6.4->nuclio-jupyter~=0.9.9->mlrun) (0.4)\n",
      "Requirement already satisfied: fastjsonschema in /opt/conda/lib/python3.9/site-packages (from nbformat>=5.1->nbconvert>=6.4.5->nuclio-jupyter~=0.9.9->mlrun) (2.16.2)\n",
      "Requirement already satisfied: pyasn1<0.5.0,>=0.4.6 in /opt/conda/lib/python3.9/site-packages (from pyasn1-modules>=0.2.1->google-auth<2,>=1.6.1->kfp<1.8.14,~=1.8.0->mlrun) (0.4.8)\n",
      "Requirement already satisfied: argon2-cffi-bindings in /opt/conda/lib/python3.9/site-packages (from argon2-cffi->notebook>=6.4->nuclio-jupyter~=0.9.9->mlrun) (21.2.0)\n",
      "Requirement already satisfied: soupsieve>1.2 in /opt/conda/lib/python3.9/site-packages (from beautifulsoup4->nbconvert>=6.4.5->nuclio-jupyter~=0.9.9->mlrun) (2.3.2.post1)\n",
      "Requirement already satisfied: webencodings in /opt/conda/lib/python3.9/site-packages (from bleach->nbconvert>=6.4.5->nuclio-jupyter~=0.9.9->mlrun) (0.5.1)\n",
      "Requirement already satisfied: debugpy>=1.0 in /opt/conda/lib/python3.9/site-packages (from ipykernel->notebook>=6.4->nuclio-jupyter~=0.9.9->mlrun) (1.6.3)\n",
      "Requirement already satisfied: cffi>=1.0.1 in /opt/conda/lib/python3.9/site-packages (from argon2-cffi-bindings->argon2-cffi->notebook>=6.4->nuclio-jupyter~=0.9.9->mlrun) (1.15.1)\n",
      "Requirement already satisfied: pycparser in /opt/conda/lib/python3.9/site-packages (from cffi>=1.0.1->argon2-cffi-bindings->argon2-cffi->notebook>=6.4->nuclio-jupyter~=0.9.9->mlrun) (2.21)\n",
      "\n",
      "\u001b[1m[\u001b[0m\u001b[34;49mnotice\u001b[0m\u001b[1;39;49m]\u001b[0m\u001b[39;49m A new release of pip available: \u001b[0m\u001b[31;49m22.3.1\u001b[0m\u001b[39;49m -> \u001b[0m\u001b[32;49m23.2.1\u001b[0m\n",
      "\u001b[1m[\u001b[0m\u001b[34;49mnotice\u001b[0m\u001b[1;39;49m]\u001b[0m\u001b[39;49m To update, run: \u001b[0m\u001b[32;49mpip install --upgrade pip\u001b[0m\n",
      "Note: you may need to restart the kernel to use updated packages.\n"
     ]
    }
   ],
   "source": [
    "%pip install mlrun"
   ]
  },
  {
   "cell_type": "code",
   "execution_count": 11,
   "id": "fd451546",
   "metadata": {},
   "outputs": [
    {
     "name": "stdout",
     "output_type": "stream",
     "text": [
      "> 2023-10-04 11:50:26,723 [info] Server and client versions are not the same but compatible: {'parsed_server_version': VersionInfo(major=1, minor=4, patch=0, prerelease=None, build=None), 'parsed_client_version': VersionInfo(major=1, minor=3, patch=0, prerelease=None, build=None)}\n",
      "> 2023-10-04 11:50:26,744 [info] loaded project yolo from MLRun DB\n"
     ]
    }
   ],
   "source": [
    "import mlrun\n",
    "\n",
    "project = mlrun.get_or_create_project('yolo', context=\"./\", user_project=True)"
   ]
  },
  {
   "cell_type": "code",
   "execution_count": 12,
   "id": "9e7f971b-9442-46a8-a81e-67c1c7beb5d4",
   "metadata": {},
   "outputs": [],
   "source": [
    "project.set_secrets(secrets=secrets, provider=\"kubernetes\")"
   ]
  },
  {
   "cell_type": "code",
   "execution_count": 13,
   "id": "dccdd126",
   "metadata": {},
   "outputs": [],
   "source": [
    "object_tracker = mlrun.code_to_function('object_tracker', filename='image_tracking.py', kind='serving',image='mlrun/ml-models')"
   ]
  },
  {
   "cell_type": "code",
   "execution_count": 14,
   "id": "c7baa97a-93f3-4268-9237-646b38a29e5a",
   "metadata": {},
   "outputs": [],
   "source": [
    "# define resources\n",
    "object_tracker.spec.replicas = 1\n",
    "object_tracker.with_limits(mem=\"3G\", cpu=2)"
   ]
  },
  {
   "cell_type": "code",
   "execution_count": 15,
   "id": "1ea7071f",
   "metadata": {},
   "outputs": [],
   "source": [
    "object_tracker.spec.build.commands = [\n",
    "    \"apt-get update && apt-get install -y cmake gcc g++ libglu1-mesa-dev\",\n",
    "    \"python -m pip install -r https://raw.githubusercontent.com/ultralytics/yolov5/master/requirements.txt\",\n",
    "    \"python -m pip install minio\"\n",
    "]"
   ]
  },
  {
   "cell_type": "code",
   "execution_count": 16,
   "id": "02898a36",
   "metadata": {},
   "outputs": [
    {
     "data": {
      "text/plain": [
       "<mlrun.serving.states.TaskStep at 0x7fdcc87d0460>"
      ]
     },
     "execution_count": 16,
     "metadata": {},
     "output_type": "execute_result"
    }
   ],
   "source": [
    "object_tracker.add_model('Pytorch',model_path=  ' ', class_name='TrackingModel')"
   ]
  },
  {
   "cell_type": "code",
   "execution_count": 17,
   "id": "a9495bef",
   "metadata": {},
   "outputs": [
    {
     "data": {
      "image/svg+xml": [
       "<?xml version=\"1.0\" encoding=\"UTF-8\" standalone=\"no\"?>\n",
       "<!DOCTYPE svg PUBLIC \"-//W3C//DTD SVG 1.1//EN\"\n",
       " \"http://www.w3.org/Graphics/SVG/1.1/DTD/svg11.dtd\">\n",
       "<!-- Generated by graphviz version 2.43.0 (0)\n",
       " -->\n",
       "<!-- Title: mlrun&#45;flow Pages: 1 -->\n",
       "<svg width=\"276pt\" height=\"52pt\"\n",
       " viewBox=\"0.00 0.00 276.18 52.00\" xmlns=\"http://www.w3.org/2000/svg\" xmlns:xlink=\"http://www.w3.org/1999/xlink\">\n",
       "<g id=\"graph0\" class=\"graph\" transform=\"scale(1 1) rotate(0) translate(4 48)\">\n",
       "<title>mlrun&#45;flow</title>\n",
       "<polygon fill=\"white\" stroke=\"transparent\" points=\"-4,4 -4,-48 272.18,-48 272.18,4 -4,4\"/>\n",
       "<!-- _start -->\n",
       "<g id=\"node1\" class=\"node\">\n",
       "<title>_start</title>\n",
       "<polygon fill=\"lightgrey\" stroke=\"black\" points=\"31.43,-4.05 33.2,-4.15 34.96,-4.3 36.69,-4.49 38.39,-4.74 40.05,-5.03 41.67,-5.36 43.23,-5.75 44.73,-6.18 46.17,-6.65 47.54,-7.16 48.84,-7.71 50.06,-8.31 51.2,-8.94 52.25,-9.61 53.22,-10.31 54.09,-11.04 54.87,-11.8 55.56,-12.59 56.15,-13.41 56.65,-14.25 57.05,-15.11 57.36,-15.99 57.58,-16.89 57.7,-17.8 57.73,-18.72 57.68,-19.65 57.54,-20.59 57.31,-21.53 57.01,-22.47 56.63,-23.41 56.18,-24.35 55.66,-25.28 55.08,-26.2 54.43,-27.11 53.72,-28.01 52.97,-28.89 52.16,-29.75 51.3,-30.59 50.41,-31.41 49.48,-32.2 48.51,-32.96 47.51,-33.69 46.48,-34.39 45.43,-35.06 44.35,-35.69 43.26,-36.29 42.15,-36.84 41.02,-37.35 39.89,-37.82 38.74,-38.25 37.58,-38.64 36.42,-38.97 35.24,-39.26 34.07,-39.51 32.89,-39.7 31.71,-39.85 30.52,-39.95 29.34,-40 28.15,-40 26.96,-39.95 25.78,-39.85 24.6,-39.7 23.42,-39.51 22.24,-39.26 21.07,-38.97 19.91,-38.64 18.75,-38.25 17.6,-37.82 16.46,-37.35 15.34,-36.84 14.23,-36.29 13.13,-35.69 12.06,-35.06 11.01,-34.39 9.98,-33.69 8.98,-32.96 8.01,-32.2 7.08,-31.41 6.18,-30.59 5.33,-29.75 4.52,-28.89 3.76,-28.01 3.06,-27.11 2.41,-26.2 1.83,-25.28 1.3,-24.35 0.85,-23.41 0.47,-22.47 0.17,-21.53 -0.05,-20.59 -0.19,-19.65 -0.25,-18.72 -0.21,-17.8 -0.09,-16.89 0.13,-15.99 0.43,-15.11 0.84,-14.25 1.34,-13.41 1.93,-12.59 2.62,-11.8 3.4,-11.04 4.27,-10.31 5.24,-9.61 6.29,-8.94 7.43,-8.31 8.65,-7.71 9.94,-7.16 11.31,-6.65 12.75,-6.18 14.26,-5.75 15.82,-5.36 17.44,-5.03 19.1,-4.74 20.79,-4.49 22.53,-4.3 24.28,-4.15 26.06,-4.05 27.85,-4 29.64,-4 31.43,-4.05\"/>\n",
       "<text text-anchor=\"middle\" x=\"28.74\" y=\"-18.3\" font-family=\"Times,serif\" font-size=\"14.00\">start</text>\n",
       "</g>\n",
       "<g id=\"node2\" class=\"node\">\n",
       "<title></title>\n",
       "<polygon fill=\"none\" stroke=\"black\" points=\"151.49,-14.54 151.49,-29.46 135.67,-40 113.3,-40 97.49,-29.46 97.49,-14.54 113.3,-4 135.67,-4 151.49,-14.54\"/>\n",
       "<polygon fill=\"none\" stroke=\"black\" points=\"155.49,-12.4 155.49,-31.6 136.88,-44 112.09,-44 93.49,-31.6 93.49,-12.4 112.09,0 136.88,0 155.49,-12.4\"/>\n",
       "</g>\n",
       "<!-- _start&#45;&gt; -->\n",
       "<g id=\"edge1\" class=\"edge\">\n",
       "<title>_start&#45;&gt;</title>\n",
       "<path fill=\"none\" stroke=\"black\" d=\"M57.36,-22C65.51,-22 74.61,-22 83.38,-22\"/>\n",
       "<polygon fill=\"black\" stroke=\"black\" points=\"83.45,-25.5 93.45,-22 83.45,-18.5 83.45,-25.5\"/>\n",
       "</g>\n",
       "<!-- Pytorch -->\n",
       "<g id=\"node3\" class=\"node\">\n",
       "<title>Pytorch</title>\n",
       "<ellipse fill=\"none\" stroke=\"black\" cx=\"229.83\" cy=\"-22\" rx=\"38.19\" ry=\"18\"/>\n",
       "<text text-anchor=\"middle\" x=\"229.83\" y=\"-18.3\" font-family=\"Times,serif\" font-size=\"14.00\">Pytorch</text>\n",
       "</g>\n",
       "<!-- &#45;&gt;Pytorch -->\n",
       "<g id=\"edge2\" class=\"edge\">\n",
       "<title>&#45;&gt;Pytorch</title>\n",
       "<path fill=\"none\" stroke=\"black\" d=\"M155.66,-22C163.71,-22 172.61,-22 181.34,-22\"/>\n",
       "<polygon fill=\"black\" stroke=\"black\" points=\"181.47,-25.5 191.47,-22 181.47,-18.5 181.47,-25.5\"/>\n",
       "</g>\n",
       "</g>\n",
       "</svg>\n"
      ],
      "text/plain": [
       "<graphviz.graphs.Digraph at 0x7fdd53dd7790>"
      ]
     },
     "execution_count": 17,
     "metadata": {},
     "output_type": "execute_result"
    }
   ],
   "source": [
    "object_tracker.spec.graph.plot(rankdir=\"LR\")    "
   ]
  },
  {
   "cell_type": "code",
   "execution_count": 18,
   "id": "c0f5b777-8e6e-466d-b87f-39c9fef5d06e",
   "metadata": {},
   "outputs": [
    {
     "data": {
      "image/svg+xml": [
       "<?xml version=\"1.0\" encoding=\"UTF-8\" standalone=\"no\"?>\n",
       "<!DOCTYPE svg PUBLIC \"-//W3C//DTD SVG 1.1//EN\"\n",
       " \"http://www.w3.org/Graphics/SVG/1.1/DTD/svg11.dtd\">\n",
       "<!-- Generated by graphviz version 2.43.0 (0)\n",
       " -->\n",
       "<!-- Title: mlrun&#45;flow Pages: 1 -->\n",
       "<svg width=\"276pt\" height=\"52pt\"\n",
       " viewBox=\"0.00 0.00 276.18 52.00\" xmlns=\"http://www.w3.org/2000/svg\" xmlns:xlink=\"http://www.w3.org/1999/xlink\">\n",
       "<g id=\"graph0\" class=\"graph\" transform=\"scale(1 1) rotate(0) translate(4 48)\">\n",
       "<title>mlrun&#45;flow</title>\n",
       "<polygon fill=\"white\" stroke=\"transparent\" points=\"-4,4 -4,-48 272.18,-48 272.18,4 -4,4\"/>\n",
       "<!-- _start -->\n",
       "<g id=\"node1\" class=\"node\">\n",
       "<title>_start</title>\n",
       "<polygon fill=\"lightgrey\" stroke=\"black\" points=\"31.43,-4.05 33.2,-4.15 34.96,-4.3 36.69,-4.49 38.39,-4.74 40.05,-5.03 41.67,-5.36 43.23,-5.75 44.73,-6.18 46.17,-6.65 47.54,-7.16 48.84,-7.71 50.06,-8.31 51.2,-8.94 52.25,-9.61 53.22,-10.31 54.09,-11.04 54.87,-11.8 55.56,-12.59 56.15,-13.41 56.65,-14.25 57.05,-15.11 57.36,-15.99 57.58,-16.89 57.7,-17.8 57.73,-18.72 57.68,-19.65 57.54,-20.59 57.31,-21.53 57.01,-22.47 56.63,-23.41 56.18,-24.35 55.66,-25.28 55.08,-26.2 54.43,-27.11 53.72,-28.01 52.97,-28.89 52.16,-29.75 51.3,-30.59 50.41,-31.41 49.48,-32.2 48.51,-32.96 47.51,-33.69 46.48,-34.39 45.43,-35.06 44.35,-35.69 43.26,-36.29 42.15,-36.84 41.02,-37.35 39.89,-37.82 38.74,-38.25 37.58,-38.64 36.42,-38.97 35.24,-39.26 34.07,-39.51 32.89,-39.7 31.71,-39.85 30.52,-39.95 29.34,-40 28.15,-40 26.96,-39.95 25.78,-39.85 24.6,-39.7 23.42,-39.51 22.24,-39.26 21.07,-38.97 19.91,-38.64 18.75,-38.25 17.6,-37.82 16.46,-37.35 15.34,-36.84 14.23,-36.29 13.13,-35.69 12.06,-35.06 11.01,-34.39 9.98,-33.69 8.98,-32.96 8.01,-32.2 7.08,-31.41 6.18,-30.59 5.33,-29.75 4.52,-28.89 3.76,-28.01 3.06,-27.11 2.41,-26.2 1.83,-25.28 1.3,-24.35 0.85,-23.41 0.47,-22.47 0.17,-21.53 -0.05,-20.59 -0.19,-19.65 -0.25,-18.72 -0.21,-17.8 -0.09,-16.89 0.13,-15.99 0.43,-15.11 0.84,-14.25 1.34,-13.41 1.93,-12.59 2.62,-11.8 3.4,-11.04 4.27,-10.31 5.24,-9.61 6.29,-8.94 7.43,-8.31 8.65,-7.71 9.94,-7.16 11.31,-6.65 12.75,-6.18 14.26,-5.75 15.82,-5.36 17.44,-5.03 19.1,-4.74 20.79,-4.49 22.53,-4.3 24.28,-4.15 26.06,-4.05 27.85,-4 29.64,-4 31.43,-4.05\"/>\n",
       "<text text-anchor=\"middle\" x=\"28.74\" y=\"-18.3\" font-family=\"Times,serif\" font-size=\"14.00\">start</text>\n",
       "</g>\n",
       "<g id=\"node2\" class=\"node\">\n",
       "<title></title>\n",
       "<polygon fill=\"none\" stroke=\"black\" points=\"151.49,-14.54 151.49,-29.46 135.67,-40 113.3,-40 97.49,-29.46 97.49,-14.54 113.3,-4 135.67,-4 151.49,-14.54\"/>\n",
       "<polygon fill=\"none\" stroke=\"black\" points=\"155.49,-12.4 155.49,-31.6 136.88,-44 112.09,-44 93.49,-31.6 93.49,-12.4 112.09,0 136.88,0 155.49,-12.4\"/>\n",
       "</g>\n",
       "<!-- _start&#45;&gt; -->\n",
       "<g id=\"edge1\" class=\"edge\">\n",
       "<title>_start&#45;&gt;</title>\n",
       "<path fill=\"none\" stroke=\"black\" d=\"M57.36,-22C65.51,-22 74.61,-22 83.38,-22\"/>\n",
       "<polygon fill=\"black\" stroke=\"black\" points=\"83.45,-25.5 93.45,-22 83.45,-18.5 83.45,-25.5\"/>\n",
       "</g>\n",
       "<!-- Pytorch -->\n",
       "<g id=\"node3\" class=\"node\">\n",
       "<title>Pytorch</title>\n",
       "<ellipse fill=\"none\" stroke=\"black\" cx=\"229.83\" cy=\"-22\" rx=\"38.19\" ry=\"18\"/>\n",
       "<text text-anchor=\"middle\" x=\"229.83\" y=\"-18.3\" font-family=\"Times,serif\" font-size=\"14.00\">Pytorch</text>\n",
       "</g>\n",
       "<!-- &#45;&gt;Pytorch -->\n",
       "<g id=\"edge2\" class=\"edge\">\n",
       "<title>&#45;&gt;Pytorch</title>\n",
       "<path fill=\"none\" stroke=\"black\" d=\"M155.66,-22C163.71,-22 172.61,-22 181.34,-22\"/>\n",
       "<polygon fill=\"black\" stroke=\"black\" points=\"181.47,-25.5 191.47,-22 181.47,-18.5 181.47,-25.5\"/>\n",
       "</g>\n",
       "</g>\n",
       "</svg>\n"
      ],
      "text/plain": [
       "<graphviz.graphs.Digraph at 0x7fdd06dcc4c0>"
      ]
     },
     "execution_count": 18,
     "metadata": {},
     "output_type": "execute_result"
    }
   ],
   "source": [
    "# create object detector\n",
    "object_detector = mlrun.code_to_function('object_detector', filename='image_objects.py', kind='serving',image='mlrun/ml-models')\n",
    "# define resources\n",
    "object_detector.spec.replicas = 1\n",
    "object_detector.with_limits(mem=\"3G\", cpu=2)\n",
    "object_detector.spec.build.commands = [\n",
    "    \"apt-get update && apt-get install -y cmake gcc g++ libglu1-mesa-dev\",\n",
    "    \"python -m pip install -r https://raw.githubusercontent.com/ultralytics/yolov5/master/requirements.txt\",\n",
    "    \"python -m pip install minio\"\n",
    "]\n",
    "object_detector.add_model('Pytorch',model_path=  ' ', class_name='ObjectDetector')\n",
    "object_detector.spec.graph.plot(rankdir=\"LR\")    "
   ]
  },
  {
   "cell_type": "markdown",
   "id": "46b855fe",
   "metadata": {},
   "source": [
    "Install dependencies to local testing"
   ]
  },
  {
   "cell_type": "markdown",
   "id": "944ed30a",
   "metadata": {},
   "source": [
    "### Deploy Model Server on Nucleo and test"
   ]
  },
  {
   "cell_type": "code",
   "execution_count": 19,
   "id": "784d8be8",
   "metadata": {},
   "outputs": [
    {
     "name": "stdout",
     "output_type": "stream",
     "text": [
      "> 2023-10-04 11:50:26,865 [warning] it is recommended to use k8s secret (specify secret_name), specifying the aws_access_key/aws_secret_key directly is unsafe\n",
      "> 2023-10-04 11:50:26,868 [info] Starting remote function deploy\n",
      "2023-10-04 11:50:26  (info) Deploying function\n",
      "2023-10-04 11:50:26  (info) Building\n",
      "2023-10-04 11:50:26  (info) Staging files and preparing base images\n",
      "2023-10-04 11:50:26  (info) Building processor image\n",
      "2023-10-04 11:52:02  (info) Build complete\n",
      "2023-10-04 11:52:10  (info) Function deploy complete\n",
      "> 2023-10-04 11:52:17,398 [info] successfully deployed function: {'internal_invocation_urls': ['nuclio-yolo-test-object-tracker.digitalhub-test.svc.cluster.local:8080'], 'external_invocation_urls': [':31780']}\n"
     ]
    }
   ],
   "source": [
    "import time\n",
    "\n",
    "project.deploy_function(object_tracker)\n",
    "# wait 30s after the deployment to the server statup \n",
    "time.sleep(30)"
   ]
  },
  {
   "cell_type": "code",
   "execution_count": 20,
   "id": "acc24784-b5a9-4a9d-b27c-7120131480d4",
   "metadata": {},
   "outputs": [
    {
     "name": "stdout",
     "output_type": "stream",
     "text": [
      "> 2023-10-04 11:52:47,470 [warning] it is recommended to use k8s secret (specify secret_name), specifying the aws_access_key/aws_secret_key directly is unsafe\n",
      "> 2023-10-04 11:52:47,472 [info] Starting remote function deploy\n",
      "2023-10-04 11:52:47  (info) Deploying function\n",
      "2023-10-04 11:52:47  (info) Building\n",
      "2023-10-04 11:52:47  (info) Staging files and preparing base images\n",
      "2023-10-04 11:52:47  (info) Building processor image\n",
      "2023-10-04 11:54:52  (info) Build complete\n",
      "2023-10-04 11:55:02  (info) Function deploy complete\n",
      "> 2023-10-04 11:55:08,058 [info] successfully deployed function: {'internal_invocation_urls': ['nuclio-yolo-test-object-detector.digitalhub-test.svc.cluster.local:8080'], 'external_invocation_urls': [':32736']}\n"
     ]
    }
   ],
   "source": [
    "import time\n",
    "\n",
    "project.deploy_function(object_detector)\n",
    "# wait 30s after the deployment to the server statup \n",
    "time.sleep(30)"
   ]
  },
  {
   "cell_type": "code",
   "execution_count": 21,
   "id": "6eb96f1d",
   "metadata": {},
   "outputs": [
    {
     "name": "stdout",
     "output_type": "stream",
     "text": [
      "> 2023-10-04 11:55:38,123 [info] invoking function: {'method': 'POST', 'path': 'http://nuclio-yolo-test-object-detector.digitalhub-test.svc.cluster.local:8080/v2/models/Pytorch/infer'}\n"
     ]
    }
   ],
   "source": [
    "sample = {\"inputs\": file_names, \"bucket\": \"video\"}\n",
    "result = object_detector.invoke(path=f\"/v2/models/Pytorch/infer\", body=sample)"
   ]
  },
  {
   "cell_type": "code",
   "execution_count": 22,
   "id": "62a3c604-357b-4284-b348-b294e5ac63b4",
   "metadata": {},
   "outputs": [
    {
     "name": "stdout",
     "output_type": "stream",
     "text": [
      "> 2023-10-04 11:56:07,552 [info] invoking function: {'method': 'POST', 'path': 'http://nuclio-yolo-test-object-tracker.digitalhub-test.svc.cluster.local:8080/v2/models/Pytorch/infer'}\n"
     ]
    }
   ],
   "source": [
    "sample = {\"inputs\": file_names, \"bucket\": \"video\"}\n",
    "result = object_tracker.invoke(path=f\"/v2/models/Pytorch/infer\", body=sample)"
   ]
  },
  {
   "cell_type": "markdown",
   "id": "5640b38d",
   "metadata": {},
   "source": [
    "### Remake video"
   ]
  },
  {
   "cell_type": "markdown",
   "id": "7debfc39",
   "metadata": {},
   "source": [
    "The OpenCV version from pip only supports the mp4v codec due to license issues. To support other codecs, you can install OpenCV from the conda-forge channel.\n",
    "\n",
    "```conda install -c conda-forge opencv```\n",
    "\n",
    "or via apt:\n",
    "\n",
    "```apt-get install python3-opencv```"
   ]
  },
  {
   "cell_type": "code",
   "execution_count": 23,
   "id": "fb6edbad",
   "metadata": {},
   "outputs": [],
   "source": [
    "v.frames_to_video(\"data/mov_bbb.mp4/\", True)"
   ]
  }
 ],
 "metadata": {
  "kernelspec": {
   "display_name": "Python 3 (ipykernel)",
   "language": "python",
   "name": "python3"
  },
  "language_info": {
   "codemirror_mode": {
    "name": "ipython",
    "version": 3
   },
   "file_extension": ".py",
   "mimetype": "text/x-python",
   "name": "python",
   "nbconvert_exporter": "python",
   "pygments_lexer": "ipython3",
   "version": "3.9.13"
  }
 },
 "nbformat": 4,
 "nbformat_minor": 5
}
