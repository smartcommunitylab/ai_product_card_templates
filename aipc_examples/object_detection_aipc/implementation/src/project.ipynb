{
 "cells": [
  {
   "cell_type": "code",
   "execution_count": null,
   "id": "6e32aaef-75ba-4044-af48-04b59188bab8",
   "metadata": {},
   "outputs": [],
   "source": [
    "%pip install -r requirements.txt"
   ]
  },
  {
   "cell_type": "code",
   "execution_count": null,
   "id": "71c666a4-1fb9-4c4e-ab3e-906f2b95fa64",
   "metadata": {},
   "outputs": [],
   "source": [
    "%pip install mlflow"
   ]
  },
  {
   "cell_type": "code",
   "execution_count": null,
   "id": "edbc8c1d-a4e7-4035-8240-d4fc69191aad",
   "metadata": {},
   "outputs": [],
   "source": [
    "import digitalhub as dh"
   ]
  },
  {
   "cell_type": "markdown",
   "id": "4f0a32d9-d471-4892-b021-52edd293d13d",
   "metadata": {},
   "source": [
    "# Create the project "
   ]
  },
  {
   "cell_type": "code",
   "execution_count": null,
   "id": "ff08700f-0e7a-41b5-afbb-6c2687238ae9",
   "metadata": {},
   "outputs": [],
   "source": [
    "PROJECT = \"demo-object-detection\"\n",
    "project = dh.get_or_create_project(PROJECT)"
   ]
  },
  {
   "cell_type": "markdown",
   "id": "9f0160d9-bf11-40f6-a460-8b6272839aba",
   "metadata": {},
   "source": [
    "## Create the training function"
   ]
  },
  {
   "cell_type": "code",
   "execution_count": null,
   "id": "e36d4e7e-756c-4770-87a5-120ab36aab3c",
   "metadata": {
    "scrolled": true
   },
   "outputs": [],
   "source": [
    "from digitalhub_runtime_python import handler\n",
    "from digitalhub_ml.entities.utils import from_mlflow_run\n",
    "import mlflow\n",
    "\n",
    "from ultralytics import YOLO\n",
    "\n",
    "mlflow.autolog(log_datasets=True)\n",
    "with mlflow.start_run():\n",
    "    # Load and train your YOLOv8 model\n",
    "    model = YOLO('yolov8n.pt')\n",
    "    results = model.train(data='coco8.yaml', epochs=100, imgsz=640)\n",
    "\n",
    "    # Log parameters, metrics, and model\n",
    "    mlflow.log_params({\"epochs\": 100, \"model\": \"yolov8n.pt\", \"data\": \"coco8.yaml\"})\n",
    "    #mlflow.log_metrics({\"mAP_0.5\": results.map50, \"mAP_0.5:0.95\": results.map})\n",
    "    mlflow.pytorch.log_model(model, \"model\")\n",
    "\n",
    "    # End the run\n",
    "    mlflow.end_run()\n",
    "\n",
    "# utility to map mlflow run artifacts to model metadata\n",
    "run_id = mlflow.last_active_run().info.run_id\n",
    "model_params = from_mlflow_run(run_id)\n"
   ]
  },
  {
   "cell_type": "code",
   "execution_count": null,
   "id": "0da48ffc-ac22-49d2-ae8b-802f0a716c0b",
   "metadata": {},
   "outputs": [],
   "source": [
    "%%writefile functions/train-model.py\n",
    "\n",
    "from digitalhub_runtime_python import handler\n",
    "from digitalhub_ml.entities.utils import from_mlflow_run\n",
    "import mlflow\n",
    "\n",
    "from ultralytics import YOLO\n",
    "\n",
    "@handler()\n",
    "def train(project):\n",
    "    mlflow.autolog(log_datasets=True)\n",
    "    with mlflow.start_run():\n",
    "        # Load and train your YOLOv8 model\n",
    "        model = YOLO('yolov8n.pt')\n",
    "        results = model.train(data='coco8.yaml', epochs=100, imgsz=640)\n",
    "    \n",
    "        # Log parameters, metrics, and model\n",
    "        mlflow.log_params({\"epochs\": 100, \"model\": \"yolov8n.pt\", \"data\": \"coco8.yaml\"})\n",
    "        mlflow.pytorch.log_model(model, \"model\")\n",
    "    \n",
    "        # End the run\n",
    "        mlflow.end_run()\n",
    "\n",
    "    # utility to map mlflow run artifacts to model metadata\n",
    "    run_id = mlflow.last_active_run().info.run_id\n",
    "    model_params = from_mlflow_run(run_id)\n",
    "\n",
    "    project.log_model(\n",
    "        name=\"model-mlflow-yolo\",\n",
    "        kind=\"mlflow\",\n",
    "        **model_params\n",
    ")"
   ]
  },
  {
   "cell_type": "code",
   "execution_count": null,
   "id": "c4b614bc-62b1-441d-abd8-a947ce7478c4",
   "metadata": {},
   "outputs": [],
   "source": [
    "# Define the training function inside the project\n",
    "train_fn = project.new_function(\n",
    "                         name=\"train\",\n",
    "                         kind=\"python\",\n",
    "                         python_version=\"PYTHON3_9\",\n",
    "                         source={\"source\": \"functions/train-model.py\", \"handler\": \"train\"},\n",
    "                         requirements=[\"ultralytics==8.2.82\", \"mlflow==2.15.1\"])"
   ]
  },
  {
   "cell_type": "code",
   "execution_count": null,
   "id": "1f05d94a-086c-4e2f-b605-3408ea5407b2",
   "metadata": {
    "scrolled": true
   },
   "outputs": [],
   "source": [
    "train_run = train_fn.run(action=\"job\", local_execution=True)"
   ]
  },
  {
   "cell_type": "code",
   "execution_count": null,
   "id": "a42906fe-69d3-44ff-91a0-31c887fae3b6",
   "metadata": {},
   "outputs": [],
   "source": []
  },
  {
   "cell_type": "code",
   "execution_count": null,
   "id": "06e264f4-51ef-488f-8f3f-a0e42840e80e",
   "metadata": {},
   "outputs": [],
   "source": []
  },
  {
   "cell_type": "code",
   "execution_count": null,
   "id": "ee30bc45-530e-42a2-8d8d-d1ace60cc2b8",
   "metadata": {},
   "outputs": [],
   "source": []
  },
  {
   "cell_type": "markdown",
   "id": "ec183f13-151c-495d-ae17-1713d1cbc16b",
   "metadata": {},
   "source": [
    "# Simple training version"
   ]
  },
  {
   "cell_type": "code",
   "execution_count": null,
   "id": "47283bed-9f47-4a2c-a059-f1adbab2bb00",
   "metadata": {
    "scrolled": true
   },
   "outputs": [],
   "source": [
    "\n",
    "from ultralytics import YOLO\n",
    "\n",
    "# Load a model\n",
    "model = YOLO(\"yolov8n.pt\")  # load a pretrained model (recommended for training)\n",
    "\n",
    "# Train the model\n",
    "results = model.train(data=\"coco8.yaml\", epochs=100, imgsz=640)"
   ]
  },
  {
   "cell_type": "code",
   "execution_count": null,
   "id": "9bd0cef6-8000-49fc-8771-e3bde5ed5620",
   "metadata": {},
   "outputs": [],
   "source": [
    "results = model([\"000000000061.jpg\"])"
   ]
  },
  {
   "cell_type": "code",
   "execution_count": null,
   "id": "f753d7b7-bc49-4911-b9a2-561d5619bdcb",
   "metadata": {},
   "outputs": [],
   "source": [
    "# Process results list\n",
    "for result in results:\n",
    "    boxes = result.boxes  # Boxes object for bounding box outputs\n",
    "    masks = result.masks  # Masks object for segmentation masks outputs\n",
    "    keypoints = result.keypoints  # Keypoints object for pose outputs\n",
    "    probs = result.probs  # Probs object for classification outputs\n",
    "    obb = result.obb  # Oriented boxes object for OBB outputs\n",
    "    result.show()  # display to screen\n",
    "    result.save(filename=\"result.jpg\")  # save to disk"
   ]
  },
  {
   "cell_type": "code",
   "execution_count": null,
   "id": "c594b1af-a6e5-4503-964d-62b5f7b1d1c9",
   "metadata": {},
   "outputs": [],
   "source": []
  }
 ],
 "metadata": {
  "kernelspec": {
   "display_name": "Python 3 (ipykernel)",
   "language": "python",
   "name": "python3"
  },
  "language_info": {
   "codemirror_mode": {
    "name": "ipython",
    "version": 3
   },
   "file_extension": ".py",
   "mimetype": "text/x-python",
   "name": "python",
   "nbconvert_exporter": "python",
   "pygments_lexer": "ipython3",
   "version": "3.10.11"
  }
 },
 "nbformat": 4,
 "nbformat_minor": 5
}
