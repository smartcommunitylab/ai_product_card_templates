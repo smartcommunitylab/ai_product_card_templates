{
 "cells": [
  {
   "cell_type": "code",
   "execution_count": 1,
   "id": "47283bed-9f47-4a2c-a059-f1adbab2bb00",
   "metadata": {},
   "outputs": [],
   "source": [
    "import mlrun"
   ]
  },
  {
   "cell_type": "markdown",
   "id": "9d2faf41-b8b5-4233-84f6-7bf8f6241a6f",
   "metadata": {},
   "source": [
    "# Create the 'Legal Acts Classification' AIPC project"
   ]
  },
  {
   "cell_type": "code",
   "execution_count": 90,
   "id": "095725e7-4836-4461-9cd5-d0fb485ca238",
   "metadata": {},
   "outputs": [
    {
     "name": "stdout",
     "output_type": "stream",
     "text": [
      "Project Source: https://github.com/smartcommunitylab/ai_product_card_templates/tree/main/aipc_examples/document_classification_aipc/fasttext\n",
      "> 2024-02-27 14:07:31,962 [debug] Auto mount disabled due to user selection (auto_mount_type=none)\n",
      "> 2024-02-27 14:07:32,188 [info] Project loaded successfully: {'project_name': 'fasttext-aipc'}\n"
     ]
    }
   ],
   "source": [
    "project = mlrun.get_or_create_project(\n",
    "    name=\"fasttext-aipc\",\n",
    "    context=\"./\",\n",
    "    parameters={\n",
    "        \"source\": \"https://github.com/smartcommunitylab/ai_product_card_templates/tree/main/aipc_examples/document_classification_aipc/fasttext\",\n",
    "        \"default_image\": \"mlrun/mlrun\",\n",
    "        \"requirements_file\": \"./requirements.txt\",\n",
    "        \"metadata_path\": \"../../metadata/\"\n",
    "    }\n",
    ")"
   ]
  },
  {
   "cell_type": "code",
   "execution_count": null,
   "id": "ff3f50d4-1f87-4293-a684-5f8694ea6490",
   "metadata": {},
   "outputs": [],
   "source": []
  },
  {
   "cell_type": "markdown",
   "id": "5f609568-5e80-41f8-a9c7-94e075e7fcb5",
   "metadata": {},
   "source": [
    "## Create specific workflow"
   ]
  },
  {
   "cell_type": "code",
   "execution_count": 92,
   "id": "4fdb558e-4cb2-446b-8df2-a10176d63a53",
   "metadata": {},
   "outputs": [],
   "source": [
    "project.set_workflow(\n",
    "        \"classification\",\n",
    "        workflow_path=\"./workflows/main_workflow.py\",\n",
    "        engine=\"kfp\",\n",
    "        handler=\"classification_pipeline\"\n",
    ")"
   ]
  },
  {
   "cell_type": "code",
   "execution_count": null,
   "id": "92623058-37d6-4e40-8172-746077408564",
   "metadata": {},
   "outputs": [],
   "source": []
  },
  {
   "cell_type": "markdown",
   "id": "8c9f4318-1a3b-4e2b-8aea-a67040afdbd0",
   "metadata": {},
   "source": [
    "## Run specific worklows from the project"
   ]
  },
  {
   "cell_type": "code",
   "execution_count": 95,
   "id": "7765c9f9-fd18-497e-ad06-bf3c6043459c",
   "metadata": {
    "collapsed": true,
    "jupyter": {
     "outputs_hidden": true
    },
    "tags": []
   },
   "outputs": [
    {
     "name": "stdout",
     "output_type": "stream",
     "text": [
      "> 2024-02-28 13:41:03,892 [warning] running kubeflow pipeline locally, note some ops may not run locally!\n"
     ]
    },
    {
     "ename": "ModuleNotFoundError",
     "evalue": "No module named 'drift_detection_evidently'",
     "output_type": "error",
     "traceback": [
      "\u001b[0;31m---------------------------------------------------------------------------\u001b[0m",
      "\u001b[0;31mModuleNotFoundError\u001b[0m                       Traceback (most recent call last)",
      "Cell \u001b[0;32mIn [95], line 3\u001b[0m\n\u001b[1;32m      1\u001b[0m \u001b[38;5;66;03m# Run the main workflow\u001b[39;00m\n\u001b[1;32m      2\u001b[0m data_url \u001b[38;5;241m=\u001b[39m \u001b[38;5;124m\"\u001b[39m\u001b[38;5;124mhttps://drive.usercontent.google.com/u/0/uc?id=11xy6a6cbteD2TG9r3CU16ysO50xrqZf2&export=download\u001b[39m\u001b[38;5;124m\"\u001b[39m\n\u001b[0;32m----> 3\u001b[0m \u001b[43mproject\u001b[49m\u001b[38;5;241;43m.\u001b[39;49m\u001b[43mrun\u001b[49m\u001b[43m(\u001b[49m\u001b[38;5;124;43m\"\u001b[39;49m\u001b[38;5;124;43mclassification\u001b[39;49m\u001b[38;5;124;43m\"\u001b[39;49m\u001b[43m,\u001b[49m\u001b[43m \u001b[49m\u001b[43marguments\u001b[49m\u001b[38;5;241;43m=\u001b[39;49m\u001b[43m{\u001b[49m\u001b[38;5;124;43m'\u001b[39;49m\u001b[38;5;124;43mdata\u001b[39;49m\u001b[38;5;124;43m'\u001b[39;49m\u001b[43m:\u001b[49m\u001b[43m \u001b[49m\u001b[43mdata_url\u001b[49m\u001b[43m}\u001b[49m\u001b[43m)\u001b[49m\n",
      "File \u001b[0;32m/opt/conda/lib/python3.9/site-packages/mlrun/projects/project.py:2327\u001b[0m, in \u001b[0;36mMlrunProject.run\u001b[0;34m(self, name, workflow_path, arguments, artifact_path, workflow_handler, namespace, sync, watch, dirty, ttl, engine, local, schedule, timeout, overwrite, source, cleanup_ttl)\u001b[0m\n\u001b[1;32m   2324\u001b[0m     inner_engine \u001b[38;5;241m=\u001b[39m get_workflow_engine(workflow_spec\u001b[38;5;241m.\u001b[39mengine, local)\u001b[38;5;241m.\u001b[39mengine\n\u001b[1;32m   2325\u001b[0m workflow_spec\u001b[38;5;241m.\u001b[39mengine \u001b[38;5;241m=\u001b[39m inner_engine \u001b[38;5;129;01mor\u001b[39;00m workflow_engine\u001b[38;5;241m.\u001b[39mengine\n\u001b[0;32m-> 2327\u001b[0m run \u001b[38;5;241m=\u001b[39m \u001b[43mworkflow_engine\u001b[49m\u001b[38;5;241;43m.\u001b[39;49m\u001b[43mrun\u001b[49m\u001b[43m(\u001b[49m\n\u001b[1;32m   2328\u001b[0m \u001b[43m    \u001b[49m\u001b[38;5;28;43mself\u001b[39;49m\u001b[43m,\u001b[49m\n\u001b[1;32m   2329\u001b[0m \u001b[43m    \u001b[49m\u001b[43mworkflow_spec\u001b[49m\u001b[43m,\u001b[49m\n\u001b[1;32m   2330\u001b[0m \u001b[43m    \u001b[49m\u001b[43mname\u001b[49m\u001b[43m,\u001b[49m\n\u001b[1;32m   2331\u001b[0m \u001b[43m    \u001b[49m\u001b[43mworkflow_handler\u001b[49m\u001b[38;5;241;43m=\u001b[39;49m\u001b[43mworkflow_handler\u001b[49m\u001b[43m,\u001b[49m\n\u001b[1;32m   2332\u001b[0m \u001b[43m    \u001b[49m\u001b[43msecrets\u001b[49m\u001b[38;5;241;43m=\u001b[39;49m\u001b[38;5;28;43mself\u001b[39;49m\u001b[38;5;241;43m.\u001b[39;49m\u001b[43m_secrets\u001b[49m\u001b[43m,\u001b[49m\n\u001b[1;32m   2333\u001b[0m \u001b[43m    \u001b[49m\u001b[43martifact_path\u001b[49m\u001b[38;5;241;43m=\u001b[39;49m\u001b[43martifact_path\u001b[49m\u001b[43m,\u001b[49m\n\u001b[1;32m   2334\u001b[0m \u001b[43m    \u001b[49m\u001b[43mnamespace\u001b[49m\u001b[38;5;241;43m=\u001b[39;49m\u001b[43mnamespace\u001b[49m\u001b[43m,\u001b[49m\n\u001b[1;32m   2335\u001b[0m \u001b[43m    \u001b[49m\u001b[43msource\u001b[49m\u001b[38;5;241;43m=\u001b[39;49m\u001b[43msource\u001b[49m\u001b[43m,\u001b[49m\n\u001b[1;32m   2336\u001b[0m \u001b[43m\u001b[49m\u001b[43m)\u001b[49m\n\u001b[1;32m   2337\u001b[0m \u001b[38;5;66;03m# run is None when scheduling\u001b[39;00m\n\u001b[1;32m   2338\u001b[0m \u001b[38;5;28;01mif\u001b[39;00m run \u001b[38;5;129;01mand\u001b[39;00m run\u001b[38;5;241m.\u001b[39mstate \u001b[38;5;241m==\u001b[39m mlrun\u001b[38;5;241m.\u001b[39mrun\u001b[38;5;241m.\u001b[39mRunStatuses\u001b[38;5;241m.\u001b[39mfailed:\n",
      "File \u001b[0;32m/opt/conda/lib/python3.9/site-packages/mlrun/projects/pipelines.py:690\u001b[0m, in \u001b[0;36m_LocalRunner.run\u001b[0;34m(cls, project, workflow_spec, name, workflow_handler, secrets, artifact_path, namespace, source)\u001b[0m\n\u001b[1;32m    677\u001b[0m \u001b[38;5;129m@classmethod\u001b[39m\n\u001b[1;32m    678\u001b[0m \u001b[38;5;28;01mdef\u001b[39;00m \u001b[38;5;21mrun\u001b[39m(\n\u001b[1;32m    679\u001b[0m     \u001b[38;5;28mcls\u001b[39m,\n\u001b[0;32m   (...)\u001b[0m\n\u001b[1;32m    687\u001b[0m     source\u001b[38;5;241m=\u001b[39m\u001b[38;5;28;01mNone\u001b[39;00m,\n\u001b[1;32m    688\u001b[0m ) \u001b[38;5;241m-\u001b[39m\u001b[38;5;241m>\u001b[39m _PipelineRunStatus:\n\u001b[1;32m    689\u001b[0m     pipeline_context\u001b[38;5;241m.\u001b[39mset(project, workflow_spec)\n\u001b[0;32m--> 690\u001b[0m     workflow_handler \u001b[38;5;241m=\u001b[39m \u001b[43m_PipelineRunner\u001b[49m\u001b[38;5;241;43m.\u001b[39;49m\u001b[43m_get_handler\u001b[49m\u001b[43m(\u001b[49m\n\u001b[1;32m    691\u001b[0m \u001b[43m        \u001b[49m\u001b[43mworkflow_handler\u001b[49m\u001b[43m,\u001b[49m\u001b[43m \u001b[49m\u001b[43mworkflow_spec\u001b[49m\u001b[43m,\u001b[49m\u001b[43m \u001b[49m\u001b[43mproject\u001b[49m\u001b[43m,\u001b[49m\u001b[43m \u001b[49m\u001b[43msecrets\u001b[49m\n\u001b[1;32m    692\u001b[0m \u001b[43m    \u001b[49m\u001b[43m)\u001b[49m\n\u001b[1;32m    694\u001b[0m     workflow_id \u001b[38;5;241m=\u001b[39m uuid\u001b[38;5;241m.\u001b[39muuid4()\u001b[38;5;241m.\u001b[39mhex\n\u001b[1;32m    695\u001b[0m     pipeline_context\u001b[38;5;241m.\u001b[39mworkflow_id \u001b[38;5;241m=\u001b[39m workflow_id\n",
      "File \u001b[0;32m/opt/conda/lib/python3.9/site-packages/mlrun/projects/pipelines.py:517\u001b[0m, in \u001b[0;36m_PipelineRunner._get_handler\u001b[0;34m(workflow_handler, workflow_spec, project, secrets)\u001b[0m\n\u001b[1;32m    515\u001b[0m \u001b[38;5;28;01mif\u001b[39;00m \u001b[38;5;129;01mnot\u001b[39;00m (workflow_handler \u001b[38;5;129;01mand\u001b[39;00m callable(workflow_handler)):\n\u001b[1;32m    516\u001b[0m     workflow_file \u001b[38;5;241m=\u001b[39m workflow_spec\u001b[38;5;241m.\u001b[39mget_source_file(project\u001b[38;5;241m.\u001b[39mspec\u001b[38;5;241m.\u001b[39mcontext)\n\u001b[0;32m--> 517\u001b[0m     workflow_handler \u001b[38;5;241m=\u001b[39m \u001b[43mcreate_pipeline\u001b[49m\u001b[43m(\u001b[49m\n\u001b[1;32m    518\u001b[0m \u001b[43m        \u001b[49m\u001b[43mproject\u001b[49m\u001b[43m,\u001b[49m\n\u001b[1;32m    519\u001b[0m \u001b[43m        \u001b[49m\u001b[43mworkflow_file\u001b[49m\u001b[43m,\u001b[49m\n\u001b[1;32m    520\u001b[0m \u001b[43m        \u001b[49m\u001b[43mpipeline_context\u001b[49m\u001b[38;5;241;43m.\u001b[39;49m\u001b[43mfunctions\u001b[49m\u001b[43m,\u001b[49m\n\u001b[1;32m    521\u001b[0m \u001b[43m        \u001b[49m\u001b[43msecrets\u001b[49m\u001b[43m,\u001b[49m\n\u001b[1;32m    522\u001b[0m \u001b[43m        \u001b[49m\u001b[43mhandler\u001b[49m\u001b[38;5;241;43m=\u001b[39;49m\u001b[43mworkflow_handler\u001b[49m\u001b[43m \u001b[49m\u001b[38;5;129;43;01mor\u001b[39;49;00m\u001b[43m \u001b[49m\u001b[43mworkflow_spec\u001b[49m\u001b[38;5;241;43m.\u001b[39;49m\u001b[43mhandler\u001b[49m\u001b[43m,\u001b[49m\n\u001b[1;32m    523\u001b[0m \u001b[43m    \u001b[49m\u001b[43m)\u001b[49m\n\u001b[1;32m    524\u001b[0m \u001b[38;5;28;01melse\u001b[39;00m:\n\u001b[1;32m    525\u001b[0m     builtins\u001b[38;5;241m.\u001b[39mfuncs \u001b[38;5;241m=\u001b[39m pipeline_context\u001b[38;5;241m.\u001b[39mfunctions\n",
      "File \u001b[0;32m/opt/conda/lib/python3.9/site-packages/mlrun/projects/pipelines.py:920\u001b[0m, in \u001b[0;36mcreate_pipeline\u001b[0;34m(project, pipeline, functions, secrets, handler)\u001b[0m\n\u001b[1;32m    918\u001b[0m     \u001b[38;5;28;01mraise\u001b[39;00m \u001b[38;5;167;01mImportError\u001b[39;00m(\u001b[38;5;124mf\u001b[39m\u001b[38;5;124m\"\u001b[39m\u001b[38;5;124mcannot import workflow \u001b[39m\u001b[38;5;132;01m{\u001b[39;00mpipeline\u001b[38;5;132;01m}\u001b[39;00m\u001b[38;5;124m\"\u001b[39m)\n\u001b[1;32m    919\u001b[0m mod \u001b[38;5;241m=\u001b[39m imputil\u001b[38;5;241m.\u001b[39mmodule_from_spec(spec)\n\u001b[0;32m--> 920\u001b[0m \u001b[43mspec\u001b[49m\u001b[38;5;241;43m.\u001b[39;49m\u001b[43mloader\u001b[49m\u001b[38;5;241;43m.\u001b[39;49m\u001b[43mexec_module\u001b[49m\u001b[43m(\u001b[49m\u001b[43mmod\u001b[49m\u001b[43m)\u001b[49m\n\u001b[1;32m    922\u001b[0m \u001b[38;5;28msetattr\u001b[39m(mod, \u001b[38;5;124m\"\u001b[39m\u001b[38;5;124mfuncs\u001b[39m\u001b[38;5;124m\"\u001b[39m, functions)  \u001b[38;5;66;03m# should be replaced with \"functions\" in future\u001b[39;00m\n\u001b[1;32m    923\u001b[0m \u001b[38;5;28msetattr\u001b[39m(mod, \u001b[38;5;124m\"\u001b[39m\u001b[38;5;124mfunctions\u001b[39m\u001b[38;5;124m\"\u001b[39m, functions)\n",
      "File \u001b[0;32m<frozen importlib._bootstrap_external>:850\u001b[0m, in \u001b[0;36mexec_module\u001b[0;34m(self, module)\u001b[0m\n",
      "File \u001b[0;32m<frozen importlib._bootstrap>:228\u001b[0m, in \u001b[0;36m_call_with_frames_removed\u001b[0;34m(f, *args, **kwds)\u001b[0m\n",
      "File \u001b[0;32m~/ai_product_card_templates/aipc_empty_template/implementation/src/workflows/main_workflow.py:4\u001b[0m\n\u001b[1;32m      2\u001b[0m \u001b[38;5;28;01mimport\u001b[39;00m \u001b[38;5;21;01mmlrun\u001b[39;00m\n\u001b[1;32m      3\u001b[0m \u001b[38;5;28;01mimport\u001b[39;00m \u001b[38;5;21;01myaml\u001b[39;00m\n\u001b[0;32m----> 4\u001b[0m \u001b[38;5;28;01mfrom\u001b[39;00m \u001b[38;5;21;01mdrift_detection_evidently\u001b[39;00m \u001b[38;5;28;01mimport\u001b[39;00m build_drift_detection_test\n\u001b[1;32m      5\u001b[0m \u001b[38;5;28;01mfrom\u001b[39;00m \u001b[38;5;21;01mutils\u001b[39;00m \u001b[38;5;28;01mimport\u001b[39;00m load_validation_card_specifications\n\u001b[1;32m      7\u001b[0m \u001b[38;5;129m@dsl\u001b[39m\u001b[38;5;241m.\u001b[39mpipeline(\n\u001b[1;32m      8\u001b[0m     name\u001b[38;5;241m=\u001b[39m\u001b[38;5;124m\"\u001b[39m\u001b[38;5;124mclassification-pipeline\u001b[39m\u001b[38;5;124m\"\u001b[39m,\n\u001b[1;32m      9\u001b[0m     description\u001b[38;5;241m=\u001b[39m\u001b[38;5;124m\"\u001b[39m\u001b[38;5;124mDocument classification pipeline\u001b[39m\u001b[38;5;124m\"\u001b[39m\n\u001b[0;32m   (...)\u001b[0m\n\u001b[1;32m     15\u001b[0m         \u001b[38;5;66;03m# testRatio = 0.2, devRatio = 0.2,\u001b[39;00m\n\u001b[1;32m     16\u001b[0m     ):\n",
      "\u001b[0;31mModuleNotFoundError\u001b[0m: No module named 'drift_detection_evidently'"
     ]
    }
   ],
   "source": [
    "# Run the main workflow\n",
    "data_url = \"https://drive.usercontent.google.com/u/0/uc?id=11xy6a6cbteD2TG9r3CU16ysO50xrqZf2&export=download\"\n",
    "project.run(\"classification\", arguments={'data': data_url}) "
   ]
  },
  {
   "cell_type": "code",
   "execution_count": null,
   "id": "dbd04b3f-bc38-4917-badb-fbb056898845",
   "metadata": {},
   "outputs": [],
   "source": []
  }
 ],
 "metadata": {
  "kernelspec": {
   "display_name": "Python 3 (ipykernel)",
   "language": "python",
   "name": "python3"
  },
  "language_info": {
   "codemirror_mode": {
    "name": "ipython",
    "version": 3
   },
   "file_extension": ".py",
   "mimetype": "text/x-python",
   "name": "python",
   "nbconvert_exporter": "python",
   "pygments_lexer": "ipython3",
   "version": "3.9.16"
  }
 },
 "nbformat": 4,
 "nbformat_minor": 5
}
