{
 "cells": [
  {
   "cell_type": "code",
   "execution_count": 59,
   "id": "1e6097cb-90d4-4189-be92-64059e3cda84",
   "metadata": {},
   "outputs": [],
   "source": [
    "import os\n",
    "from datetime import datetime\n",
    "from minio import Minio"
   ]
  },
  {
   "cell_type": "code",
   "execution_count": 60,
   "id": "478f3ea0-2579-4da4-8c56-09466db4329e",
   "metadata": {},
   "outputs": [],
   "source": [
    "client = Minio(\"minio-api.digitalhub-test.smartcommunitylab.it\",\n",
    "               access_key=\"minio\",\n",
    "               secret_key=\"digitalhub-test\")"
   ]
  },
  {
   "cell_type": "code",
   "execution_count": 61,
   "id": "400856ef-e4ff-4e2d-9569-617df2c21c9f",
   "metadata": {},
   "outputs": [],
   "source": [
    "source_folder = \"src\"\n",
    "bucket_name = \"bert-model\"\n",
    "destination_folder = \"bert_model_artifacts\"\n",
    "\n",
    "if not client.bucket_exists(bucket_name):\n",
    "    client.make_bucket(bucket_name)\n",
    "    \n",
    "now = str(datetime.now())\n",
    "for root, _, files in os.walk(source_folder):\n",
    "    for file_name in files:\n",
    "        local_file_path = os.path.join(root, file_name)\n",
    "        remote_object_path = os.path.join(bucketName, local_file_path)\n",
    "        \n",
    "        client.fput_object(bucket_name, remote_object_path, local_file_path)"
   ]
  },
  {
   "cell_type": "code",
   "execution_count": 63,
   "id": "2b732f55-5dd9-4e0c-8c4a-835d6adf27e3",
   "metadata": {},
   "outputs": [
    {
     "name": "stdout",
     "output_type": "stream",
     "text": [
      "data  models  prova1.ipynb  schemas  src\n"
     ]
    }
   ],
   "source": [
    "!ls .."
   ]
  },
  {
   "cell_type": "code",
   "execution_count": 54,
   "id": "537dbd6e-2b20-447b-85a4-8cba59bb7415",
   "metadata": {},
   "outputs": [
    {
     "name": "stdout",
     "output_type": "stream",
     "text": [
      "ls: cannot access 'models': No such file or directory\n"
     ]
    }
   ],
   "source": [
    "!ls models"
   ]
  },
  {
   "cell_type": "code",
   "execution_count": null,
   "id": "0bc2fb88-aa40-4ef7-866f-92342f6a8de9",
   "metadata": {},
   "outputs": [],
   "source": []
  }
 ],
 "metadata": {
  "kernelspec": {
   "display_name": "Python 3 (ipykernel)",
   "language": "python",
   "name": "python3"
  },
  "language_info": {
   "codemirror_mode": {
    "name": "ipython",
    "version": 3
   },
   "file_extension": ".py",
   "mimetype": "text/x-python",
   "name": "python",
   "nbconvert_exporter": "python",
   "pygments_lexer": "ipython3",
   "version": "3.9.16"
  }
 },
 "nbformat": 4,
 "nbformat_minor": 5
}
