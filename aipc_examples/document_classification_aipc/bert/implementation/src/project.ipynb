{
 "cells": [
  {
   "cell_type": "code",
   "execution_count": 1,
   "id": "47283bed-9f47-4a2c-a059-f1adbab2bb00",
   "metadata": {},
   "outputs": [],
   "source": [
    "import mlrun"
   ]
  },
  {
   "cell_type": "code",
   "execution_count": 33,
   "id": "eb3c3efd-3cd3-42be-b149-e310480bf63c",
   "metadata": {},
   "outputs": [
    {
     "name": "stdout",
     "output_type": "stream",
     "text": [
      "model_evaluation.py  model_training.py\tschema_validation.py\n"
     ]
    }
   ],
   "source": [
    "!ls ./functions"
   ]
  },
  {
   "cell_type": "code",
   "execution_count": 44,
   "id": "095725e7-4836-4461-9cd5-d0fb485ca238",
   "metadata": {},
   "outputs": [
    {
     "name": "stdout",
     "output_type": "stream",
     "text": [
      "> 2024-02-23 15:59:44,204 [info] Project loaded successfully: {'project_name': 'fasttext-project'}\n"
     ]
    }
   ],
   "source": [
    "project = mlrun.get_or_create_project(\n",
    "    name=\"fasttext-project\",\n",
    "    context=\"./\",\n",
    "    parameters={\n",
    "        \"default_image\": \"mlrun/mlrun\",\n",
    "        \"requirements_file\": \"./requirements.txt\"\n",
    "    }\n",
    ")"
   ]
  },
  {
   "cell_type": "code",
   "execution_count": null,
   "id": "0b7ef2a3-cfb8-4e36-90d3-63d93afc406b",
   "metadata": {},
   "outputs": [],
   "source": []
  }
 ],
 "metadata": {
  "kernelspec": {
   "display_name": "Python 3 (ipykernel)",
   "language": "python",
   "name": "python3"
  },
  "language_info": {
   "codemirror_mode": {
    "name": "ipython",
    "version": 3
   },
   "file_extension": ".py",
   "mimetype": "text/x-python",
   "name": "python",
   "nbconvert_exporter": "python",
   "pygments_lexer": "ipython3",
   "version": "3.9.13"
  }
 },
 "nbformat": 4,
 "nbformat_minor": 5
}
