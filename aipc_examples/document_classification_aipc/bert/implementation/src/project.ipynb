{
 "cells": [
  {
   "cell_type": "code",
   "execution_count": null,
   "id": "47283bed-9f47-4a2c-a059-f1adbab2bb00",
   "metadata": {},
   "outputs": [],
   "source": [
    "import mlrun\n",
    "from config import get_params"
   ]
  },
  {
   "cell_type": "code",
   "execution_count": null,
   "id": "095725e7-4836-4461-9cd5-d0fb485ca238",
   "metadata": {},
   "outputs": [],
   "source": [
    "project = mlrun.get_or_create_project(\n",
    "    name=\"bert-aipc-project-prova1\",\n",
    "    context=\"./\"\n",
    ")\n",
    "minio_parameters = get_params(\"minio\")\n",
    "print(minio_parameters)\n",
    "secrets = {\"MINIO_URL\": minio_parameters[\"minio_url\"], \n",
    "           \"MINIO_AK\": minio_parameters[\"minio_ak\"], \n",
    "           \"MINIO_SK\": minio_parameters[\"minio_sk\"], \n",
    "           \"WANDB_ENTITY\": \"\", \"WANDB_PROJECT\": \"\", \"WANDB_API_KEY\": \"\", \"HF_TOKEN\": \"\"}\n",
    "project.set_secrets(secrets=secrets)"
   ]
  },
  {
   "cell_type": "markdown",
   "id": "88e864f7-2f79-446f-8d83-165e1a1f493a",
   "metadata": {},
   "source": [
    "# Prepare data"
   ]
  },
  {
   "cell_type": "code",
   "execution_count": null,
   "id": "0ac350d8-27ef-4520-932d-8239364fe8be",
   "metadata": {},
   "outputs": [],
   "source": [
    "%%writefile preprocessing/data-prep.py\n",
    "\n",
    "from minio import Minio\n",
    "import pandas as pd\n",
    "\n",
    "def prep_data(context, filename):\n",
    "    minio_client = Minio(\n",
    "        context.get_secret(\"MINIO_URL\"),\n",
    "        access_key=context.get_secret(\"MINIO_AK\"),\n",
    "        secret_key=context.get_secret(\"MINIO_SK\")\n",
    "    )\n",
    "    minio_client.fget_object(\"datalake\", f\"projects/tourism/meteo/{filename}\", filename)\n",
    "    df = pd.read_parquet(filename)\n",
    "    context.log_dataset('cleaned_data', df=df, index=False, format='parquet')"
   ]
  },
  {
   "cell_type": "code",
   "execution_count": null,
   "id": "76473b5a-305b-41dd-8be3-f919cff989c4",
   "metadata": {
    "tags": []
   },
   "outputs": [],
   "source": [
    "data_prep_func = project.set_function(\n",
    "    \"preprocessing/data-prep.py\", \n",
    "    name=\"data-prep\", kind=\"job\", \n",
    "    image=\"mlrun/mlrun\", \n",
    "    handler=\"prep_data\",\n",
    "    requirements = [\"minio\", \"pandas\"]\n",
    ")\n",
    "project.build_function(data_prep_func)"
   ]
  },
  {
   "cell_type": "code",
   "execution_count": null,
   "id": "534bf8e8-070a-4c5c-a1a1-f548241737bc",
   "metadata": {
    "tags": []
   },
   "outputs": [],
   "source": [
    "prep_data_run = data_prep_func.run(name='prep_data',\n",
    "                                   handler=\"prep_data\",\n",
    "                                   params={'filename': 'meteotrentino_bollettino.parquet'})"
   ]
  },
  {
   "cell_type": "code",
   "execution_count": null,
   "id": "2bf37571-433f-40b2-8d95-f5d8b393ea40",
   "metadata": {},
   "outputs": [],
   "source": [
    "training_data_item = prep_data_run.outputs['cleaned_data']\n",
    "training_data_item"
   ]
  },
  {
   "cell_type": "markdown",
   "id": "1098ca85-903a-455b-8256-d09f3c912409",
   "metadata": {},
   "source": [
    "# Training function"
   ]
  },
  {
   "cell_type": "code",
   "execution_count": null,
   "id": "6dea164a-b550-4b14-a031-02e5c4a9cf90",
   "metadata": {},
   "outputs": [],
   "source": [
    "%%writefile functions/train_prova.py\n",
    "import glob\n",
    "import mlrun\n",
    "from zipfile import ZipFile\n",
    "\n",
    "def save_model(output_dir):\n",
    "    with ZipFile(\"bert_model.zip\", \"w\") as zip_file:\n",
    "        for file in glob.glob(f\"{output_dir}/*\"):\n",
    "            zip_file.write(file)\n",
    "    return \"bert_model.zip\"\n",
    "\n",
    "@mlrun.handler()\n",
    "def train(context, training_data_item: mlrun.DataItem):\n",
    "    output_dir = \".\"\n",
    "    print(training_data_item.as_df())\n",
    "    # Train the model using the dataframe obtained from the dataitem\n",
    "    model_file = save_model(output_dir)\n",
    "    context.log_model(\n",
    "        \"bert_model\",\n",
    "        parameters={\n",
    "            \"max_steps\": 1000\n",
    "        },\n",
    "        metrics = {}, # TODO\n",
    "        model_file=model_file,\n",
    "        labels={\"class\": \"AutoModelForCausalLM\"},\n",
    "        algorithm=\"AutoModelForCausalLM\",\n",
    "        framework=\"transformers\"\n",
    "    )    "
   ]
  },
  {
   "cell_type": "code",
   "execution_count": null,
   "id": "3cd6111b-8354-431d-914f-b09c30c39f57",
   "metadata": {},
   "outputs": [],
   "source": [
    "# Training function\n",
    "fn = project.set_function(\n",
    "    image=\"mlrun/mlrun\",\n",
    "    name=\"training\",\n",
    "    func='functions/train_prova.py',\n",
    "    handler='train',\n",
    "    kind=\"job\"\n",
    ")\n",
    "project.build_function(fn)\n",
    "project.save()"
   ]
  },
  {
   "cell_type": "code",
   "execution_count": 139,
   "id": "5ab44f8a-b2c3-4a7f-91de-c59c20f4c9cb",
   "metadata": {
    "tags": []
   },
   "outputs": [
    {
     "name": "stdout",
     "output_type": "stream",
     "text": [
      "> 2024-06-05 15:47:39,067 [info] Storing function: {'name': 'training-train', 'uid': '32df5aab857247f682bf22f57b8d53e8', 'db': 'http://mlrun-api:8080'}\n",
      "> 2024-06-05 15:47:39,187 [info] Job is running in the background, pod: training-train-lv97t\n"
     ]
    },
    {
     "name": "stderr",
     "output_type": "stream",
     "text": [
      "The clone_target_dir attribute is deprecated in 1.6.2 and will be removed in 1.8.0. Use spec.build.source_code_target_dir instead.\n"
     ]
    },
    {
     "name": "stdout",
     "output_type": "stream",
     "text": [
      "             data                    comune  ... intprec12-18 probtemp12-18\n",
      "0      2018-03-03          BASELGA DI PINE'  ...       debole            --\n",
      "1      2018-03-03                   CANAZEI  ...       debole            --\n",
      "2      2018-03-03                  CAVALESE  ...       debole            --\n",
      "3      2018-03-03                  FOLGARIA  ...       debole            --\n",
      "4      2018-03-03                     FONDO  ...       debole            --\n",
      "...           ...                       ...  ...          ...           ...\n",
      "41408  2024-05-31              COMANO TERME  ...     moderata         bassa\n",
      "41409  2024-05-31                  BEZZECCA  ...     moderata         bassa\n",
      "41410  2024-05-31             PIEVE DI BONO  ...     moderata         bassa\n",
      "41411  2024-05-31          CENTA SAN NICOLO  ...     moderata         bassa\n",
      "41412  2024-05-31  SAN MARTINO DI CASTROZZA  ...     moderata         bassa\n",
      "\n",
      "[41413 rows x 12 columns]\n",
      "> 2024-06-05 15:47:42,194 [info] To track results use the CLI: {'info_cmd': 'mlrun get run 32df5aab857247f682bf22f57b8d53e8 -p bert-aipc-project-prova1', 'logs_cmd': 'mlrun logs 32df5aab857247f682bf22f57b8d53e8 -p bert-aipc-project-prova1'}\n",
      "> 2024-06-05 15:47:42,194 [info] Run execution finished: {'status': 'completed', 'name': 'training-train'}\n"
     ]
    },
    {
     "data": {
      "text/html": [
       "<style>\n",
       ".dictlist {\n",
       "  background-color: #4EC64B;\n",
       "  text-align: center;\n",
       "  margin: 4px;\n",
       "  border-radius: 3px; padding: 0px 3px 1px 3px; display: inline-block;}\n",
       ".artifact {\n",
       "  cursor: pointer;\n",
       "  background-color: #4EC64B;\n",
       "  text-align: left;\n",
       "  margin: 4px; border-radius: 3px; padding: 0px 3px 1px 3px; display: inline-block;\n",
       "}\n",
       "div.block.hidden {\n",
       "  display: none;\n",
       "}\n",
       ".clickable {\n",
       "  cursor: pointer;\n",
       "}\n",
       ".ellipsis {\n",
       "  display: inline-block;\n",
       "  max-width: 60px;\n",
       "  white-space: nowrap;\n",
       "  overflow: hidden;\n",
       "  text-overflow: ellipsis;\n",
       "}\n",
       ".master-wrapper {\n",
       "  display: flex;\n",
       "  flex-flow: row nowrap;\n",
       "  justify-content: flex-start;\n",
       "  align-items: stretch;\n",
       "}\n",
       ".master-tbl {\n",
       "  flex: 3\n",
       "}\n",
       ".master-wrapper > div {\n",
       "  margin: 4px;\n",
       "  padding: 10px;\n",
       "}\n",
       "iframe.fileview {\n",
       "  border: 0 none;\n",
       "  height: 100%;\n",
       "  width: 100%;\n",
       "  white-space: pre-wrap;\n",
       "}\n",
       ".pane-header-title {\n",
       "  width: 80%;\n",
       "  font-weight: 500;\n",
       "}\n",
       ".pane-header {\n",
       "  line-height: 1;\n",
       "  background-color: #4EC64B;\n",
       "  padding: 3px;\n",
       "}\n",
       ".pane-header .close {\n",
       "  font-size: 20px;\n",
       "  font-weight: 700;\n",
       "  float: right;\n",
       "  margin-top: -5px;\n",
       "}\n",
       ".master-wrapper .right-pane {\n",
       "  border: 1px inset silver;\n",
       "  width: 40%;\n",
       "  min-height: 300px;\n",
       "  flex: 3\n",
       "  min-width: 500px;\n",
       "}\n",
       ".master-wrapper * {\n",
       "  box-sizing: border-box;\n",
       "}\n",
       "</style><script>\n",
       "function copyToClipboard(fld) {\n",
       "    if (document.queryCommandSupported && document.queryCommandSupported('copy')) {\n",
       "        var textarea = document.createElement('textarea');\n",
       "        textarea.textContent = fld.innerHTML;\n",
       "        textarea.style.position = 'fixed';\n",
       "        document.body.appendChild(textarea);\n",
       "        textarea.select();\n",
       "\n",
       "        try {\n",
       "            return document.execCommand('copy'); // Security exception may be thrown by some browsers.\n",
       "        } catch (ex) {\n",
       "\n",
       "        } finally {\n",
       "            document.body.removeChild(textarea);\n",
       "        }\n",
       "    }\n",
       "}\n",
       "function expandPanel(el) {\n",
       "  const panelName = \"#\" + el.getAttribute('paneName');\n",
       "  console.log(el.title);\n",
       "\n",
       "  document.querySelector(panelName + \"-title\").innerHTML = el.title\n",
       "  iframe = document.querySelector(panelName + \"-body\");\n",
       "\n",
       "  const tblcss = `<style> body { font-family: Arial, Helvetica, sans-serif;}\n",
       "    #csv { margin-bottom: 15px; }\n",
       "    #csv table { border-collapse: collapse;}\n",
       "    #csv table td { padding: 4px 8px; border: 1px solid silver;} </style>`;\n",
       "\n",
       "  function csvToHtmlTable(str) {\n",
       "    return '<div id=\"csv\"><table><tr><td>' +  str.replace(/[\\n\\r]+$/g, '').replace(/[\\n\\r]+/g, '</td></tr><tr><td>')\n",
       "      .replace(/,/g, '</td><td>') + '</td></tr></table></div>';\n",
       "  }\n",
       "\n",
       "  function reqListener () {\n",
       "    if (el.title.endsWith(\".csv\")) {\n",
       "      iframe.setAttribute(\"srcdoc\", tblcss + csvToHtmlTable(this.responseText));\n",
       "    } else {\n",
       "      iframe.setAttribute(\"srcdoc\", this.responseText);\n",
       "    }\n",
       "    console.log(this.responseText);\n",
       "  }\n",
       "\n",
       "  const oReq = new XMLHttpRequest();\n",
       "  oReq.addEventListener(\"load\", reqListener);\n",
       "  oReq.open(\"GET\", el.title);\n",
       "  oReq.send();\n",
       "\n",
       "\n",
       "  //iframe.src = el.title;\n",
       "  const resultPane = document.querySelector(panelName + \"-pane\");\n",
       "  if (resultPane.classList.contains(\"hidden\")) {\n",
       "    resultPane.classList.remove(\"hidden\");\n",
       "  }\n",
       "}\n",
       "function closePanel(el) {\n",
       "  const panelName = \"#\" + el.getAttribute('paneName')\n",
       "  const resultPane = document.querySelector(panelName + \"-pane\");\n",
       "  if (!resultPane.classList.contains(\"hidden\")) {\n",
       "    resultPane.classList.add(\"hidden\");\n",
       "  }\n",
       "}\n",
       "\n",
       "</script>\n",
       "<div class=\"master-wrapper\">\n",
       "  <div class=\"block master-tbl\"><div>\n",
       "<style scoped>\n",
       "    .dataframe tbody tr th:only-of-type {\n",
       "        vertical-align: middle;\n",
       "    }\n",
       "\n",
       "    .dataframe tbody tr th {\n",
       "        vertical-align: top;\n",
       "    }\n",
       "\n",
       "    .dataframe thead th {\n",
       "        text-align: right;\n",
       "    }\n",
       "</style>\n",
       "<table border=\"1\" class=\"dataframe\">\n",
       "  <thead>\n",
       "    <tr style=\"text-align: right;\">\n",
       "      <th>project</th>\n",
       "      <th>uid</th>\n",
       "      <th>iter</th>\n",
       "      <th>start</th>\n",
       "      <th>state</th>\n",
       "      <th>name</th>\n",
       "      <th>labels</th>\n",
       "      <th>inputs</th>\n",
       "      <th>parameters</th>\n",
       "      <th>results</th>\n",
       "      <th>artifacts</th>\n",
       "    </tr>\n",
       "  </thead>\n",
       "  <tbody>\n",
       "    <tr>\n",
       "      <td>bert-aipc-project-prova1</td>\n",
       "      <td><div title=\"32df5aab857247f682bf22f57b8d53e8\">...8d53e8</div></td>\n",
       "      <td>0</td>\n",
       "      <td>Jun 05 15:47:41</td>\n",
       "      <td>completed</td>\n",
       "      <td>training-train</td>\n",
       "      <td><div class=\"dictlist\">v3io_user=acelepija</div><div class=\"dictlist\">kind=job</div><div class=\"dictlist\">owner=acelepija</div><div class=\"dictlist\">mlrun/client_version=1.6.2-rc1</div><div class=\"dictlist\">mlrun/client_python_version=3.9.13</div><div class=\"dictlist\">host=training-train-lv97t</div></td>\n",
       "      <td><div title=\"store://artifacts/bert-aipc-project-prova1/prep-data_cleaned_data@576045f26b7f47439638cfe41da5781a\">training_data_item</div></td>\n",
       "      <td></td>\n",
       "      <td></td>\n",
       "      <td><div title=\"s3://datalake/projects/bert-aipc-project-prova1/artifacts/training-train/0/bert_model/\">bert_model</div></td>\n",
       "    </tr>\n",
       "  </tbody>\n",
       "</table>\n",
       "</div></div>\n",
       "  <div id=\"resultba5ad894-pane\" class=\"right-pane block hidden\">\n",
       "    <div class=\"pane-header\">\n",
       "      <span id=\"resultba5ad894-title\" class=\"pane-header-title\">Title</span>\n",
       "      <span onclick=\"closePanel(this)\" paneName=\"resultba5ad894\" class=\"close clickable\">&times;</span>\n",
       "    </div>\n",
       "    <iframe class=\"fileview\" id=\"resultba5ad894-body\"></iframe>\n",
       "  </div>\n",
       "</div>\n"
      ],
      "text/plain": [
       "<IPython.core.display.HTML object>"
      ]
     },
     "metadata": {},
     "output_type": "display_data"
    },
    {
     "name": "stdout",
     "output_type": "stream",
     "text": [
      "\n"
     ]
    },
    {
     "data": {
      "text/html": [
       "<b> > to track results use the .show() or .logs() methods </b>"
      ],
      "text/plain": [
       "<IPython.core.display.HTML object>"
      ]
     },
     "metadata": {},
     "output_type": "display_data"
    },
    {
     "name": "stdout",
     "output_type": "stream",
     "text": [
      "> 2024-06-05 15:47:45,317 [info] Run execution finished: {'status': 'completed', 'name': 'training-train'}\n"
     ]
    }
   ],
   "source": [
    "training_function = project.run_function(\"training\", inputs={\"training_data_item\": training_data_item })\n",
    "#\"store://models/bert-aipc-project-prova1/prova_bert_model#0:latest\""
   ]
  },
  {
   "cell_type": "code",
   "execution_count": 141,
   "id": "965baf79-7c23-4ee3-8900-5754480c86b3",
   "metadata": {},
   "outputs": [
    {
     "data": {
      "text/plain": [
       "{'bert_model': 'store://artifacts/bert-aipc-project-prova1/training-train_bert_model@32df5aab857247f682bf22f57b8d53e8'}"
      ]
     },
     "execution_count": 141,
     "metadata": {},
     "output_type": "execute_result"
    }
   ],
   "source": [
    "training_function.outputs"
   ]
  },
  {
   "cell_type": "markdown",
   "id": "3b025a19-e4a6-438d-b007-1efc6a0f19e9",
   "metadata": {},
   "source": [
    "## Access data item"
   ]
  },
  {
   "cell_type": "code",
   "execution_count": null,
   "id": "11728dc4-b134-4ce4-8108-2652b28ab12b",
   "metadata": {},
   "outputs": [],
   "source": [
    "di = mlrun.get_dataitem(training_data_item)"
   ]
  },
  {
   "cell_type": "code",
   "execution_count": null,
   "id": "b28d5712-1831-451d-af65-7c03d5c01f36",
   "metadata": {
    "tags": []
   },
   "outputs": [],
   "source": [
    "di.as_df()"
   ]
  },
  {
   "cell_type": "markdown",
   "id": "eaf381a7-6abb-4a7c-b1bb-a626b2a3e3b4",
   "metadata": {},
   "source": [
    "# Prova function"
   ]
  },
  {
   "cell_type": "code",
   "execution_count": null,
   "id": "ca494f2a-8ea2-4ee9-a87d-94b07c6e8684",
   "metadata": {},
   "outputs": [],
   "source": [
    "%%writefile functions/prova.py\n",
    "import mlrun\n",
    "from minio import Minio\n",
    "\n",
    "def get_model(context):\n",
    "    minio_client =  Minio(\n",
    "        context.get_secret(\"MINIO_URL\"),\n",
    "        access_key=context.get_secret(\"MINIO_AK\"),\n",
    "        secret_key=context.get_secret(\"MINIO_SK\")\n",
    "    )\n",
    "    model_file = \"bert_model.zip\"\n",
    "    minio_client.fget_object(\"datalake\", f\"projects/bert-aipc-project-prova1/artifacts/{model_file}\", model_file)\n",
    "    \n",
    "    context.log_model(\n",
    "        \"bert_model\",\n",
    "        parameters={\n",
    "            \"max_steps\": 1000\n",
    "        },\n",
    "        metrics = {}, # TODO\n",
    "        model_file=model_file,\n",
    "        labels={\"class\": \"AutoModelForCausalLM\"},\n",
    "        algorithm=\"AutoModelForCausalLM\",\n",
    "        framework=\"transformers\"\n",
    "    )    "
   ]
  },
  {
   "cell_type": "code",
   "execution_count": null,
   "id": "d8adaf71-a6db-4588-9d6a-21d39abf0676",
   "metadata": {
    "tags": []
   },
   "outputs": [],
   "source": [
    "get_model_func = project.set_function(\n",
    "    \"functions/prova.py\", \n",
    "    name=\"prova\", \n",
    "    kind=\"job\", \n",
    "    image=\"mlrun/mlrun\", \n",
    "    handler=\"get_model\",\n",
    "    requirements = [\"minio\", \"pandas\"]\n",
    ")\n",
    "project.build_function(get_model_func)\n",
    "get_model = get_model_func.run(name='prova',\n",
    "                                   handler=\"get_model\")"
   ]
  },
  {
   "cell_type": "code",
   "execution_count": null,
   "id": "580f0458-04b3-4c56-a7dd-be868a7beed4",
   "metadata": {},
   "outputs": [],
   "source": []
  },
  {
   "cell_type": "markdown",
   "id": "9115148f-605f-410f-a316-6a5d2c5a8d05",
   "metadata": {},
   "source": [
    "# Serving function"
   ]
  },
  {
   "cell_type": "code",
   "execution_count": null,
   "id": "dae4894f-dfa1-473b-b173-82faa36eb3d6",
   "metadata": {},
   "outputs": [],
   "source": [
    "%%writefile serving/model_serving.py\n",
    "\n",
    "import json\n",
    "import logging\n",
    "import mlrun\n",
    "import yaml\n",
    "from os import path\n",
    "from zipfile import ZipFile\n",
    "from transformers import pipeline\n",
    "\n",
    "class ClassifierModel(mlrun.serving.V2ModelServer):\n",
    "    def load(self):\n",
    "        \"\"\"Download and initialize the model and/or other elements\"\"\"\n",
    "        logging.basicConfig(level=logging.INFO)\n",
    "        model_file, extra_data = self.get_model('.zip')\n",
    "        print(model_file)\n",
    "        # Open the model file as a zip file\n",
    "        file = ZipFile(model_file)\n",
    "        self.model_dir = '/tmp/model'\n",
    "        file.extractall(self.model_dir)        \n",
    "        self.model = self.load_model(self.model_dir)\n",
    "\n",
    "    def predict(self, body: dict) -> list:\n",
    "        \"\"\"\n",
    "        Make predictions\n",
    "        \"\"\"\n",
    "        logging.basicConfig(level=logging.INFO)\n",
    "        print(body)\n",
    "        classifier = pipeline(\n",
    "            \"text-classification\", \n",
    "            model=self.model_dir, \n",
    "            tokenizer=self.model_dir, \n",
    "            config=path.join(self.model_dir, \"config.json\"), \n",
    "            top_k=top_k, \n",
    "            device=device\n",
    "        )\n",
    "        response = []\n",
    "        for el in body[\"inputs\"]:\n",
    "            row = el[\"row\"]\n",
    "            skip_special_tokens = el[\"skip_special_tokens\"]\n",
    "            max_new_tokens = el[\"max_new_tokens\"]\n",
    "            do_sample = el[\"do_sample\"]\n",
    "            preds = classifier(row)\n",
    "\n",
    "            predictions = []\n",
    "            for pred in preds[0]:\n",
    "                if pred[\"score\"] > threshold:\n",
    "                    predictions.append({\"label\": pred[\"label\"], \"score\": pred[\"score\"]})\n",
    "            response.append({\"text\": row, \"predictions\": predictions})            \n",
    "\n",
    "        return response"
   ]
  },
  {
   "cell_type": "code",
   "execution_count": null,
   "id": "646cf7fd-fe6c-4e46-92ef-2d5039c1e9a4",
   "metadata": {},
   "outputs": [],
   "source": [
    "#Serving function\n",
    "serving_fn = mlrun.code_to_function(\n",
    "    \"serving-classifier\", \n",
    "    filename=\"serving/model_serving.py\", \n",
    "    kind=\"serving\", \n",
    "    image=\"mlrun/mlrun-gpu\",\n",
    ")\n",
    "serving_fn.spec.build.commands = [\n",
    "    \"pip install torch peft transformers bitsandbytes accelerate minio\",\n",
    "]"
   ]
  },
  {
   "cell_type": "raw",
   "id": "2237a008-2de4-4f10-82ca-0d317b317975",
   "metadata": {},
   "source": [
    "# define resources\n",
    "serving_fn.spec.replicas = 1\n",
    "from kubernetes import client\n",
    "tol = [\n",
    "    client.V1Toleration(\n",
    "        key='nvidia.com/gpu',\n",
    "        operator='Equal',\n",
    "        value='a100',\n",
    "        effect='NoSchedule',\n",
    "    )\n",
    "]\n",
    "serving_fn.with_node_selection(tolerations=tol)\n",
    "serving_fn.with_limits(gpus=1,mem=\"200G\")"
   ]
  },
  {
   "cell_type": "code",
   "execution_count": null,
   "id": "f39b45f6-228c-457d-8f29-428b3303659a",
   "metadata": {
    "tags": []
   },
   "outputs": [],
   "source": [
    "serving_fn.add_model(\n",
    "    \"bert_classifier\",\n",
    "    model_path=training_function.outputs[\"bert_model\"]\n",
    "    #\"store://models/bert-aipc-project-prova1/prova_bert_model#0:latest\",\n",
    "    class_name=\"ClassifierModel\"\n",
    ")\n",
    "project.deploy_function(serving_fn)\n",
    "project.save()"
   ]
  },
  {
   "cell_type": "code",
   "execution_count": null,
   "id": "884e80dc-daac-42d1-8a7b-a01761d5283c",
   "metadata": {},
   "outputs": [],
   "source": [
    "text = \"Example text\"\n",
    "skip_special_tokens=False\n",
    "max_new_tokens=250\n",
    "do_sample=False\n",
    "sample = {\n",
    "    \"row\": text, \n",
    "    \"skip_special_tokens\": skip_special_tokens, \n",
    "    \"max_new_tokens\": max_new_tokens,\n",
    "    \"do_sample\": do_sample\n",
    "}\n",
    "response = serving_fn.invoke(path=f\"/v2/models/bert_classifier/infer\", body={\"inputs\": [sample]})"
   ]
  }
 ],
 "metadata": {
  "kernelspec": {
   "display_name": "Python 3 (ipykernel)",
   "language": "python",
   "name": "python3"
  },
  "language_info": {
   "codemirror_mode": {
    "name": "ipython",
    "version": 3
   },
   "file_extension": ".py",
   "mimetype": "text/x-python",
   "name": "python",
   "nbconvert_exporter": "python",
   "pygments_lexer": "ipython3",
   "version": "3.9.13"
  }
 },
 "nbformat": 4,
 "nbformat_minor": 5
}
