{
 "cells": [
  {
   "cell_type": "code",
   "execution_count": 5,
   "id": "bded1180-9254-4a46-bc4a-a682b7fa2090",
   "metadata": {},
   "outputs": [],
   "source": [
    "import os\n",
    "from datetime import datetime\n",
    "from minio import Minio"
   ]
  },
  {
   "cell_type": "code",
   "execution_count": 6,
   "id": "7226bf11-2e88-47d0-8a8c-c979901cd444",
   "metadata": {},
   "outputs": [],
   "source": [
    "client = Minio(\"minio-api.digitalhub-test.smartcommunitylab.it\",\n",
    "               access_key=\"minio\",\n",
    "               secret_key=\"digitalhub-test\")"
   ]
  },
  {
   "cell_type": "code",
   "execution_count": 11,
   "id": "4d4b0c13-fc13-422f-8057-c8d3f092df51",
   "metadata": {},
   "outputs": [],
   "source": [
    "source_folder = \"models\"\n",
    "bucket_name = \"bert-model\"\n",
    "destination_folder = \"bert_model_artifacts\"\n",
    "\n",
    "if not client.bucket_exists(bucket_name):\n",
    "    client.make_bucket(bucket_name)\n",
    "    \n",
    "now = str(datetime.now())\n",
    "for root, _, files in os.walk(source_folder):\n",
    "    for file_name in files:\n",
    "        local_file_path = os.path.join(root, file_name)\n",
    "        remote_object_path = os.path.join(now, destination_folder, local_file_path)\n",
    "        \n",
    "        client.fput_object(bucket_name, remote_object_path, local_file_path)"
   ]
  },
  {
   "cell_type": "code",
   "execution_count": null,
   "id": "e5e41d7a-25a2-4ada-aa05-b44107ba6809",
   "metadata": {},
   "outputs": [],
   "source": []
  }
 ],
 "metadata": {
  "kernelspec": {
   "display_name": "Python 3 (ipykernel)",
   "language": "python",
   "name": "python3"
  },
  "language_info": {
   "codemirror_mode": {
    "name": "ipython",
    "version": 3
   },
   "file_extension": ".py",
   "mimetype": "text/x-python",
   "name": "python",
   "nbconvert_exporter": "python",
   "pygments_lexer": "ipython3",
   "version": "3.9.16"
  }
 },
 "nbformat": 4,
 "nbformat_minor": 5
}
