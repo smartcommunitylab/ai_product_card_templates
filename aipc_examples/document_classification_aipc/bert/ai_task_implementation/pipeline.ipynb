{
 "cells": [
  {
   "cell_type": "code",
   "execution_count": 64,
   "id": "a3a72fa5-9f6e-4068-8632-17d82d1cebf3",
   "metadata": {},
   "outputs": [],
   "source": [
    "import mlrun"
   ]
  },
  {
   "cell_type": "markdown",
   "id": "8d765606-90b1-4de3-a204-a05656501cf8",
   "metadata": {},
   "source": [
    "## Create the project"
   ]
  },
  {
   "cell_type": "code",
   "execution_count": 69,
   "id": "811e6299-4e4a-4ab3-9ef5-7d4ec95e1cf7",
   "metadata": {},
   "outputs": [
    {
     "name": "stdout",
     "output_type": "stream",
     "text": [
      "> 2024-02-13 11:39:30,726 [info] Project loaded successfully: {'project_name': 'bert-classification'}\n"
     ]
    }
   ],
   "source": [
    "project = mlrun.get_or_create_project(\n",
    "    name=\"bert-classification\", \n",
    "    context=\"./\",\n",
    "    parameters={\n",
    "        \"base_image\": \"mlrun/mlrun\",\n",
    "        \"requirements_file\": \"./requirements.txt\"\n",
    "    }\n",
    ")"
   ]
  },
  {
   "cell_type": "code",
   "execution_count": 70,
   "id": "ef97d276-581c-4c07-a1db-39d87a4fa8dd",
   "metadata": {},
   "outputs": [
    {
     "name": "stdout",
     "output_type": "stream",
     "text": [
      "> 2024-02-13 11:39:31,174 [debug] Auto mount disabled due to user selection (auto_mount_type=none)\n"
     ]
    },
    {
     "data": {
      "text/plain": [
       "BuildStatus(ready=True, outputs={'image': '.mlrun-project-image-bert-classification'})"
      ]
     },
     "execution_count": 70,
     "metadata": {},
     "output_type": "execute_result"
    }
   ],
   "source": [
    "base_image = project.get_param(\"base_image\") # mlrun/mlrun\n",
    "requirements_file = project.get_param(\"requirements_file\") # requirements.txt\n",
    "\n",
    "project.build_image(\n",
    "    base_image=base_image,\n",
    "    requirements_file=requirements_file,\n",
    "    set_as_default=True\n",
    ")"
   ]
  },
  {
   "cell_type": "markdown",
   "id": "880618fb-a419-4ad7-ba62-82509fdb9677",
   "metadata": {},
   "source": [
    "## Create function for pre-processing data"
   ]
  },
  {
   "cell_type": "code",
   "execution_count": 76,
   "id": "d8dda119-310f-454c-b8a2-0a96fdd9249f",
   "metadata": {
    "tags": []
   },
   "outputs": [
    {
     "name": "stdout",
     "output_type": "stream",
     "text": [
      "huggingface/tokenizers: The current process just got forked, after parallelism has already been used. Disabling parallelism to avoid deadlocks...\n",
      "To disable this warning, you can either:\n",
      "\t- Avoid using `tokenizers` before the fork if possible\n",
      "\t- Explicitly set the environment variable TOKENIZERS_PARALLELISM=(true | false)\n"
     ]
    },
    {
     "data": {
      "text/plain": [
       "<mlrun.projects.project.MlrunProject at 0x7fb1704e8c10>"
      ]
     },
     "execution_count": 76,
     "metadata": {},
     "output_type": "execute_result"
    }
   ],
   "source": [
    "pre_proc_func = project.set_function(\n",
    "    \"preprocess.py\",\n",
    "    name=\"preprocess\",\n",
    "    kind=\"job\",\n",
    "    handler=\"preprocessdata\"\n",
    ")\n",
    "project.save()"
   ]
  },
  {
   "cell_type": "code",
   "execution_count": 83,
   "id": "3d2560c1-86f8-4d47-8985-55275fac2952",
   "metadata": {
    "collapsed": true,
    "jupyter": {
     "outputs_hidden": true
    },
    "tags": []
   },
   "outputs": [
    {
     "name": "stdout",
     "output_type": "stream",
     "text": [
      "> 2024-02-13 13:12:29,695 [debug] Auto mount disabled due to user selection (auto_mount_type=none)\n",
      "> 2024-02-13 13:12:29,705 [info] Storing function: {'name': 'preprocess-preprocessdata', 'uid': '351714bf04cb410d8b94a48c644330c9', 'db': 'http://localhost:8080'}\n",
      "> 2024-02-13 13:12:29,725 [debug] starting local run: preprocess.py # preprocessdata\n",
      "> 2024-02-13 13:12:29,736 [debug] The packagers manager collected the packager: BoolPackager(packable_type=bool, artifact_types=['object', 'result'], priority=5)\n",
      "> 2024-02-13 13:12:29,736 [debug] The packagers manager collected the packager: BytearrayPackager(packable_type=bytearray, artifact_types=['file', 'object', 'result'], priority=5)\n",
      "> 2024-02-13 13:12:29,736 [debug] The packagers manager collected the packager: BytesPackager(packable_type=bytes, artifact_types=['file', 'object', 'result'], priority=5)\n",
      "> 2024-02-13 13:12:29,736 [debug] The packagers manager collected the packager: DictPackager(packable_type=dict, artifact_types=['file', 'object', 'result'], priority=5)\n",
      "> 2024-02-13 13:12:29,737 [debug] The packagers manager collected the packager: FloatPackager(packable_type=float, artifact_types=['object', 'result'], priority=5)\n",
      "> 2024-02-13 13:12:29,737 [debug] The packagers manager collected the packager: FrozensetPackager(packable_type=frozenset, artifact_types=['file', 'object', 'result'], priority=5)\n",
      "> 2024-02-13 13:12:29,737 [debug] The packagers manager collected the packager: IntPackager(packable_type=int, artifact_types=['object', 'result'], priority=5)\n",
      "> 2024-02-13 13:12:29,737 [debug] The packagers manager collected the packager: ListPackager(packable_type=list, artifact_types=['file', 'object', 'result'], priority=5)\n",
      "> 2024-02-13 13:12:29,738 [debug] The packagers manager collected the packager: PathPackager(packable_type=Path, artifact_types=['object', 'path', 'result'], priority=5)\n",
      "> 2024-02-13 13:12:29,738 [debug] The packagers manager collected the packager: SetPackager(packable_type=set, artifact_types=['file', 'object', 'result'], priority=5)\n",
      "> 2024-02-13 13:12:29,738 [debug] The packagers manager collected the packager: StrPackager(packable_type=str, artifact_types=['object', 'path', 'result'], priority=5)\n",
      "> 2024-02-13 13:12:29,738 [debug] The packagers manager collected the packager: TuplePackager(packable_type=tuple, artifact_types=['file', 'object', 'result'], priority=5)\n",
      "> 2024-02-13 13:12:29,738 [debug] The packagers manager collected the packager: PandasDataFramePackager(packable_type=DataFrame, artifact_types=['dataset', 'file', 'object', 'result'], priority=5)\n",
      "> 2024-02-13 13:12:29,739 [debug] The packagers manager collected the packager: PandasSeriesPackager(packable_type=Series, artifact_types=['file', 'object', 'result'], priority=5)\n",
      "> 2024-02-13 13:12:29,739 [debug] The packagers manager collected the packager: NumPyNDArrayDictPackager(packable_type=typing.Dict[str, numpy.ndarray], artifact_types=['file', 'object', 'result'], priority=4)\n",
      "> 2024-02-13 13:12:29,739 [debug] The packagers manager collected the packager: NumPyNDArrayListPackager(packable_type=typing.List[numpy.ndarray], artifact_types=['file', 'object', 'result'], priority=4)\n",
      "> 2024-02-13 13:12:29,739 [debug] The packagers manager collected the packager: NumPyNDArrayPackager(packable_type=ndarray, artifact_types=['dataset', 'file', 'object', 'result'], priority=5)\n",
      "> 2024-02-13 13:12:29,739 [debug] The packagers manager collected the packager: NumPyNumberPackager(packable_type=number, artifact_types=['object', 'result'], priority=5)\n",
      "> 2024-02-13 13:12:29,744 [debug] The packagers manager collected the packager: BoolPackager(packable_type=bool, artifact_types=['object', 'result'], priority=5)\n",
      "> 2024-02-13 13:12:29,744 [debug] The packagers manager collected the packager: BytearrayPackager(packable_type=bytearray, artifact_types=['file', 'object', 'result'], priority=5)\n",
      "> 2024-02-13 13:12:29,745 [debug] The packagers manager collected the packager: BytesPackager(packable_type=bytes, artifact_types=['file', 'object', 'result'], priority=5)\n",
      "> 2024-02-13 13:12:29,745 [debug] The packagers manager collected the packager: DictPackager(packable_type=dict, artifact_types=['file', 'object', 'result'], priority=5)\n",
      "> 2024-02-13 13:12:29,745 [debug] The packagers manager collected the packager: FloatPackager(packable_type=float, artifact_types=['object', 'result'], priority=5)\n",
      "> 2024-02-13 13:12:29,745 [debug] The packagers manager collected the packager: FrozensetPackager(packable_type=frozenset, artifact_types=['file', 'object', 'result'], priority=5)\n",
      "> 2024-02-13 13:12:29,745 [debug] The packagers manager collected the packager: IntPackager(packable_type=int, artifact_types=['object', 'result'], priority=5)\n",
      "> 2024-02-13 13:12:29,746 [debug] The packagers manager collected the packager: ListPackager(packable_type=list, artifact_types=['file', 'object', 'result'], priority=5)\n",
      "> 2024-02-13 13:12:29,746 [debug] The packagers manager collected the packager: PathPackager(packable_type=Path, artifact_types=['object', 'path', 'result'], priority=5)\n",
      "> 2024-02-13 13:12:29,746 [debug] The packagers manager collected the packager: SetPackager(packable_type=set, artifact_types=['file', 'object', 'result'], priority=5)\n",
      "> 2024-02-13 13:12:29,746 [debug] The packagers manager collected the packager: StrPackager(packable_type=str, artifact_types=['object', 'path', 'result'], priority=5)\n",
      "> 2024-02-13 13:12:29,746 [debug] The packagers manager collected the packager: TuplePackager(packable_type=tuple, artifact_types=['file', 'object', 'result'], priority=5)\n",
      "> 2024-02-13 13:12:29,747 [debug] The packagers manager collected the packager: PandasDataFramePackager(packable_type=DataFrame, artifact_types=['dataset', 'file', 'object', 'result'], priority=5)\n",
      "> 2024-02-13 13:12:29,747 [debug] The packagers manager collected the packager: PandasSeriesPackager(packable_type=Series, artifact_types=['file', 'object', 'result'], priority=5)\n",
      "> 2024-02-13 13:12:29,747 [debug] The packagers manager collected the packager: NumPyNDArrayDictPackager(packable_type=typing.Dict[str, numpy.ndarray], artifact_types=['file', 'object', 'result'], priority=4)\n",
      "> 2024-02-13 13:12:29,747 [debug] The packagers manager collected the packager: NumPyNDArrayListPackager(packable_type=typing.List[numpy.ndarray], artifact_types=['file', 'object', 'result'], priority=4)\n",
      "> 2024-02-13 13:12:29,747 [debug] The packagers manager collected the packager: NumPyNDArrayPackager(packable_type=ndarray, artifact_types=['dataset', 'file', 'object', 'result'], priority=5)\n",
      "> 2024-02-13 13:12:29,748 [debug] The packagers manager collected the packager: NumPyNumberPackager(packable_type=number, artifact_types=['object', 'result'], priority=5)\n",
      "Tokenizers config:\n",
      "{'bg': 'Geotrend/bert-base-bg-cased', 'cs': 'DeepPavlov/bert-base-bg-cs-pl-ru-cased', 'da': 'Maltehb/danish-bert-botxo', 'de': 'bert-base-german-cased', 'el': 'nlpaueb/bert-base-greek-uncased-v1', 'en': 'nlpaueb/legal-bert-base-uncased', 'es': 'dccuchile/bert-base-spanish-wwm-cased', 'et': 'EMBEDDIA/finest-bert', 'fi': 'EMBEDDIA/finest-bert', 'fr': 'camembert-base', 'ga': 'DCU-NLP/bert-base-irish-cased-v1', 'hr': 'bert-base-multilingual-cased', 'hu': 'SZTAKI-HLT/hubert-base-cc', 'it': 'dbmdz/bert-base-italian-cased', 'lt': 'EMBEDDIA/litlat-bert', 'lv': 'EMBEDDIA/litlat-bert', 'mt': 'bert-base-multilingual-cased', 'nl': 'wietsedv/bert-base-dutch-cased', 'pl': 'dkleczek/bert-base-polish-cased-v1', 'pt': 'neuralmind/bert-base-portuguese-cased', 'ro': 'dumitrescustefan/bert-base-romanian-cased-v1', 'sk': 'bert-base-multilingual-cased', 'sl': 'bert-base-multilingual-cased', 'sv': 'KB/bert-base-swedish-cased'}\n",
      "\n",
      "Working on directory: it...\n",
      "Lang: 'it', Tokenizer: 'dbmdz/bert-base-italian-cased'\n",
      "Files to process : 1949.json.gz, 1951.json.gz, 1952.json.gz, 1953.json.gz, 1954.json.gz, 1955.json.gz, 1956.json.gz, 1957.json.gz, 2020.json.gz\n",
      "\n",
      "Processing file: '1949.json.gz'...\n",
      "2024-02-13 13:12:29 - 1/2\r"
     ]
    },
    {
     "name": "stderr",
     "output_type": "stream",
     "text": [
      "Token indices sequence length is longer than the specified maximum sequence length for this model (8113 > 512). Running this sequence through the model will result in indexing errors\n"
     ]
    },
    {
     "name": "stdout",
     "output_type": "stream",
     "text": [
      "Dataset stats: - total documents: 2, big documents: 2, ratio: 100.0000%\n",
      "               - total tokens: 16535, unk tokens: 0, ratio: 0.0000%\n",
      "Processing file: '1951.json.gz'...\n"
     ]
    },
    {
     "name": "stderr",
     "output_type": "stream",
     "text": [
      "Token indices sequence length is longer than the specified maximum sequence length for this model (879 > 512). Running this sequence through the model will result in indexing errors\n"
     ]
    },
    {
     "name": "stdout",
     "output_type": "stream",
     "text": [
      "No documents found in the dataset.\n",
      "Processing file: '1952.json.gz'...\n",
      "Dataset stats: - total documents: 3, big documents: 2, ratio: 66.6667%\n",
      "               - total tokens: 1771, unk tokens: 4, ratio: 0.2259%\n",
      "Processing file: '1953.json.gz'...\n"
     ]
    },
    {
     "name": "stderr",
     "output_type": "stream",
     "text": [
      "Token indices sequence length is longer than the specified maximum sequence length for this model (1446 > 512). Running this sequence through the model will result in indexing errors\n"
     ]
    },
    {
     "name": "stdout",
     "output_type": "stream",
     "text": [
      "Dataset stats: - total documents: 8, big documents: 5, ratio: 62.5000%\n",
      "               - total tokens: 5554, unk tokens: 14, ratio: 0.2521%\n",
      "Processing file: '1954.json.gz'...\n"
     ]
    },
    {
     "name": "stderr",
     "output_type": "stream",
     "text": [
      "Token indices sequence length is longer than the specified maximum sequence length for this model (9697 > 512). Running this sequence through the model will result in indexing errors\n"
     ]
    },
    {
     "name": "stdout",
     "output_type": "stream",
     "text": [
      "Dataset stats: - total documents: 7, big documents: 5, ratio: 71.4286%\n",
      "               - total tokens: 14445, unk tokens: 38, ratio: 0.2631%\n",
      "Processing file: '1955.json.gz'...\n"
     ]
    },
    {
     "name": "stderr",
     "output_type": "stream",
     "text": [
      "Token indices sequence length is longer than the specified maximum sequence length for this model (12012 > 512). Running this sequence through the model will result in indexing errors\n"
     ]
    },
    {
     "name": "stdout",
     "output_type": "stream",
     "text": [
      "Dataset stats: - total documents: 3, big documents: 1, ratio: 33.3333%\n",
      "               - total tokens: 12669, unk tokens: 15, ratio: 0.1184%\n",
      "Processing file: '1956.json.gz'...\n"
     ]
    },
    {
     "name": "stderr",
     "output_type": "stream",
     "text": [
      "Token indices sequence length is longer than the specified maximum sequence length for this model (1059 > 512). Running this sequence through the model will result in indexing errors\n"
     ]
    },
    {
     "name": "stdout",
     "output_type": "stream",
     "text": [
      "Dataset stats: - total documents: 6, big documents: 3, ratio: 50.0000%\n",
      "               - total tokens: 14905, unk tokens: 33, ratio: 0.2214%\n",
      "Processing file: '1957.json.gz'...\n"
     ]
    },
    {
     "name": "stderr",
     "output_type": "stream",
     "text": [
      "Token indices sequence length is longer than the specified maximum sequence length for this model (1022 > 512). Running this sequence through the model will result in indexing errors\n"
     ]
    },
    {
     "name": "stdout",
     "output_type": "stream",
     "text": [
      "Dataset stats: - total documents: 2, big documents: 2, ratio: 100.0000%\n",
      "               - total tokens: 2461, unk tokens: 13, ratio: 0.5282%\n",
      "Processing file: '2020.json.gz'...\n"
     ]
    },
    {
     "name": "stderr",
     "output_type": "stream",
     "text": [
      "Token indices sequence length is longer than the specified maximum sequence length for this model (1127 > 512). Running this sequence through the model will result in indexing errors\n"
     ]
    },
    {
     "name": "stdout",
     "output_type": "stream",
     "text": [
      "Dataset stats: - total documents: 8032, big documents: 4475, ratio: 55.7146%\n",
      "               - total tokens: 37738446, unk tokens: 196434, ratio: 0.5205%\n",
      "2024-02-13 13:15:01 - Saving splits...\n",
      "110 - Splitted the documents in - train: 6381, dev: 853, test: 829\n",
      "> 2024-02-13 13:15:34,878 [debug] Run updates: {'name': 'preprocess-preprocessdata', 'uid': '351714bf04cb410d8b94a48c644330c9', 'kind': '', 'last_state': '', 'updates': {'status.last_update': '2024-02-13T13:15:34.878767+00:00', 'status.state': 'completed'}}\n",
      "> 2024-02-13 13:15:34,887 [debug] No notifications to push for run: {'run_uid': '351714bf04cb410d8b94a48c644330c9'}\n"
     ]
    },
    {
     "data": {
      "text/html": [
       "<style>\n",
       ".dictlist {\n",
       "  background-color: #4EC64B;\n",
       "  text-align: center;\n",
       "  margin: 4px;\n",
       "  border-radius: 3px; padding: 0px 3px 1px 3px; display: inline-block;}\n",
       ".artifact {\n",
       "  cursor: pointer;\n",
       "  background-color: #4EC64B;\n",
       "  text-align: left;\n",
       "  margin: 4px; border-radius: 3px; padding: 0px 3px 1px 3px; display: inline-block;\n",
       "}\n",
       "div.block.hidden {\n",
       "  display: none;\n",
       "}\n",
       ".clickable {\n",
       "  cursor: pointer;\n",
       "}\n",
       ".ellipsis {\n",
       "  display: inline-block;\n",
       "  max-width: 60px;\n",
       "  white-space: nowrap;\n",
       "  overflow: hidden;\n",
       "  text-overflow: ellipsis;\n",
       "}\n",
       ".master-wrapper {\n",
       "  display: flex;\n",
       "  flex-flow: row nowrap;\n",
       "  justify-content: flex-start;\n",
       "  align-items: stretch;\n",
       "}\n",
       ".master-tbl {\n",
       "  flex: 3\n",
       "}\n",
       ".master-wrapper > div {\n",
       "  margin: 4px;\n",
       "  padding: 10px;\n",
       "}\n",
       "iframe.fileview {\n",
       "  border: 0 none;\n",
       "  height: 100%;\n",
       "  width: 100%;\n",
       "  white-space: pre-wrap;\n",
       "}\n",
       ".pane-header-title {\n",
       "  width: 80%;\n",
       "  font-weight: 500;\n",
       "}\n",
       ".pane-header {\n",
       "  line-height: 1;\n",
       "  background-color: #4EC64B;\n",
       "  padding: 3px;\n",
       "}\n",
       ".pane-header .close {\n",
       "  font-size: 20px;\n",
       "  font-weight: 700;\n",
       "  float: right;\n",
       "  margin-top: -5px;\n",
       "}\n",
       ".master-wrapper .right-pane {\n",
       "  border: 1px inset silver;\n",
       "  width: 40%;\n",
       "  min-height: 300px;\n",
       "  flex: 3\n",
       "  min-width: 500px;\n",
       "}\n",
       ".master-wrapper * {\n",
       "  box-sizing: border-box;\n",
       "}\n",
       "</style><script>\n",
       "function copyToClipboard(fld) {\n",
       "    if (document.queryCommandSupported && document.queryCommandSupported('copy')) {\n",
       "        var textarea = document.createElement('textarea');\n",
       "        textarea.textContent = fld.innerHTML;\n",
       "        textarea.style.position = 'fixed';\n",
       "        document.body.appendChild(textarea);\n",
       "        textarea.select();\n",
       "\n",
       "        try {\n",
       "            return document.execCommand('copy'); // Security exception may be thrown by some browsers.\n",
       "        } catch (ex) {\n",
       "\n",
       "        } finally {\n",
       "            document.body.removeChild(textarea);\n",
       "        }\n",
       "    }\n",
       "}\n",
       "function expandPanel(el) {\n",
       "  const panelName = \"#\" + el.getAttribute('paneName');\n",
       "  console.log(el.title);\n",
       "\n",
       "  document.querySelector(panelName + \"-title\").innerHTML = el.title\n",
       "  iframe = document.querySelector(panelName + \"-body\");\n",
       "\n",
       "  const tblcss = `<style> body { font-family: Arial, Helvetica, sans-serif;}\n",
       "    #csv { margin-bottom: 15px; }\n",
       "    #csv table { border-collapse: collapse;}\n",
       "    #csv table td { padding: 4px 8px; border: 1px solid silver;} </style>`;\n",
       "\n",
       "  function csvToHtmlTable(str) {\n",
       "    return '<div id=\"csv\"><table><tr><td>' +  str.replace(/[\\n\\r]+$/g, '').replace(/[\\n\\r]+/g, '</td></tr><tr><td>')\n",
       "      .replace(/,/g, '</td><td>') + '</td></tr></table></div>';\n",
       "  }\n",
       "\n",
       "  function reqListener () {\n",
       "    if (el.title.endsWith(\".csv\")) {\n",
       "      iframe.setAttribute(\"srcdoc\", tblcss + csvToHtmlTable(this.responseText));\n",
       "    } else {\n",
       "      iframe.setAttribute(\"srcdoc\", this.responseText);\n",
       "    }\n",
       "    console.log(this.responseText);\n",
       "  }\n",
       "\n",
       "  const oReq = new XMLHttpRequest();\n",
       "  oReq.addEventListener(\"load\", reqListener);\n",
       "  oReq.open(\"GET\", el.title);\n",
       "  oReq.send();\n",
       "\n",
       "\n",
       "  //iframe.src = el.title;\n",
       "  const resultPane = document.querySelector(panelName + \"-pane\");\n",
       "  if (resultPane.classList.contains(\"hidden\")) {\n",
       "    resultPane.classList.remove(\"hidden\");\n",
       "  }\n",
       "}\n",
       "function closePanel(el) {\n",
       "  const panelName = \"#\" + el.getAttribute('paneName')\n",
       "  const resultPane = document.querySelector(panelName + \"-pane\");\n",
       "  if (!resultPane.classList.contains(\"hidden\")) {\n",
       "    resultPane.classList.add(\"hidden\");\n",
       "  }\n",
       "}\n",
       "\n",
       "</script>\n",
       "<div class=\"master-wrapper\">\n",
       "  <div class=\"block master-tbl\"><div>\n",
       "<style scoped>\n",
       "    .dataframe tbody tr th:only-of-type {\n",
       "        vertical-align: middle;\n",
       "    }\n",
       "\n",
       "    .dataframe tbody tr th {\n",
       "        vertical-align: top;\n",
       "    }\n",
       "\n",
       "    .dataframe thead th {\n",
       "        text-align: right;\n",
       "    }\n",
       "</style>\n",
       "<table border=\"1\" class=\"dataframe\">\n",
       "  <thead>\n",
       "    <tr style=\"text-align: right;\">\n",
       "      <th>project</th>\n",
       "      <th>uid</th>\n",
       "      <th>iter</th>\n",
       "      <th>start</th>\n",
       "      <th>state</th>\n",
       "      <th>name</th>\n",
       "      <th>labels</th>\n",
       "      <th>inputs</th>\n",
       "      <th>parameters</th>\n",
       "      <th>results</th>\n",
       "      <th>artifacts</th>\n",
       "    </tr>\n",
       "  </thead>\n",
       "  <tbody>\n",
       "    <tr>\n",
       "      <td>bert-classification</td>\n",
       "      <td><div title=\"351714bf04cb410d8b94a48c644330c9\"><a href=\"http://localhost:8060/projects/bert-classification/jobs/monitor/351714bf04cb410d8b94a48c644330c9/overview\" target=\"_blank\" >...644330c9</a></div></td>\n",
       "      <td>0</td>\n",
       "      <td>Feb 13 13:12:29</td>\n",
       "      <td>completed</td>\n",
       "      <td>preprocess-preprocessdata</td>\n",
       "      <td><div class=\"dictlist\">kind=</div><div class=\"dictlist\">owner=jovyan</div><div class=\"dictlist\">host=a7388fe5f22d</div></td>\n",
       "      <td></td>\n",
       "      <td></td>\n",
       "      <td></td>\n",
       "      <td></td>\n",
       "    </tr>\n",
       "  </tbody>\n",
       "</table>\n",
       "</div></div>\n",
       "  <div id=\"result53d4f36e-pane\" class=\"right-pane block hidden\">\n",
       "    <div class=\"pane-header\">\n",
       "      <span id=\"result53d4f36e-title\" class=\"pane-header-title\">Title</span>\n",
       "      <span onclick=\"closePanel(this)\" paneName=\"result53d4f36e\" class=\"close clickable\">&times;</span>\n",
       "    </div>\n",
       "    <iframe class=\"fileview\" id=\"result53d4f36e-body\"></iframe>\n",
       "  </div>\n",
       "</div>\n"
      ],
      "text/plain": [
       "<IPython.core.display.HTML object>"
      ]
     },
     "metadata": {},
     "output_type": "display_data"
    },
    {
     "name": "stdout",
     "output_type": "stream",
     "text": [
      "\n"
     ]
    },
    {
     "data": {
      "text/html": [
       "<b> > to track results use the .show() or .logs() methods  or <a href=\"http://localhost:8060/projects/bert-classification/jobs/monitor/351714bf04cb410d8b94a48c644330c9/overview\" target=\"_blank\">click here</a> to open in UI</b>"
      ],
      "text/plain": [
       "<IPython.core.display.HTML object>"
      ]
     },
     "metadata": {},
     "output_type": "display_data"
    },
    {
     "name": "stdout",
     "output_type": "stream",
     "text": [
      "> 2024-02-13 13:15:34,893 [info] Run execution finished: {'status': 'completed', 'name': 'preprocess-preprocessdata'}\n"
     ]
    }
   ],
   "source": [
    "get_data_run = project.run_function(\"preprocess\", local=True)"
   ]
  },
  {
   "cell_type": "markdown",
   "id": "00438475-cb74-4b68-8476-76a3f3e74b8b",
   "metadata": {},
   "source": [
    "## Create function for training"
   ]
  },
  {
   "cell_type": "code",
   "execution_count": null,
   "id": "43b696e5-706f-48e4-b1ea-9a7a9a1c7562",
   "metadata": {},
   "outputs": [],
   "source": [
    "project.set_function(\n",
    "    \"train.py\",\n",
    "    name=\"train\",\n",
    "    kind=\"job\",\n",
    "    handler=\"train\"\n",
    ")"
   ]
  },
  {
   "cell_type": "code",
   "execution_count": null,
   "id": "2161820a-6d2f-4f7f-937c-2fcb6399cd1d",
   "metadata": {},
   "outputs": [],
   "source": [
    "project.run_function(\"train\", local=True)"
   ]
  },
  {
   "cell_type": "code",
   "execution_count": null,
   "id": "c654461d-7053-4940-81da-9a573d9f5758",
   "metadata": {},
   "outputs": [],
   "source": []
  },
  {
   "cell_type": "markdown",
   "id": "a35a0782-f254-479d-8def-95eddee585e5",
   "metadata": {},
   "source": [
    "## Create function for evaluation"
   ]
  },
  {
   "cell_type": "code",
   "execution_count": null,
   "id": "8ecc5b90-0dcf-4af0-a81f-5aff5fbc83a8",
   "metadata": {},
   "outputs": [],
   "source": [
    "project.set_function(\n",
    "    \"evaluate.py\",\n",
    "    name=\"evaluate\",\n",
    "    kind=\"job\",\n",
    "    handler=\"evaluate\"\n",
    ")"
   ]
  }
 ],
 "metadata": {
  "kernelspec": {
   "display_name": "Python 3 (ipykernel)",
   "language": "python",
   "name": "python3"
  },
  "language_info": {
   "codemirror_mode": {
    "name": "ipython",
    "version": 3
   },
   "file_extension": ".py",
   "mimetype": "text/x-python",
   "name": "python",
   "nbconvert_exporter": "python",
   "pygments_lexer": "ipython3",
   "version": "3.9.16"
  }
 },
 "nbformat": 4,
 "nbformat_minor": 5
}
