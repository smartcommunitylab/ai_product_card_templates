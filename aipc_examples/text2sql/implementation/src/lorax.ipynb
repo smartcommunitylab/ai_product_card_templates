{
 "cells": [
  {
   "cell_type": "code",
   "execution_count": null,
   "id": "671b230f-b636-454f-ab64-1b8fc4af201c",
   "metadata": {},
   "outputs": [],
   "source": [
    "!pip install lorax-client"
   ]
  },
  {
   "cell_type": "code",
   "execution_count": null,
   "id": "4819d5b5-18f5-46c6-8ea8-acd58ceedd9f",
   "metadata": {},
   "outputs": [],
   "source": [
    "import os\n",
    "os.environ[\"AWS_ACCESS_KEY_ID\"] = \"minio\"\n",
    "os.environ[\"AWS_SECRET_ACCESS_KEY\"] = \"digitalhub-dev\""
   ]
  },
  {
   "cell_type": "code",
   "execution_count": null,
   "id": "ecafb2b1-c90c-4c03-a94f-9f52f8629be2",
   "metadata": {},
   "outputs": [],
   "source": [
    "from lorax import Client\n",
    "\n",
    "client = Client(\"http://lorax:80\")\n",
    "\n",
    "# Prompt the base LLM\n",
    "prompt = \"[INST] Natalia sold clips to 48 of her friends in April, and then she sold half as many clips in May. How many clips did Natalia sell altogether in April and May? [/INST]\"\n",
    "\n",
    "#prompt = \"You are a powerful text-to-SQL model. Your job is to answer questions about a database. \\\n",
    "#You are given a question and context regarding one or more tables. \\\n",
    "#    \\n\\nYou must output the SQL query that answers the question.\\\n",
    "#    \\n\\n### Input:\\nWho won the points classification when the teams classification winner was Lampre-Farnese? \\\n",
    "#\\n\\n### Context:\\nCREATE TABLE table_28092844_16 (points_classification_klasyfikacja_punktowa VARCHAR, teams_classification VARCHAR)\\\n",
    "#\\n\\n### Response:\\n\""
   ]
  },
  {
   "cell_type": "markdown",
   "id": "153a10e1-d4e6-4341-bb4d-ef151954f638",
   "metadata": {},
   "source": [
    "## Generation with the original model (llama2) "
   ]
  },
  {
   "cell_type": "code",
   "execution_count": null,
   "id": "e4f4c18e-238e-4029-b5f4-164d7d510ea5",
   "metadata": {},
   "outputs": [],
   "source": [
    "print(client.generate(prompt, max_new_tokens=64).generated_text)"
   ]
  },
  {
   "cell_type": "markdown",
   "id": "7110a5f9-8bcc-4cf6-bc48-cc296e49c64f",
   "metadata": {},
   "source": [
    "## Generation with the fine-tuned model "
   ]
  },
  {
   "cell_type": "code",
   "execution_count": null,
   "id": "ac6d2fcd-c779-4a25-b65d-4f8ef27e5590",
   "metadata": {},
   "outputs": [],
   "source": [
    "# Prompt a LoRA adapter\n",
    "#adapter_id = \"vineetsharma/qlora-adapter-Mistral-7B-Instruct-v0.1-gsm8k\"\n",
    "#adapter_id = \"xhan77/web-llama2chat-70b-adapter\"\n",
    "adapter_id = \"s3://llama2-adapter/checkpoint-400\"\n",
    "adapter_source =\"s3\"\n",
    "print(client.generate(prompt, max_new_tokens=64, adapter_id=adapter_id, adapter_source=adapter_source).generated_text)"
   ]
  },
  {
   "cell_type": "code",
   "execution_count": null,
   "id": "f3316a4b-13b6-4e3d-b17a-4862f8563308",
   "metadata": {},
   "outputs": [],
   "source": []
  }
 ],
 "metadata": {
  "kernelspec": {
   "display_name": "Python 3 (ipykernel)",
   "language": "python",
   "name": "python3"
  },
  "language_info": {
   "codemirror_mode": {
    "name": "ipython",
    "version": 3
   },
   "file_extension": ".py",
   "mimetype": "text/x-python",
   "name": "python",
   "nbconvert_exporter": "python",
   "pygments_lexer": "ipython3",
   "version": "3.9.13"
  }
 },
 "nbformat": 4,
 "nbformat_minor": 5
}
