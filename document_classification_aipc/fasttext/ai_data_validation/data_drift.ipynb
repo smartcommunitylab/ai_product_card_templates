{
 "cells": [
  {
   "cell_type": "code",
   "execution_count": 46,
   "id": "a8695d6d-ea9b-4b48-9f2a-4096268ef146",
   "metadata": {},
   "outputs": [],
   "source": [
    "import pandas as pd\n",
    "import json, requests, zipfile, io\n",
    "from evidently.pipeline.column_mapping import ColumnMapping\n",
    "from evidently.report import Report\n",
    "from evidently.metrics.base_metric import generate_column_metrics\n",
    "from evidently.metric_preset import DataDriftPreset, TargetDriftPreset\n",
    "from evidently.metrics import TextDescriptorsDriftMetric\n",
    "\n",
    "from evidently.test_suite import TestSuite\n",
    "from evidently.tests.base_test import generate_column_tests\n",
    "from evidently.test_preset import DataStabilityTestPreset, NoTargetPerformanceTestPreset\n",
    "from evidently.tests import *\n",
    "\n",
    "from evidently.features.text_length_feature import TextLength\n",
    "from evidently.features.OOV_words_percentage_feature import OOVWordsPercentage"
   ]
  },
  {
   "cell_type": "markdown",
   "id": "c959aba9-f337-4688-bdf6-00a3af95379a",
   "metadata": {},
   "source": [
    "## Why using Text descriptors"
   ]
  },
  {
   "cell_type": "markdown",
   "id": "841cee36-b318-49e2-9943-718edf842a10",
   "metadata": {},
   "source": [
    "Evaluating the share of words outside the defined vocabulary is a good measure of data quality. \n",
    "Did the legal acts start talking about new concepts?\n",
    "This is a single practical measure to detect all sorts of changes. Once you catch a shift, you can then debug deeper. \n",
    "\n"
   ]
  },
  {
   "cell_type": "markdown",
   "id": "b860f585-689d-473f-9331-46f0855f93de",
   "metadata": {},
   "source": [
    "# Prepare legal acts dataset"
   ]
  },
  {
   "cell_type": "code",
   "execution_count": 47,
   "id": "d38bf036-aebd-4262-90a7-693a9c32dc7a",
   "metadata": {},
   "outputs": [],
   "source": [
    "legal_acts_content = requests.get('https://drive.usercontent.google.com/u/0/uc?id=11xy6a6cbteD2TG9r3CU16ysO50xrqZf2&export=download').content"
   ]
  },
  {
   "cell_type": "code",
   "execution_count": 48,
   "id": "c6555b19-4893-4d11-b69e-f9800bd3e3f9",
   "metadata": {},
   "outputs": [],
   "source": [
    "with zipfile.ZipFile(io.BytesIO(legal_acts_content)) as arc:\n",
    "    legal_acts_data = pd.read_json(arc.open(\"data.json\"))\n",
    "legal_acts_data['labels'] = legal_acts_data['labels'].apply(lambda x: ','.join(map(str, x)))\n",
    "legal_acts_data['year'] = legal_acts_data['id'].str.slice(5, 9).astype(int)"
   ]
  },
  {
   "cell_type": "code",
   "execution_count": 49,
   "id": "6e0618ee-c8b4-4bab-80f2-2c05c76492ab",
   "metadata": {},
   "outputs": [],
   "source": [
    "reference = legal_acts_data[legal_acts_data['year'] < 2000]\n",
    "current = legal_acts_data[legal_acts_data['year'] > 2000]\n",
    "\n",
    "# prepare data and map schema\n",
    "column_mapping_legal = ColumnMapping()\n",
    "column_mapping_legal.target = \"labels\"\n",
    "#column_mapping.predictions = \"predicted_labels\"\n",
    "column_mapping_legal.text_features = ['text']\n",
    "column_mapping_legal.categorical_features = []\n",
    "column_mapping_legal.numerical_features = []"
   ]
  },
  {
   "cell_type": "code",
   "execution_count": 52,
   "id": "50887688-3c66-4dfc-abac-0618244a3eeb",
   "metadata": {},
   "outputs": [
    {
     "data": {
      "text/html": [
       "<div>\n",
       "<style scoped>\n",
       "    .dataframe tbody tr th:only-of-type {\n",
       "        vertical-align: middle;\n",
       "    }\n",
       "\n",
       "    .dataframe tbody tr th {\n",
       "        vertical-align: top;\n",
       "    }\n",
       "\n",
       "    .dataframe thead th {\n",
       "        text-align: right;\n",
       "    }\n",
       "</style>\n",
       "<table border=\"1\" class=\"dataframe\">\n",
       "  <thead>\n",
       "    <tr style=\"text-align: right;\">\n",
       "      <th></th>\n",
       "      <th>text</th>\n",
       "      <th>id</th>\n",
       "      <th>labels</th>\n",
       "      <th>year</th>\n",
       "    </tr>\n",
       "  </thead>\n",
       "  <tbody>\n",
       "    <tr>\n",
       "      <th>0</th>\n",
       "      <td>Ratifica ed esecuzione dei seguenti Trattati: ...</td>\n",
       "      <td>ipzs-20210604_21G00088</td>\n",
       "      <td>A1810</td>\n",
       "      <td>2021</td>\n",
       "    </tr>\n",
       "    <tr>\n",
       "      <th>1</th>\n",
       "      <td>Governance del Piano nazionale di ripresa e re...</td>\n",
       "      <td>ipzs-20210531_21G00087</td>\n",
       "      <td>A1490</td>\n",
       "      <td>2021</td>\n",
       "    </tr>\n",
       "    <tr>\n",
       "      <th>2</th>\n",
       "      <td>Conversione in legge, con modificazioni, del d...</td>\n",
       "      <td>ipzs-20210531_21G00086</td>\n",
       "      <td>A6040</td>\n",
       "      <td>2021</td>\n",
       "    </tr>\n",
       "    <tr>\n",
       "      <th>3</th>\n",
       "      <td>Conversione in legge, con modificazioni, del d...</td>\n",
       "      <td>ipzs-20210528_21G00085</td>\n",
       "      <td>A6780</td>\n",
       "      <td>2021</td>\n",
       "    </tr>\n",
       "    <tr>\n",
       "      <th>4</th>\n",
       "      <td>Ratifica ed esecuzione dell'Accordo di coopera...</td>\n",
       "      <td>ipzs-20210526_21G00082</td>\n",
       "      <td>A1810</td>\n",
       "      <td>2021</td>\n",
       "    </tr>\n",
       "    <tr>\n",
       "      <th>...</th>\n",
       "      <td>...</td>\n",
       "      <td>...</td>\n",
       "      <td>...</td>\n",
       "      <td>...</td>\n",
       "    </tr>\n",
       "    <tr>\n",
       "      <th>5113</th>\n",
       "      <td>Regolamento concernente modalita' per il conse...</td>\n",
       "      <td>ipzs-20010108_000G0446</td>\n",
       "      <td>A5990</td>\n",
       "      <td>2001</td>\n",
       "    </tr>\n",
       "    <tr>\n",
       "      <th>5114</th>\n",
       "      <td>Norme sull'organizzazione e sul personale del ...</td>\n",
       "      <td>ipzs-20010108_001G0004</td>\n",
       "      <td>A3460</td>\n",
       "      <td>2001</td>\n",
       "    </tr>\n",
       "    <tr>\n",
       "      <th>5115</th>\n",
       "      <td>Rifinanziamento della legge 21 dicembre 1999, ...</td>\n",
       "      <td>ipzs-20010108_001G0001</td>\n",
       "      <td>A0400</td>\n",
       "      <td>2001</td>\n",
       "    </tr>\n",
       "    <tr>\n",
       "      <th>5116</th>\n",
       "      <td>Regolamento recante norme per la rideterminazi...</td>\n",
       "      <td>ipzs-20010105_000G0445</td>\n",
       "      <td>A3460</td>\n",
       "      <td>2001</td>\n",
       "    </tr>\n",
       "    <tr>\n",
       "      <th>5117</th>\n",
       "      <td>Disposizioni in materia di indagini difensive.</td>\n",
       "      <td>ipzs-20010103_000G0443</td>\n",
       "      <td>A2380</td>\n",
       "      <td>2001</td>\n",
       "    </tr>\n",
       "  </tbody>\n",
       "</table>\n",
       "<p>5118 rows × 4 columns</p>\n",
       "</div>"
      ],
      "text/plain": [
       "                                                   text   \n",
       "0     Ratifica ed esecuzione dei seguenti Trattati: ...  \\\n",
       "1     Governance del Piano nazionale di ripresa e re...   \n",
       "2     Conversione in legge, con modificazioni, del d...   \n",
       "3     Conversione in legge, con modificazioni, del d...   \n",
       "4     Ratifica ed esecuzione dell'Accordo di coopera...   \n",
       "...                                                 ...   \n",
       "5113  Regolamento concernente modalita' per il conse...   \n",
       "5114  Norme sull'organizzazione e sul personale del ...   \n",
       "5115  Rifinanziamento della legge 21 dicembre 1999, ...   \n",
       "5116  Regolamento recante norme per la rideterminazi...   \n",
       "5117    Disposizioni in materia di indagini difensive.    \n",
       "\n",
       "                          id labels  year  \n",
       "0     ipzs-20210604_21G00088  A1810  2021  \n",
       "1     ipzs-20210531_21G00087  A1490  2021  \n",
       "2     ipzs-20210531_21G00086  A6040  2021  \n",
       "3     ipzs-20210528_21G00085  A6780  2021  \n",
       "4     ipzs-20210526_21G00082  A1810  2021  \n",
       "...                      ...    ...   ...  \n",
       "5113  ipzs-20010108_000G0446  A5990  2001  \n",
       "5114  ipzs-20010108_001G0004  A3460  2001  \n",
       "5115  ipzs-20010108_001G0001  A0400  2001  \n",
       "5116  ipzs-20010105_000G0445  A3460  2001  \n",
       "5117  ipzs-20010103_000G0443  A2380  2001  \n",
       "\n",
       "[5118 rows x 4 columns]"
      ]
     },
     "execution_count": 52,
     "metadata": {},
     "output_type": "execute_result"
    }
   ],
   "source": [
    "current"
   ]
  },
  {
   "cell_type": "code",
   "execution_count": 75,
   "id": "651b68d9-26c5-4e5e-b001-934c1a3e0467",
   "metadata": {},
   "outputs": [],
   "source": [
    "current.to_json(\"current_data.json\", index=False)"
   ]
  },
  {
   "cell_type": "code",
   "execution_count": 33,
   "id": "102850be-7797-41ed-8452-d61268a0f590",
   "metadata": {},
   "outputs": [],
   "source": [
    "\n",
    "def build_data_drift_report(\n",
    "    reference_data: pd.DataFrame,\n",
    "    current_data: pd.DataFrame,\n",
    "    column_mapping: ColumnMapping,\n",
    "    drift_share=0.4,\n",
    ") -> Report:\n",
    "    \"\"\"\n",
    "    Returns a list with pairs (feature_name, drift_score)\n",
    "    Drift Score depends on the selected statistical test or distance and the threshold\n",
    "    \"\"\"\n",
    "    data_drift_report = Report(metrics=[DataDriftPreset(drift_share=drift_share)])\n",
    "    data_drift_report.run(\n",
    "        reference_data=reference_data,\n",
    "        current_data=current_data,\n",
    "        column_mapping=column_mapping,\n",
    "    )\n",
    "    return data_drift_report"
   ]
  },
  {
   "cell_type": "code",
   "execution_count": 35,
   "id": "29ed3a88-87e8-48fb-afb3-c3978f2e3446",
   "metadata": {},
   "outputs": [],
   "source": [
    "report = build_data_drift_report(reference, current, column_mapping_legal)\n",
    "report.save_html(\"reports/data_drift.html\")\n",
    "#print(report.json())"
   ]
  },
  {
   "cell_type": "markdown",
   "id": "06c53862-4553-48c4-943c-456be940546d",
   "metadata": {},
   "source": [
    "# Test suites"
   ]
  },
  {
   "cell_type": "code",
   "execution_count": 42,
   "id": "7ef0ae01-26ef-4ec8-92ac-035ee5b13b26",
   "metadata": {},
   "outputs": [
    {
     "data": {
      "text/plain": [
       "{'tests': [{'name': 'The Number of Columns With Missing Values',\n",
       "   'description': 'The number of columns with missing values is 0. The test threshold is lte=0.',\n",
       "   'status': 'SUCCESS',\n",
       "   'group': 'data_integrity',\n",
       "   'parameters': {'condition': {'lte': 0}, 'value': 0.0}},\n",
       "  {'name': 'The Number Of Rows With Missing Values',\n",
       "   'description': 'The number of rows with missing values is 0. The test threshold is lte=0 ± 1e-12.',\n",
       "   'status': 'SUCCESS',\n",
       "   'group': 'data_integrity',\n",
       "   'parameters': {'condition': {'lte': {'value': 0.0,\n",
       "      'relative': 0.1,\n",
       "      'absolute': 1e-12}},\n",
       "    'value': 0.0}},\n",
       "  {'name': 'Number of Constant Columns',\n",
       "   'description': 'The number of constant columns is 0. The test threshold is lte=0.',\n",
       "   'status': 'SUCCESS',\n",
       "   'group': 'data_integrity',\n",
       "   'parameters': {'condition': {'lte': 0}, 'value': 0.0}},\n",
       "  {'name': 'Number of Duplicate Rows',\n",
       "   'description': 'The number of duplicate rows is 0. The test threshold is eq=0 ± 1e-12.',\n",
       "   'status': 'SUCCESS',\n",
       "   'group': 'data_integrity',\n",
       "   'parameters': {'condition': {'eq': {'value': 0.0,\n",
       "      'relative': 0.1,\n",
       "      'absolute': 1e-12}},\n",
       "    'value': 0.0}},\n",
       "  {'name': 'Number of Duplicate Columns',\n",
       "   'description': 'The number of duplicate columns is 0. The test threshold is lte=0.',\n",
       "   'status': 'SUCCESS',\n",
       "   'group': 'data_integrity',\n",
       "   'parameters': {'condition': {'lte': 0}, 'value': 0.0}},\n",
       "  {'name': 'Column Types',\n",
       "   'description': 'The number of columns with a type mismatch is 0 out of 4.',\n",
       "   'status': 'SUCCESS',\n",
       "   'group': 'data_integrity',\n",
       "   'parameters': {'columns': [{'actual_type': 'object_',\n",
       "      'column_name': 'text',\n",
       "      'expected_type': 'object_'},\n",
       "     {'actual_type': 'object_',\n",
       "      'column_name': 'id',\n",
       "      'expected_type': 'object_'},\n",
       "     {'actual_type': 'object_',\n",
       "      'column_name': 'labels',\n",
       "      'expected_type': 'object_'},\n",
       "     {'actual_type': 'int64',\n",
       "      'column_name': 'year',\n",
       "      'expected_type': 'int64'}]}},\n",
       "  {'name': 'Number of Drifted Features',\n",
       "   'description': 'The drift is detected for 4 out of 4 features. The test threshold is lt=1.',\n",
       "   'status': 'FAIL',\n",
       "   'group': 'data_drift',\n",
       "   'parameters': {'condition': {'lt': 1},\n",
       "    'features': {'year': {'stattest': 'Wasserstein distance (normed)',\n",
       "      'score': 4.637,\n",
       "      'threshold': 0.1,\n",
       "      'detected': True},\n",
       "     'id': {'stattest': 'Jensen-Shannon distance',\n",
       "      'score': 0.833,\n",
       "      'threshold': 0.1,\n",
       "      'detected': True},\n",
       "     'labels': {'stattest': 'Jensen-Shannon distance',\n",
       "      'score': 0.318,\n",
       "      'threshold': 0.1,\n",
       "      'detected': True},\n",
       "     'text': {'stattest': 'Jensen-Shannon distance',\n",
       "      'score': 0.833,\n",
       "      'threshold': 0.1,\n",
       "      'detected': True}}}}],\n",
       " 'summary': {'all_passed': False,\n",
       "  'total_tests': 7,\n",
       "  'success_tests': 6,\n",
       "  'failed_tests': 1,\n",
       "  'by_status': {'SUCCESS': 6, 'FAIL': 1}}}"
      ]
     },
     "execution_count": 42,
     "metadata": {},
     "output_type": "execute_result"
    }
   ],
   "source": [
    "tests = TestSuite(tests=[\n",
    "    TestNumberOfColumnsWithMissingValues(),\n",
    "    TestNumberOfRowsWithMissingValues(),\n",
    "    TestNumberOfConstantColumns(),\n",
    "    TestNumberOfDuplicatedRows(),\n",
    "    TestNumberOfDuplicatedColumns(),\n",
    "    TestColumnsType(),\n",
    "    TestNumberOfDriftedColumns(),\n",
    "])\n",
    "\n",
    "tests.run(reference_data=reference, current_data=current)\n",
    "tests_result = tests.as_dict()\n",
    "tests_result"
   ]
  },
  {
   "cell_type": "code",
   "execution_count": 45,
   "id": "4690c894-63d0-4645-a1f8-1d10d9003b5a",
   "metadata": {},
   "outputs": [
    {
     "data": {
      "text/plain": [
       "{'all_passed': False,\n",
       " 'total_tests': 7,\n",
       " 'success_tests': 6,\n",
       " 'failed_tests': 1,\n",
       " 'by_status': {'SUCCESS': 6, 'FAIL': 1}}"
      ]
     },
     "execution_count": 45,
     "metadata": {},
     "output_type": "execute_result"
    }
   ],
   "source": [
    "tests_result['summary']"
   ]
  },
  {
   "cell_type": "code",
   "execution_count": null,
   "id": "5075cd5d-b2b3-455e-acc1-3f859b368ed4",
   "metadata": {},
   "outputs": [],
   "source": []
  }
 ],
 "metadata": {
  "kernelspec": {
   "display_name": "Python 3 (ipykernel)",
   "language": "python",
   "name": "python3"
  },
  "language_info": {
   "codemirror_mode": {
    "name": "ipython",
    "version": 3
   },
   "file_extension": ".py",
   "mimetype": "text/x-python",
   "name": "python",
   "nbconvert_exporter": "python",
   "pygments_lexer": "ipython3",
   "version": "3.9.13"
  }
 },
 "nbformat": 4,
 "nbformat_minor": 5
}
