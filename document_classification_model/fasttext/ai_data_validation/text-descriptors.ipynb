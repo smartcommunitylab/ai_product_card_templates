{
 "cells": [
  {
   "cell_type": "code",
   "execution_count": 59,
   "id": "b8a4af98-1e7a-4200-918b-442ef6a397ba",
   "metadata": {},
   "outputs": [],
   "source": [
    "import pandas as pd\n",
    "import numpy as np\n",
    "import zipfile, requests, io\n",
    "\n",
    "from evidently import ColumnMapping\n",
    "from evidently.report import Report\n",
    "from evidently.test_suite import TestSuite\n",
    "\n",
    "from evidently.metric_preset import TextOverviewPreset\n",
    "\n",
    "from evidently.metrics import TextDescriptorsDriftMetric\n",
    "from evidently.metrics import TextDescriptorsDistribution\n",
    "from evidently.metrics import TextDescriptorsCorrelationMetric\n",
    "from evidently.metrics import ColumnDriftMetric\n",
    "\n",
    "from evidently.descriptors import TextLength, TriggerWordsPresence, OOV, NonLetterCharacterPercentage, SentenceCount, WordCount, Sentiment, RegExp"
   ]
  },
  {
   "cell_type": "markdown",
   "id": "0db462a4-ac2c-458d-bb18-c1ee177d25c5",
   "metadata": {},
   "source": [
    "# Prepare legal acts dataset"
   ]
  },
  {
   "cell_type": "code",
   "execution_count": 60,
   "id": "39efc7e6-b734-41c6-a933-4c7922b48eaf",
   "metadata": {},
   "outputs": [],
   "source": [
    "legal_acts_content = requests.get('https://drive.usercontent.google.com/u/0/uc?id=11xy6a6cbteD2TG9r3CU16ysO50xrqZf2&export=download').content"
   ]
  },
  {
   "cell_type": "code",
   "execution_count": 61,
   "id": "f89824a7-9efb-4e94-9eac-ec3380815b64",
   "metadata": {},
   "outputs": [],
   "source": [
    "with zipfile.ZipFile(io.BytesIO(legal_acts_content)) as arc:\n",
    "    legal_acts_data = pd.read_json(arc.open(\"data.json\"))\n",
    "legal_acts_data['labels'] = legal_acts_data['labels'].apply(lambda x: ','.join(map(str, x)))\n",
    "legal_acts_data['year'] = legal_acts_data['id'].str.slice(5, 9).astype(int)"
   ]
  },
  {
   "cell_type": "markdown",
   "id": "3b28b21a-b9d2-4035-8cbd-320c44c205e4",
   "metadata": {},
   "source": [
    "## Split the two datasets to compare"
   ]
  },
  {
   "cell_type": "code",
   "execution_count": 62,
   "id": "68a0c87f-a7fb-4437-874b-597a3b578039",
   "metadata": {
    "scrolled": true
   },
   "outputs": [],
   "source": [
    "reference = legal_acts_data[legal_acts_data['year'] < 2000]\n",
    "current = legal_acts_data[legal_acts_data['year'] > 2000]\n",
    "\n",
    "# prepare data and map schema\n",
    "column_mapping_legal = ColumnMapping()\n",
    "column_mapping_legal.target = \"labels\"\n",
    "#column_mapping.predictions = \"predicted_labels\"\n",
    "column_mapping_legal.text_features = ['text']\n",
    "column_mapping_legal.categorical_features = []\n",
    "column_mapping_legal.numerical_features = []"
   ]
  },
  {
   "cell_type": "markdown",
   "id": "44ef4498-ca0c-4191-aebe-af9c2cfba286",
   "metadata": {},
   "source": [
    "# Text Metrics"
   ]
  },
  {
   "cell_type": "code",
   "execution_count": 63,
   "id": "6c3abbba-bf89-46ed-b31d-7fc3d18cab4c",
   "metadata": {},
   "outputs": [],
   "source": [
    "#NO descriptors\n",
    "text_specific_metrics_report = Report(metrics=[\n",
    "    TextDescriptorsDriftMetric(column_name=\"text\"),\n",
    "    TextDescriptorsDistribution(column_name=\"text\"),\n",
    "    TextDescriptorsCorrelationMetric(column_name=\"text\"),\n",
    "])\n",
    "\n",
    "text_specific_metrics_report.run(reference_data=reference, current_data=current, column_mapping=column_mapping_legal)\n",
    "text_specific_metrics_report.save_html(\"reports/text-metrics-legal_acts.html\")"
   ]
  },
  {
   "cell_type": "code",
   "execution_count": 64,
   "id": "3267e15f-1820-4542-b5a2-2cd13bc55663",
   "metadata": {},
   "outputs": [],
   "source": [
    "#WITH descriptors\n",
    "report = Report(metrics=[\n",
    "    TextDescriptorsDriftMetric(\"text\", descriptors={\n",
    "        \"Legal Acts Length\": TextLength(),\n",
    "        \"Legal acts about governance\" : TriggerWordsPresence(words_list=['governance']),\n",
    "        \"Legal acts about sport\" : TriggerWordsPresence(words_list=['sport', 'sports']),\n",
    "        \"Legal Acts Sentence Count\": SentenceCount(),\n",
    "        \"Legal Acts Word Count\": WordCount(),\n",
    "        \"Legal Acts Sentiment\": Sentiment(),\n",
    "        \"Legal Acts questions\": RegExp(reg_exp=r'.*\\?.*'),\n",
    "        \"Legal Acts OOV\": OOV(),\n",
    "        \"Legal Acts Non Letter %\": NonLetterCharacterPercentage()\n",
    "    })\n",
    "])\n",
    "\n",
    "report.run(reference_data=reference, current_data=current, column_mapping=column_mapping_legal)\n",
    "report.save_html(\"reports/text_desc_drift_metrics.html\")"
   ]
  },
  {
   "cell_type": "markdown",
   "id": "de4ddfba-fe6c-415a-87a7-978c49f51446",
   "metadata": {},
   "source": [
    "# Text Overview Preset"
   ]
  },
  {
   "cell_type": "code",
   "execution_count": 65,
   "id": "b5c0459b-ae5e-4eb2-ba6a-92b332b548b5",
   "metadata": {},
   "outputs": [],
   "source": [
    "#NO descriptors\n",
    "text_overview_report_legal = Report(metrics=[\n",
    "    TextOverviewPreset(column_name='text')\n",
    "])\n",
    "text_overview_report_legal.run(reference_data=reference, current_data=current, column_mapping=column_mapping_legal)\n",
    "report.save_html(\"text_overview_report.html\")"
   ]
  },
  {
   "cell_type": "code",
   "execution_count": 66,
   "id": "e068bba6-20df-499c-80f0-f28e5d797e81",
   "metadata": {},
   "outputs": [],
   "source": [
    "#WITH descriptors\n",
    "text_overview_report_legal = Report(metrics=[\n",
    "    TextOverviewPreset(column_name=\"text\", descriptors={\n",
    "        \"Legal Act OOV\": OOV(),\n",
    "        \"Legat Act Non Letter %\" : NonLetterCharacterPercentage(),\n",
    "        \"Legal Act Length\": TextLength(),\n",
    "        \"Legal Acts about Sport\" : TriggerWordsPresence(words_list=['sport']),\n",
    "        \"Legal Act Sentence Count\": SentenceCount(),\n",
    "        \"Legal Act Word Count\": WordCount(),\n",
    "        \"Legal Act Sentiment\": Sentiment(),\n",
    "        \"Legal Act questions\": RegExp(reg_exp=r'.*\\?.*'),\n",
    "    })\n",
    "])\n",
    "\n",
    "text_overview_report_legal.run(reference_data=reference, current_data=current, column_mapping=column_mapping_legal)\n",
    "text_overview_report_legal.save_html(\"reports/text_overview_descriptors.html\")"
   ]
  },
  {
   "cell_type": "markdown",
   "id": "45a0d436-ec5f-41aa-9a86-d3f8edef6abd",
   "metadata": {},
   "source": [
    "# Column Drift Metric for Text Descriptors"
   ]
  },
  {
   "cell_type": "code",
   "execution_count": 68,
   "id": "068e8677-c736-4fab-aafe-eeb354df9654",
   "metadata": {},
   "outputs": [],
   "source": [
    "drift_report_legal = Report(metrics=[\n",
    "    ColumnDriftMetric(column_name=TextLength(display_name=\"TextLength\").for_column(\"text\")),\n",
    "    ColumnDriftMetric(column_name=TriggerWordsPresence(words_list=['immigrazione'], display_name=\"Legal Acts about immigrazione\").for_column(\"text\")),\n",
    "\n",
    "])\n",
    "\n",
    "drift_report_legal.run(reference_data=reference, current_data=current, column_mapping=column_mapping_legal)\n",
    "drift_report_legal.save_html('reports/text_drift_report_legal.html')"
   ]
  },
  {
   "cell_type": "code",
   "execution_count": null,
   "id": "55a0061d-7edf-447d-8424-f83ed422cc8c",
   "metadata": {},
   "outputs": [],
   "source": []
  }
 ],
 "metadata": {
  "kernelspec": {
   "display_name": "Python 3 (ipykernel)",
   "language": "python",
   "name": "python3"
  },
  "language_info": {
   "codemirror_mode": {
    "name": "ipython",
    "version": 3
   },
   "file_extension": ".py",
   "mimetype": "text/x-python",
   "name": "python",
   "nbconvert_exporter": "python",
   "pygments_lexer": "ipython3",
   "version": "3.10.0"
  }
 },
 "nbformat": 4,
 "nbformat_minor": 5
}
