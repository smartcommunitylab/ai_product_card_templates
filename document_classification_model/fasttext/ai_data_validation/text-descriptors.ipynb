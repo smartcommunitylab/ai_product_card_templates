{
 "cells": [
  {
   "cell_type": "code",
   "execution_count": 70,
   "id": "b8a4af98-1e7a-4200-918b-442ef6a397ba",
   "metadata": {},
   "outputs": [],
   "source": [
    "import pandas as pd\n",
    "import numpy as np\n",
    "import zipfile, requests, io\n",
    "\n",
    "from evidently import ColumnMapping\n",
    "from evidently.report import Report\n",
    "from evidently.test_suite import TestSuite\n",
    "\n",
    "from evidently.metric_preset import TextOverviewPreset\n",
    "\n",
    "from evidently.metrics import TextDescriptorsDriftMetric\n",
    "from evidently.metrics import TextDescriptorsDistribution\n",
    "from evidently.metrics import TextDescriptorsCorrelationMetric\n",
    "from evidently.metrics import ColumnDriftMetric\n",
    "\n",
    "from evidently.descriptors import TextLength, TriggerWordsPresence, OOV, NonLetterCharacterPercentage, SentenceCount, WordCount, Sentiment, RegExp\n",
    "\n",
    "from evidently.features.text_length_feature import TextLength\n",
    "from evidently.features.OOV_words_percentage_feature import OOVWordsPercentage"
   ]
  },
  {
   "cell_type": "markdown",
   "id": "0db462a4-ac2c-458d-bb18-c1ee177d25c5",
   "metadata": {},
   "source": [
    "# Prepare legal acts dataset"
   ]
  },
  {
   "cell_type": "code",
   "execution_count": 60,
   "id": "39efc7e6-b734-41c6-a933-4c7922b48eaf",
   "metadata": {},
   "outputs": [],
   "source": [
    "legal_acts_content = requests.get('https://drive.usercontent.google.com/u/0/uc?id=11xy6a6cbteD2TG9r3CU16ysO50xrqZf2&export=download').content"
   ]
  },
  {
   "cell_type": "code",
   "execution_count": 61,
   "id": "f89824a7-9efb-4e94-9eac-ec3380815b64",
   "metadata": {},
   "outputs": [],
   "source": [
    "with zipfile.ZipFile(io.BytesIO(legal_acts_content)) as arc:\n",
    "    legal_acts_data = pd.read_json(arc.open(\"data.json\"))\n",
    "legal_acts_data['labels'] = legal_acts_data['labels'].apply(lambda x: ','.join(map(str, x)))\n",
    "legal_acts_data['year'] = legal_acts_data['id'].str.slice(5, 9).astype(int)"
   ]
  },
  {
   "cell_type": "markdown",
   "id": "3b28b21a-b9d2-4035-8cbd-320c44c205e4",
   "metadata": {},
   "source": [
    "## Split the two datasets to compare"
   ]
  },
  {
   "cell_type": "code",
   "execution_count": 62,
   "id": "68a0c87f-a7fb-4437-874b-597a3b578039",
   "metadata": {
    "scrolled": true
   },
   "outputs": [],
   "source": [
    "reference = legal_acts_data[legal_acts_data['year'] < 2000]\n",
    "current = legal_acts_data[legal_acts_data['year'] > 2000]\n",
    "\n",
    "# prepare data and map schema\n",
    "column_mapping_legal = ColumnMapping()\n",
    "column_mapping_legal.target = \"labels\"\n",
    "#column_mapping.predictions = \"predicted_labels\"\n",
    "column_mapping_legal.text_features = ['text']\n",
    "column_mapping_legal.categorical_features = []\n",
    "column_mapping_legal.numerical_features = []"
   ]
  },
  {
   "cell_type": "markdown",
   "id": "44ef4498-ca0c-4191-aebe-af9c2cfba286",
   "metadata": {},
   "source": [
    "# Text Metrics"
   ]
  },
  {
   "cell_type": "code",
   "execution_count": 63,
   "id": "6c3abbba-bf89-46ed-b31d-7fc3d18cab4c",
   "metadata": {},
   "outputs": [],
   "source": [
    "#NO descriptors\n",
    "text_specific_metrics_report = Report(metrics=[\n",
    "    TextDescriptorsDriftMetric(column_name=\"text\"),\n",
    "    TextDescriptorsDistribution(column_name=\"text\"),\n",
    "    TextDescriptorsCorrelationMetric(column_name=\"text\"),\n",
    "])\n",
    "\n",
    "text_specific_metrics_report.run(reference_data=reference, current_data=current, column_mapping=column_mapping_legal)\n",
    "text_specific_metrics_report.save_html(\"reports/text-metrics-legal_acts.html\")"
   ]
  },
  {
   "cell_type": "code",
   "execution_count": 64,
   "id": "3267e15f-1820-4542-b5a2-2cd13bc55663",
   "metadata": {},
   "outputs": [],
   "source": [
    "#WITH descriptors\n",
    "report = Report(metrics=[\n",
    "    TextDescriptorsDriftMetric(\"text\", descriptors={\n",
    "        \"Legal Acts Length\": TextLength(),\n",
    "        \"Legal acts about governance\" : TriggerWordsPresence(words_list=['governance']),\n",
    "        \"Legal acts about sport\" : TriggerWordsPresence(words_list=['sport', 'sports']),\n",
    "        \"Legal Acts Sentence Count\": SentenceCount(),\n",
    "        \"Legal Acts Word Count\": WordCount(),\n",
    "        \"Legal Acts Sentiment\": Sentiment(),\n",
    "        \"Legal Acts questions\": RegExp(reg_exp=r'.*\\?.*'),\n",
    "        \"Legal Acts OOV\": OOV(),\n",
    "        \"Legal Acts Non Letter %\": NonLetterCharacterPercentage()\n",
    "    })\n",
    "])\n",
    "\n",
    "report.run(reference_data=reference, current_data=current, column_mapping=column_mapping_legal)\n",
    "report.save_html(\"reports/text_desc_drift_metrics.html\")"
   ]
  },
  {
   "cell_type": "markdown",
   "id": "de4ddfba-fe6c-415a-87a7-978c49f51446",
   "metadata": {},
   "source": [
    "# Text Overview Preset"
   ]
  },
  {
   "cell_type": "code",
   "execution_count": 65,
   "id": "b5c0459b-ae5e-4eb2-ba6a-92b332b548b5",
   "metadata": {},
   "outputs": [],
   "source": [
    "#NO descriptors\n",
    "text_overview_report_legal = Report(metrics=[\n",
    "    TextOverviewPreset(column_name='text')\n",
    "])\n",
    "text_overview_report_legal.run(reference_data=reference, current_data=current, column_mapping=column_mapping_legal)\n",
    "report.save_html(\"text_overview_report.html\")"
   ]
  },
  {
   "cell_type": "code",
   "execution_count": 66,
   "id": "e068bba6-20df-499c-80f0-f28e5d797e81",
   "metadata": {},
   "outputs": [],
   "source": [
    "#WITH descriptors\n",
    "text_overview_report_legal = Report(metrics=[\n",
    "    TextOverviewPreset(column_name=\"text\", descriptors={\n",
    "        \"Legal Act OOV\": OOV(),\n",
    "        \"Legat Act Non Letter %\" : NonLetterCharacterPercentage(),\n",
    "        \"Legal Act Length\": TextLength(),\n",
    "        \"Legal Acts about Sport\" : TriggerWordsPresence(words_list=['sport']),\n",
    "        \"Legal Act Sentence Count\": SentenceCount(),\n",
    "        \"Legal Act Word Count\": WordCount(),\n",
    "        \"Legal Act Sentiment\": Sentiment(),\n",
    "        \"Legal Act questions\": RegExp(reg_exp=r'.*\\?.*'),\n",
    "    })\n",
    "])\n",
    "\n",
    "text_overview_report_legal.run(reference_data=reference, current_data=current, column_mapping=column_mapping_legal)\n",
    "text_overview_report_legal.save_html(\"reports/text_overview_descriptors.html\")"
   ]
  },
  {
   "cell_type": "markdown",
   "id": "45a0d436-ec5f-41aa-9a86-d3f8edef6abd",
   "metadata": {},
   "source": [
    "# Column Drift Metric for Text Descriptors"
   ]
  },
  {
   "cell_type": "code",
   "execution_count": 68,
   "id": "068e8677-c736-4fab-aafe-eeb354df9654",
   "metadata": {},
   "outputs": [],
   "source": [
    "drift_report_legal = Report(metrics=[\n",
    "    ColumnDriftMetric(column_name=TextLength(display_name=\"TextLength\").for_column(\"text\")),\n",
    "    ColumnDriftMetric(column_name=TriggerWordsPresence(words_list=['immigrazione'], display_name=\"Legal Acts about immigrazione\").for_column(\"text\")),\n",
    "\n",
    "])\n",
    "\n",
    "drift_report_legal.run(reference_data=reference, current_data=current, column_mapping=column_mapping_legal)\n",
    "drift_report_legal.save_html('reports/text_drift_report_legal.html')"
   ]
  },
  {
   "cell_type": "code",
   "execution_count": 71,
   "id": "55a0061d-7edf-447d-8424-f83ed422cc8c",
   "metadata": {},
   "outputs": [],
   "source": [
    "text_feature = TextLength(column_name='text').generate_feature(data=current, data_definition=None)\n",
    "oov_feature = OOVWordsPercentage(column_name='text').generate_feature(data=current, data_definition=None)"
   ]
  },
  {
   "cell_type": "code",
   "execution_count": 72,
   "id": "ba0f3baa-d946-456b-a348-f0c66b06a8c3",
   "metadata": {},
   "outputs": [],
   "source": [
    "current['text_length'] = text_feature.values\n",
    "current['oov_share'] = oov_feature.values"
   ]
  },
  {
   "cell_type": "code",
   "execution_count": 77,
   "id": "1266e786-19ff-49b7-8d9b-32421b9d57a4",
   "metadata": {},
   "outputs": [
    {
     "data": {
      "text/html": [
       "<div>\n",
       "<style scoped>\n",
       "    .dataframe tbody tr th:only-of-type {\n",
       "        vertical-align: middle;\n",
       "    }\n",
       "\n",
       "    .dataframe tbody tr th {\n",
       "        vertical-align: top;\n",
       "    }\n",
       "\n",
       "    .dataframe thead th {\n",
       "        text-align: right;\n",
       "    }\n",
       "</style>\n",
       "<table border=\"1\" class=\"dataframe\">\n",
       "  <thead>\n",
       "    <tr style=\"text-align: right;\">\n",
       "      <th></th>\n",
       "      <th>text</th>\n",
       "      <th>id</th>\n",
       "      <th>labels</th>\n",
       "      <th>year</th>\n",
       "      <th>text_length</th>\n",
       "      <th>oov_share</th>\n",
       "    </tr>\n",
       "  </thead>\n",
       "  <tbody>\n",
       "    <tr>\n",
       "      <th>5</th>\n",
       "      <td>Ratifica ed esecuzione dell'Accordo tra il Gov...</td>\n",
       "      <td>ipzs-20210525_21G00083</td>\n",
       "      <td>A1810</td>\n",
       "      <td>2021</td>\n",
       "      <td>203</td>\n",
       "      <td>90.322581</td>\n",
       "    </tr>\n",
       "    <tr>\n",
       "      <th>11</th>\n",
       "      <td>Ratifica ed esecuzione dell'Accordo fra il Gov...</td>\n",
       "      <td>ipzs-20210519_21G00075</td>\n",
       "      <td>A1810</td>\n",
       "      <td>2021</td>\n",
       "      <td>204</td>\n",
       "      <td>89.655172</td>\n",
       "    </tr>\n",
       "    <tr>\n",
       "      <th>15</th>\n",
       "      <td>Ratifica ed esecuzione dell'Accordo di coopera...</td>\n",
       "      <td>ipzs-20210517_21G00073</td>\n",
       "      <td>A1810</td>\n",
       "      <td>2021</td>\n",
       "      <td>205</td>\n",
       "      <td>86.666667</td>\n",
       "    </tr>\n",
       "    <tr>\n",
       "      <th>24</th>\n",
       "      <td>Regolamento recante attuazione dell'articolo 1...</td>\n",
       "      <td>ipzs-20210423_21G00060</td>\n",
       "      <td>A3565</td>\n",
       "      <td>2021</td>\n",
       "      <td>182</td>\n",
       "      <td>84.000000</td>\n",
       "    </tr>\n",
       "    <tr>\n",
       "      <th>27</th>\n",
       "      <td>Regolamento recante modifiche al decreto minis...</td>\n",
       "      <td>ipzs-20210421_21G00061</td>\n",
       "      <td>A4320</td>\n",
       "      <td>2021</td>\n",
       "      <td>161</td>\n",
       "      <td>81.818182</td>\n",
       "    </tr>\n",
       "    <tr>\n",
       "      <th>...</th>\n",
       "      <td>...</td>\n",
       "      <td>...</td>\n",
       "      <td>...</td>\n",
       "      <td>...</td>\n",
       "      <td>...</td>\n",
       "      <td>...</td>\n",
       "    </tr>\n",
       "    <tr>\n",
       "      <th>5106</th>\n",
       "      <td>Ratifica ed esecuzione dell'Accordo tra il Gov...</td>\n",
       "      <td>ipzs-20010112_001G0007</td>\n",
       "      <td>A1810</td>\n",
       "      <td>2001</td>\n",
       "      <td>236</td>\n",
       "      <td>81.081081</td>\n",
       "    </tr>\n",
       "    <tr>\n",
       "      <th>5108</th>\n",
       "      <td>Regolamento recante disposizioni sulla composi...</td>\n",
       "      <td>ipzs-20010111_001G0003</td>\n",
       "      <td>A5170</td>\n",
       "      <td>2001</td>\n",
       "      <td>253</td>\n",
       "      <td>82.857143</td>\n",
       "    </tr>\n",
       "    <tr>\n",
       "      <th>5112</th>\n",
       "      <td>Approvazione del nuovo regolamento di esecuzio...</td>\n",
       "      <td>ipzs-20010108_000G0447</td>\n",
       "      <td>A6040</td>\n",
       "      <td>2001</td>\n",
       "      <td>136</td>\n",
       "      <td>88.888889</td>\n",
       "    </tr>\n",
       "    <tr>\n",
       "      <th>5114</th>\n",
       "      <td>Norme sull'organizzazione e sul personale del ...</td>\n",
       "      <td>ipzs-20010108_001G0004</td>\n",
       "      <td>A3460</td>\n",
       "      <td>2001</td>\n",
       "      <td>65</td>\n",
       "      <td>87.500000</td>\n",
       "    </tr>\n",
       "    <tr>\n",
       "      <th>5116</th>\n",
       "      <td>Regolamento recante norme per la rideterminazi...</td>\n",
       "      <td>ipzs-20010105_000G0445</td>\n",
       "      <td>A3460</td>\n",
       "      <td>2001</td>\n",
       "      <td>170</td>\n",
       "      <td>80.952381</td>\n",
       "    </tr>\n",
       "  </tbody>\n",
       "</table>\n",
       "<p>1474 rows × 6 columns</p>\n",
       "</div>"
      ],
      "text/plain": [
       "                                                   text  \\\n",
       "5     Ratifica ed esecuzione dell'Accordo tra il Gov...   \n",
       "11    Ratifica ed esecuzione dell'Accordo fra il Gov...   \n",
       "15    Ratifica ed esecuzione dell'Accordo di coopera...   \n",
       "24    Regolamento recante attuazione dell'articolo 1...   \n",
       "27    Regolamento recante modifiche al decreto minis...   \n",
       "...                                                 ...   \n",
       "5106  Ratifica ed esecuzione dell'Accordo tra il Gov...   \n",
       "5108  Regolamento recante disposizioni sulla composi...   \n",
       "5112  Approvazione del nuovo regolamento di esecuzio...   \n",
       "5114  Norme sull'organizzazione e sul personale del ...   \n",
       "5116  Regolamento recante norme per la rideterminazi...   \n",
       "\n",
       "                          id labels  year  text_length  oov_share  \n",
       "5     ipzs-20210525_21G00083  A1810  2021          203  90.322581  \n",
       "11    ipzs-20210519_21G00075  A1810  2021          204  89.655172  \n",
       "15    ipzs-20210517_21G00073  A1810  2021          205  86.666667  \n",
       "24    ipzs-20210423_21G00060  A3565  2021          182  84.000000  \n",
       "27    ipzs-20210421_21G00061  A4320  2021          161  81.818182  \n",
       "...                      ...    ...   ...          ...        ...  \n",
       "5106  ipzs-20010112_001G0007  A1810  2001          236  81.081081  \n",
       "5108  ipzs-20010111_001G0003  A5170  2001          253  82.857143  \n",
       "5112  ipzs-20010108_000G0447  A6040  2001          136  88.888889  \n",
       "5114  ipzs-20010108_001G0004  A3460  2001           65  87.500000  \n",
       "5116  ipzs-20010105_000G0445  A3460  2001          170  80.952381  \n",
       "\n",
       "[1474 rows x 6 columns]"
      ]
     },
     "execution_count": 77,
     "metadata": {},
     "output_type": "execute_result"
    }
   ],
   "source": [
    "current[current['oov_share'] > 80]"
   ]
  },
  {
   "cell_type": "code",
   "execution_count": null,
   "id": "7b41ad31-3c99-43f8-8d71-979a4ac53041",
   "metadata": {},
   "outputs": [],
   "source": []
  }
 ],
 "metadata": {
  "kernelspec": {
   "display_name": "Python 3 (ipykernel)",
   "language": "python",
   "name": "python3"
  },
  "language_info": {
   "codemirror_mode": {
    "name": "ipython",
    "version": 3
   },
   "file_extension": ".py",
   "mimetype": "text/x-python",
   "name": "python",
   "nbconvert_exporter": "python",
   "pygments_lexer": "ipython3",
   "version": "3.10.0"
  }
 },
 "nbformat": 4,
 "nbformat_minor": 5
}
