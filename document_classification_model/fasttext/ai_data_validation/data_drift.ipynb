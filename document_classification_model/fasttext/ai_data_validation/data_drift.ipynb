{
 "cells": [
  {
   "cell_type": "code",
   "execution_count": 7,
   "id": "a8695d6d-ea9b-4b48-9f2a-4096268ef146",
   "metadata": {},
   "outputs": [],
   "source": [
    "import pandas as pd\n",
    "import json, requests, zipfile, io\n",
    "from evidently.pipeline.column_mapping import ColumnMapping\n",
    "from evidently.report import Report\n",
    "from evidently.metrics.base_metric import generate_column_metrics\n",
    "from evidently.metric_preset import DataDriftPreset, TargetDriftPreset\n",
    "from evidently.metrics import TextDescriptorsDriftMetric\n",
    "\n",
    "from evidently.test_suite import TestSuite\n",
    "from evidently.tests.base_test import generate_column_tests\n",
    "from evidently.test_preset import DataStabilityTestPreset, NoTargetPerformanceTestPreset\n",
    "from evidently.tests import *\n",
    "\n",
    "from evidently.features.text_length_feature import TextLength\n",
    "from evidently.features.OOV_words_percentage_feature import OOVWordsPercentage"
   ]
  },
  {
   "cell_type": "markdown",
   "id": "b860f585-689d-473f-9331-46f0855f93de",
   "metadata": {},
   "source": [
    "# Prepare legal acts dataset"
   ]
  },
  {
   "cell_type": "code",
   "execution_count": 3,
   "id": "d38bf036-aebd-4262-90a7-693a9c32dc7a",
   "metadata": {},
   "outputs": [],
   "source": [
    "legal_acts_content = requests.get('https://drive.usercontent.google.com/u/0/uc?id=11xy6a6cbteD2TG9r3CU16ysO50xrqZf2&export=download').content"
   ]
  },
  {
   "cell_type": "code",
   "execution_count": 8,
   "id": "c6555b19-4893-4d11-b69e-f9800bd3e3f9",
   "metadata": {},
   "outputs": [],
   "source": [
    "with zipfile.ZipFile(io.BytesIO(legal_acts_content)) as arc:\n",
    "    legal_acts_data = pd.read_json(arc.open(\"data.json\"))\n",
    "legal_acts_data['labels'] = legal_acts_data['labels'].apply(lambda x: ','.join(map(str, x)))\n",
    "legal_acts_data['year'] = legal_acts_data['id'].str.slice(5, 9).astype(int)"
   ]
  },
  {
   "cell_type": "code",
   "execution_count": 4,
   "id": "07451790-bc51-4f4f-8532-959efd44a505",
   "metadata": {},
   "outputs": [
    {
     "data": {
      "text/html": [
       "<div>\n",
       "<style scoped>\n",
       "    .dataframe tbody tr th:only-of-type {\n",
       "        vertical-align: middle;\n",
       "    }\n",
       "\n",
       "    .dataframe tbody tr th {\n",
       "        vertical-align: top;\n",
       "    }\n",
       "\n",
       "    .dataframe thead th {\n",
       "        text-align: right;\n",
       "    }\n",
       "</style>\n",
       "<table border=\"1\" class=\"dataframe\">\n",
       "  <thead>\n",
       "    <tr style=\"text-align: right;\">\n",
       "      <th></th>\n",
       "      <th>text</th>\n",
       "      <th>id</th>\n",
       "      <th>labels</th>\n",
       "    </tr>\n",
       "  </thead>\n",
       "  <tbody>\n",
       "    <tr>\n",
       "      <th>0</th>\n",
       "      <td>Ratifica ed esecuzione dei seguenti Trattati: ...</td>\n",
       "      <td>ipzs-20210604_21G00088</td>\n",
       "      <td>[A1810]</td>\n",
       "    </tr>\n",
       "    <tr>\n",
       "      <th>1</th>\n",
       "      <td>Governance del Piano nazionale di ripresa e re...</td>\n",
       "      <td>ipzs-20210531_21G00087</td>\n",
       "      <td>[A1490]</td>\n",
       "    </tr>\n",
       "    <tr>\n",
       "      <th>2</th>\n",
       "      <td>Conversione in legge, con modificazioni, del d...</td>\n",
       "      <td>ipzs-20210531_21G00086</td>\n",
       "      <td>[A6040]</td>\n",
       "    </tr>\n",
       "    <tr>\n",
       "      <th>3</th>\n",
       "      <td>Ratifica ed esecuzione dell'Accordo di coopera...</td>\n",
       "      <td>ipzs-20210526_21G00082</td>\n",
       "      <td>[A1810]</td>\n",
       "    </tr>\n",
       "    <tr>\n",
       "      <th>4</th>\n",
       "      <td>Ratifica ed esecuzione dell'Accordo tra il Gov...</td>\n",
       "      <td>ipzs-20210525_21G00083</td>\n",
       "      <td>[A1810]</td>\n",
       "    </tr>\n",
       "    <tr>\n",
       "      <th>...</th>\n",
       "      <td>...</td>\n",
       "      <td>...</td>\n",
       "      <td>...</td>\n",
       "    </tr>\n",
       "    <tr>\n",
       "      <th>130</th>\n",
       "      <td>Regolamento di organizzazione del Ministero pe...</td>\n",
       "      <td>ipzs-20200121_20G00006</td>\n",
       "      <td>[A0330]</td>\n",
       "    </tr>\n",
       "    <tr>\n",
       "      <th>131</th>\n",
       "      <td>Regolamento concernente la banca dati nazional...</td>\n",
       "      <td>ipzs-20200117_20G00005</td>\n",
       "      <td>[A6040]</td>\n",
       "    </tr>\n",
       "    <tr>\n",
       "      <th>132</th>\n",
       "      <td>Disposizioni integrative e correttive del decr...</td>\n",
       "      <td>ipzs-20200109_20G00003</td>\n",
       "      <td>[A1490]</td>\n",
       "    </tr>\n",
       "    <tr>\n",
       "      <th>133</th>\n",
       "      <td>Regolamento recante valutazione del personale ...</td>\n",
       "      <td>ipzs-20200103_19G00167</td>\n",
       "      <td>[A6040]</td>\n",
       "    </tr>\n",
       "    <tr>\n",
       "      <th>134</th>\n",
       "      <td>Disciplina sanzionatoria per la violazione del...</td>\n",
       "      <td>ipzs-20200102_19G00170</td>\n",
       "      <td>[A1490]</td>\n",
       "    </tr>\n",
       "  </tbody>\n",
       "</table>\n",
       "<p>135 rows × 3 columns</p>\n",
       "</div>"
      ],
      "text/plain": [
       "                                                  text  \\\n",
       "0    Ratifica ed esecuzione dei seguenti Trattati: ...   \n",
       "1    Governance del Piano nazionale di ripresa e re...   \n",
       "2    Conversione in legge, con modificazioni, del d...   \n",
       "3    Ratifica ed esecuzione dell'Accordo di coopera...   \n",
       "4    Ratifica ed esecuzione dell'Accordo tra il Gov...   \n",
       "..                                                 ...   \n",
       "130  Regolamento di organizzazione del Ministero pe...   \n",
       "131  Regolamento concernente la banca dati nazional...   \n",
       "132  Disposizioni integrative e correttive del decr...   \n",
       "133  Regolamento recante valutazione del personale ...   \n",
       "134  Disciplina sanzionatoria per la violazione del...   \n",
       "\n",
       "                         id   labels  \n",
       "0    ipzs-20210604_21G00088  [A1810]  \n",
       "1    ipzs-20210531_21G00087  [A1490]  \n",
       "2    ipzs-20210531_21G00086  [A6040]  \n",
       "3    ipzs-20210526_21G00082  [A1810]  \n",
       "4    ipzs-20210525_21G00083  [A1810]  \n",
       "..                      ...      ...  \n",
       "130  ipzs-20200121_20G00006  [A0330]  \n",
       "131  ipzs-20200117_20G00005  [A6040]  \n",
       "132  ipzs-20200109_20G00003  [A1490]  \n",
       "133  ipzs-20200103_19G00167  [A6040]  \n",
       "134  ipzs-20200102_19G00170  [A1490]  \n",
       "\n",
       "[135 rows x 3 columns]"
      ]
     },
     "execution_count": 4,
     "metadata": {},
     "output_type": "execute_result"
    }
   ],
   "source": [
    "#text_data = load_data(\"../output-folder/data.json\")\n",
    "data = pd.read_json(\"../output-folder/data.json\")\n",
    "data"
   ]
  },
  {
   "cell_type": "code",
   "execution_count": 15,
   "id": "6e0618ee-c8b4-4bab-80f2-2c05c76492ab",
   "metadata": {},
   "outputs": [],
   "source": [
    "reference = legal_acts_data[legal_acts_data['year'] < 2000]\n",
    "current = legal_acts_data[legal_acts_data['year'] > 2000]\n",
    "\n",
    "# prepare data and map schema\n",
    "column_mapping_legal = ColumnMapping()\n",
    "column_mapping_legal.target = \"labels\"\n",
    "#column_mapping.predictions = \"predicted_labels\"\n",
    "column_mapping_legal.text_features = ['text']\n",
    "column_mapping_legal.categorical_features = []\n",
    "column_mapping_legal.numerical_features = []"
   ]
  },
  {
   "cell_type": "code",
   "execution_count": 16,
   "id": "f7c8f486-8d45-4d86-873f-c8bcf6fa2075",
   "metadata": {},
   "outputs": [],
   "source": [
    "# report presets\n",
    "report = Report(metrics=[\n",
    "    DataDriftPreset(),\n",
    "    #TextDescriptorsDriftMetric(column_name=\"text\")\n",
    "    ])\n",
    "report.run(reference_data=reference, current_data=current, column_mapping=column_mapping_legal)\n",
    "report.save_html(\"reports/data_drift.html\")"
   ]
  },
  {
   "cell_type": "code",
   "execution_count": null,
   "id": "102850be-7797-41ed-8452-d61268a0f590",
   "metadata": {},
   "outputs": [],
   "source": []
  }
 ],
 "metadata": {
  "kernelspec": {
   "display_name": "Python 3 (ipykernel)",
   "language": "python",
   "name": "python3"
  },
  "language_info": {
   "codemirror_mode": {
    "name": "ipython",
    "version": 3
   },
   "file_extension": ".py",
   "mimetype": "text/x-python",
   "name": "python",
   "nbconvert_exporter": "python",
   "pygments_lexer": "ipython3",
   "version": "3.10.0"
  }
 },
 "nbformat": 4,
 "nbformat_minor": 5
}
