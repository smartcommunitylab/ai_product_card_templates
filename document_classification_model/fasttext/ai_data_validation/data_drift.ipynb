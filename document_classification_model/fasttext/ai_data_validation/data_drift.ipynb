{
 "cells": [
  {
   "cell_type": "code",
   "execution_count": 29,
   "id": "a8695d6d-ea9b-4b48-9f2a-4096268ef146",
   "metadata": {},
   "outputs": [],
   "source": [
    "import pandas as pd\n",
    "import json, requests, zipfile, io\n",
    "from evidently.pipeline.column_mapping import ColumnMapping\n",
    "from evidently.report import Report\n",
    "from evidently.metrics.base_metric import generate_column_metrics\n",
    "from evidently.metric_preset import DataDriftPreset, TargetDriftPreset\n",
    "from evidently.metrics import TextDescriptorsDriftMetric\n",
    "\n",
    "from evidently.test_suite import TestSuite\n",
    "from evidently.tests.base_test import generate_column_tests\n",
    "from evidently.test_preset import DataStabilityTestPreset, NoTargetPerformanceTestPreset\n",
    "from evidently.tests import *\n",
    "\n",
    "from evidently.features.text_length_feature import TextLength\n",
    "from evidently.features.OOV_words_percentage_feature import OOVWordsPercentage"
   ]
  },
  {
   "cell_type": "markdown",
   "id": "b860f585-689d-473f-9331-46f0855f93de",
   "metadata": {},
   "source": [
    "# Prepare legal acts dataset"
   ]
  },
  {
   "cell_type": "code",
   "execution_count": 30,
   "id": "d38bf036-aebd-4262-90a7-693a9c32dc7a",
   "metadata": {},
   "outputs": [],
   "source": [
    "legal_acts_content = requests.get('https://drive.usercontent.google.com/u/0/uc?id=11xy6a6cbteD2TG9r3CU16ysO50xrqZf2&export=download').content"
   ]
  },
  {
   "cell_type": "code",
   "execution_count": 31,
   "id": "c6555b19-4893-4d11-b69e-f9800bd3e3f9",
   "metadata": {},
   "outputs": [],
   "source": [
    "with zipfile.ZipFile(io.BytesIO(legal_acts_content)) as arc:\n",
    "    legal_acts_data = pd.read_json(arc.open(\"data.json\"))\n",
    "legal_acts_data['labels'] = legal_acts_data['labels'].apply(lambda x: ','.join(map(str, x)))\n",
    "legal_acts_data['year'] = legal_acts_data['id'].str.slice(5, 9).astype(int)"
   ]
  },
  {
   "cell_type": "code",
   "execution_count": 32,
   "id": "6e0618ee-c8b4-4bab-80f2-2c05c76492ab",
   "metadata": {},
   "outputs": [],
   "source": [
    "reference = legal_acts_data[legal_acts_data['year'] < 2000]\n",
    "current = legal_acts_data[legal_acts_data['year'] > 2000]\n",
    "\n",
    "# prepare data and map schema\n",
    "column_mapping_legal = ColumnMapping()\n",
    "column_mapping_legal.target = \"labels\"\n",
    "#column_mapping.predictions = \"predicted_labels\"\n",
    "column_mapping_legal.text_features = ['text']\n",
    "column_mapping_legal.categorical_features = []\n",
    "column_mapping_legal.numerical_features = []"
   ]
  },
  {
   "cell_type": "code",
   "execution_count": 33,
   "id": "102850be-7797-41ed-8452-d61268a0f590",
   "metadata": {},
   "outputs": [],
   "source": [
    "\n",
    "def build_data_drift_report(\n",
    "    reference_data: pd.DataFrame,\n",
    "    current_data: pd.DataFrame,\n",
    "    column_mapping: ColumnMapping,\n",
    "    drift_share=0.4,\n",
    ") -> Report:\n",
    "    \"\"\"\n",
    "    Returns a list with pairs (feature_name, drift_score)\n",
    "    Drift Score depends on the selected statistical test or distance and the threshold\n",
    "    \"\"\"\n",
    "    data_drift_report = Report(metrics=[DataDriftPreset(drift_share=drift_share)])\n",
    "    data_drift_report.run(\n",
    "        reference_data=reference_data,\n",
    "        current_data=current_data,\n",
    "        column_mapping=column_mapping,\n",
    "    )\n",
    "    return data_drift_report"
   ]
  },
  {
   "cell_type": "code",
   "execution_count": 35,
   "id": "29ed3a88-87e8-48fb-afb3-c3978f2e3446",
   "metadata": {},
   "outputs": [],
   "source": [
    "report = build_data_drift_report(reference, current, column_mapping_legal)\n",
    "report.save_html(\"reports/data_drift.html\")\n",
    "#print(report.json())"
   ]
  },
  {
   "cell_type": "markdown",
   "id": "06c53862-4553-48c4-943c-456be940546d",
   "metadata": {},
   "source": [
    "# Test suites"
   ]
  },
  {
   "cell_type": "code",
   "execution_count": 42,
   "id": "7ef0ae01-26ef-4ec8-92ac-035ee5b13b26",
   "metadata": {},
   "outputs": [
    {
     "data": {
      "text/plain": [
       "{'tests': [{'name': 'The Number of Columns With Missing Values',\n",
       "   'description': 'The number of columns with missing values is 0. The test threshold is lte=0.',\n",
       "   'status': 'SUCCESS',\n",
       "   'group': 'data_integrity',\n",
       "   'parameters': {'condition': {'lte': 0}, 'value': 0.0}},\n",
       "  {'name': 'The Number Of Rows With Missing Values',\n",
       "   'description': 'The number of rows with missing values is 0. The test threshold is lte=0 ± 1e-12.',\n",
       "   'status': 'SUCCESS',\n",
       "   'group': 'data_integrity',\n",
       "   'parameters': {'condition': {'lte': {'value': 0.0,\n",
       "      'relative': 0.1,\n",
       "      'absolute': 1e-12}},\n",
       "    'value': 0.0}},\n",
       "  {'name': 'Number of Constant Columns',\n",
       "   'description': 'The number of constant columns is 0. The test threshold is lte=0.',\n",
       "   'status': 'SUCCESS',\n",
       "   'group': 'data_integrity',\n",
       "   'parameters': {'condition': {'lte': 0}, 'value': 0.0}},\n",
       "  {'name': 'Number of Duplicate Rows',\n",
       "   'description': 'The number of duplicate rows is 0. The test threshold is eq=0 ± 1e-12.',\n",
       "   'status': 'SUCCESS',\n",
       "   'group': 'data_integrity',\n",
       "   'parameters': {'condition': {'eq': {'value': 0.0,\n",
       "      'relative': 0.1,\n",
       "      'absolute': 1e-12}},\n",
       "    'value': 0.0}},\n",
       "  {'name': 'Number of Duplicate Columns',\n",
       "   'description': 'The number of duplicate columns is 0. The test threshold is lte=0.',\n",
       "   'status': 'SUCCESS',\n",
       "   'group': 'data_integrity',\n",
       "   'parameters': {'condition': {'lte': 0}, 'value': 0.0}},\n",
       "  {'name': 'Column Types',\n",
       "   'description': 'The number of columns with a type mismatch is 0 out of 4.',\n",
       "   'status': 'SUCCESS',\n",
       "   'group': 'data_integrity',\n",
       "   'parameters': {'columns': [{'actual_type': 'object_',\n",
       "      'column_name': 'text',\n",
       "      'expected_type': 'object_'},\n",
       "     {'actual_type': 'object_',\n",
       "      'column_name': 'id',\n",
       "      'expected_type': 'object_'},\n",
       "     {'actual_type': 'object_',\n",
       "      'column_name': 'labels',\n",
       "      'expected_type': 'object_'},\n",
       "     {'actual_type': 'int64',\n",
       "      'column_name': 'year',\n",
       "      'expected_type': 'int64'}]}},\n",
       "  {'name': 'Number of Drifted Features',\n",
       "   'description': 'The drift is detected for 4 out of 4 features. The test threshold is lt=1.',\n",
       "   'status': 'FAIL',\n",
       "   'group': 'data_drift',\n",
       "   'parameters': {'condition': {'lt': 1},\n",
       "    'features': {'year': {'stattest': 'Wasserstein distance (normed)',\n",
       "      'score': 4.637,\n",
       "      'threshold': 0.1,\n",
       "      'detected': True},\n",
       "     'id': {'stattest': 'Jensen-Shannon distance',\n",
       "      'score': 0.833,\n",
       "      'threshold': 0.1,\n",
       "      'detected': True},\n",
       "     'labels': {'stattest': 'Jensen-Shannon distance',\n",
       "      'score': 0.318,\n",
       "      'threshold': 0.1,\n",
       "      'detected': True},\n",
       "     'text': {'stattest': 'Jensen-Shannon distance',\n",
       "      'score': 0.833,\n",
       "      'threshold': 0.1,\n",
       "      'detected': True}}}}],\n",
       " 'summary': {'all_passed': False,\n",
       "  'total_tests': 7,\n",
       "  'success_tests': 6,\n",
       "  'failed_tests': 1,\n",
       "  'by_status': {'SUCCESS': 6, 'FAIL': 1}}}"
      ]
     },
     "execution_count": 42,
     "metadata": {},
     "output_type": "execute_result"
    }
   ],
   "source": [
    "tests = TestSuite(tests=[\n",
    "    TestNumberOfColumnsWithMissingValues(),\n",
    "    TestNumberOfRowsWithMissingValues(),\n",
    "    TestNumberOfConstantColumns(),\n",
    "    TestNumberOfDuplicatedRows(),\n",
    "    TestNumberOfDuplicatedColumns(),\n",
    "    TestColumnsType(),\n",
    "    TestNumberOfDriftedColumns(),\n",
    "])\n",
    "\n",
    "tests.run(reference_data=reference, current_data=current)\n",
    "tests_result = tests.as_dict()\n",
    "tests_result"
   ]
  },
  {
   "cell_type": "code",
   "execution_count": 45,
   "id": "4690c894-63d0-4645-a1f8-1d10d9003b5a",
   "metadata": {},
   "outputs": [
    {
     "data": {
      "text/plain": [
       "{'all_passed': False,\n",
       " 'total_tests': 7,\n",
       " 'success_tests': 6,\n",
       " 'failed_tests': 1,\n",
       " 'by_status': {'SUCCESS': 6, 'FAIL': 1}}"
      ]
     },
     "execution_count": 45,
     "metadata": {},
     "output_type": "execute_result"
    }
   ],
   "source": [
    "tests_result['summary']"
   ]
  },
  {
   "cell_type": "code",
   "execution_count": null,
   "id": "5075cd5d-b2b3-455e-acc1-3f859b368ed4",
   "metadata": {},
   "outputs": [],
   "source": []
  }
 ],
 "metadata": {
  "kernelspec": {
   "display_name": "Python 3 (ipykernel)",
   "language": "python",
   "name": "python3"
  },
  "language_info": {
   "codemirror_mode": {
    "name": "ipython",
    "version": 3
   },
   "file_extension": ".py",
   "mimetype": "text/x-python",
   "name": "python",
   "nbconvert_exporter": "python",
   "pygments_lexer": "ipython3",
   "version": "3.10.0"
  }
 },
 "nbformat": 4,
 "nbformat_minor": 5
}
