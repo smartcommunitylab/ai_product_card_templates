{
 "cells": [
  {
   "cell_type": "code",
   "execution_count": 36,
   "id": "95fc5b0c-a204-4dd7-beb3-fa703c44a867",
   "metadata": {},
   "outputs": [],
   "source": [
    "import mlrun"
   ]
  },
  {
   "cell_type": "code",
   "execution_count": 37,
   "id": "19fae2e3-dd77-49cd-afcb-ae7cc32af933",
   "metadata": {},
   "outputs": [
    {
     "name": "stdout",
     "output_type": "stream",
     "text": [
      "> 2024-02-06 15:06:15,361 [info] Project loaded successfully: {'project_name': 'drift-detection'}\n"
     ]
    }
   ],
   "source": [
    "project = mlrun.get_or_create_project(\"drift-detection\", \"./\", user_project=False)"
   ]
  },
  {
   "cell_type": "code",
   "execution_count": 48,
   "id": "e1d07baa-ce58-47e0-a96a-bb2223ef073f",
   "metadata": {},
   "outputs": [],
   "source": [
    "project.build_config(\n",
    "    image=\"aipc_image\",\n",
    "    set_as_default=True,\n",
    "    with_mlrun=False,\n",
    "    base_image=\"mlrun/mlrun\",\n",
    "    requirements=[\"evidently\"]\n",
    ")\n",
    "#project.build_image()\n",
    "#This is the preferred approach for production workloads.\n",
    "#project_set_source(source='git:// repo of aipc card')\n",
    "project.export(\"text.yaml\")"
   ]
  },
  {
   "cell_type": "code",
   "execution_count": 49,
   "id": "0efd593a-0425-4e45-81d0-6ce164e15890",
   "metadata": {},
   "outputs": [
    {
     "name": "stdout",
     "output_type": "stream",
     "text": [
      "01-mlrun-basics.ipynb\t      example.ipynb\n",
      "02-model-training.ipynb       index.md\n",
      "03-model-serving.ipynb\t      project.yaml\n",
      "04-pipeline.ipynb\t      __pycache__\n",
      "05-model-monitoring.ipynb     run_drift_detection.py\n",
      "06-add-mlops-to-code.ipynb    src\n",
      "07-batch-infer.ipynb\t      text.yaml\n",
      "colab\t\t\t      utils.py\n",
      "drift_detection_evidently.py\n"
     ]
    }
   ],
   "source": [
    "!ls"
   ]
  },
  {
   "cell_type": "code",
   "execution_count": 50,
   "id": "e674172a-120d-46f8-9df0-312f17a0cd70",
   "metadata": {},
   "outputs": [
    {
     "name": "stdout",
     "output_type": "stream",
     "text": [
      "ai_data_validation\t cards_metadata  ipzs\t\tproject-config.yaml\n",
      "aipc_plain_execution.py  fastText-0.9.2  Makefile\t__pycache__\n",
      "ai_task_implementation\t input-folder\t output-folder\tReadme.md\n"
     ]
    }
   ],
   "source": [
    "!ls /home/albana/ai_product_card_templates/document_classification_model/fasttext"
   ]
  },
  {
   "cell_type": "code",
   "execution_count": 51,
   "id": "8e4f9c3b-c4f7-4a65-9faa-a09e418d34ba",
   "metadata": {},
   "outputs": [],
   "source": [
    "!cp /home/albana/ai_product_card_templates/document_classification_model/fasttext/ai_task_implementation/pipeline/drift_detection_evidently.py ."
   ]
  },
  {
   "cell_type": "markdown",
   "id": "c457aa13-71d6-4111-9245-d5281df955a9",
   "metadata": {},
   "source": [
    "# Create function for drift detection"
   ]
  },
  {
   "cell_type": "code",
   "execution_count": 52,
   "id": "d67d9dd8-a5e1-4f76-a821-a4fb47d86835",
   "metadata": {},
   "outputs": [
    {
     "name": "stdout",
     "output_type": "stream",
     "text": [
      "Overwriting run_drift_detection.py\n"
     ]
    }
   ],
   "source": [
    "%%writefile run_drift_detection.py\n",
    "\n",
    "import mlrun\n",
    "import utils\n",
    "import importlib\n",
    "\n",
    "@mlrun.handler(outputs=[\"drift_result\"])\n",
    "def run_drift_detection():\n",
    "    validation_card_metadata = utils.load_validation_card_specifications()\n",
    "\n",
    "    specification = validation_card_metadata[\"specification\"]\n",
    "    implementation_file = specification[\"implementation\"]\n",
    "    package = specification[\"package\"] \n",
    "    handler = specification[\"handler\"]\n",
    "\n",
    "    reference_data = utils.read_reference_dataset(validation_card_metadata[\"reference_data\"])\n",
    "    current_data = reference_data[reference_data['year'] > 2000]\n",
    "\n",
    "    implementation_module = importlib.import_module(implementation_file)\n",
    "    implementation = getattr(implementation_module, handler)\n",
    "    result = implementation(reference_data, current_data)\n",
    "    return result"
   ]
  },
  {
   "cell_type": "code",
   "execution_count": 63,
   "id": "2d328036-6130-498b-8e5e-2e703da22108",
   "metadata": {},
   "outputs": [
    {
     "name": "stdout",
     "output_type": "stream",
     "text": [
      "> 2024-02-06 15:56:27,995 [warning] Failed to add git metadata, ignore if path is not part of a git repo.: {'path': './', 'error': '/home/jovyan/tutorial'}\n"
     ]
    },
    {
     "data": {
      "text/plain": [
       "<mlrun.runtimes.kubejob.KubejobRuntime at 0x7f9ddd9be880>"
      ]
     },
     "execution_count": 63,
     "metadata": {},
     "output_type": "execute_result"
    }
   ],
   "source": [
    "project.set_function(\n",
    "    \"run_drift_detection.py\",\n",
    "    name=\"run-drift-detection\",\n",
    "    kind=\"job\",\n",
    "    image=\"mlrun/mlrun\",\n",
    "    handler=\"run_drift_detection\",\n",
    "    requirements=[\"evidently\"]\n",
    ")\n",
    "#project.build_function(\n",
    "#   \"run-drift-detection\",\n",
    "#   base_image=\"mlrun/mlrun\",\n",
    "#   commands= [\n",
    "#        \"pip install evidently\",    \n",
    "#   ]\n",
    "#)\n"
   ]
  },
  {
   "cell_type": "code",
   "execution_count": 65,
   "id": "a675eebf-798a-4979-8a71-d062dfac7510",
   "metadata": {},
   "outputs": [
    {
     "name": "stdout",
     "output_type": "stream",
     "text": [
      "Collecting evidently\n",
      "  Downloading evidently-0.4.14-py3-none-any.whl (3.4 MB)\n",
      "\u001b[2K     \u001b[90m━━━━━━━━━━━━━━━━━━━━━━━━━━━━━━━━━━━━━━━━\u001b[0m \u001b[32m3.4/3.4 MB\u001b[0m \u001b[31m4.5 MB/s\u001b[0m eta \u001b[36m0:00:00\u001b[0ma \u001b[36m0:00:01\u001b[0mm\n",
      "\u001b[?25hRequirement already satisfied: plotly>=5.5.0 in /opt/conda/lib/python3.9/site-packages (from evidently) (5.11.0)\n",
      "Requirement already satisfied: typer>=0.3 in /opt/conda/lib/python3.9/site-packages (from evidently) (0.9.0)\n",
      "Collecting iterative-telemetry>=0.0.5\n",
      "  Downloading iterative_telemetry-0.0.8-py3-none-any.whl (10 kB)\n",
      "Requirement already satisfied: pydantic<2 in /opt/conda/lib/python3.9/site-packages (from evidently) (1.10.11)\n",
      "Requirement already satisfied: fsspec in /opt/conda/lib/python3.9/site-packages (from evidently) (2023.1.0)\n",
      "Requirement already satisfied: pandas[parquet]>=1.3.5 in /opt/conda/lib/python3.9/site-packages (from evidently) (1.4.4)\n",
      "Collecting fastapi>=0.100.0\n",
      "  Downloading fastapi-0.109.2-py3-none-any.whl (92 kB)\n",
      "\u001b[2K     \u001b[90m━━━━━━━━━━━━━━━━━━━━━━━━━━━━━━━━━━━━━━━━\u001b[0m \u001b[32m92.1/92.1 kB\u001b[0m \u001b[31m73.0 MB/s\u001b[0m eta \u001b[36m0:00:00\u001b[0m\n",
      "\u001b[?25hCollecting nltk>=3.6.7\n",
      "  Downloading nltk-3.8.1-py3-none-any.whl (1.5 MB)\n",
      "\u001b[2K     \u001b[90m━━━━━━━━━━━━━━━━━━━━━━━━━━━━━━━━━━━━━━━━\u001b[0m \u001b[32m1.5/1.5 MB\u001b[0m \u001b[31m56.5 MB/s\u001b[0m eta \u001b[36m0:00:00\u001b[0m\n",
      "\u001b[?25hCollecting fastapi-restful>=0.5.0\n",
      "  Downloading fastapi_restful-0.5.0-py3-none-any.whl (18 kB)\n",
      "Collecting uvicorn>=0.22.0\n",
      "  Downloading uvicorn-0.27.0.post1-py3-none-any.whl (60 kB)\n",
      "\u001b[2K     \u001b[90m━━━━━━━━━━━━━━━━━━━━━━━━━━━━━━━━━━━━━━━\u001b[0m \u001b[32m60.7/60.7 kB\u001b[0m \u001b[31m374.9 MB/s\u001b[0m eta \u001b[36m0:00:00\u001b[0m\n",
      "\u001b[?25hCollecting watchdog>=3\n",
      "  Downloading watchdog-3.0.0-py3-none-manylinux2014_x86_64.whl (82 kB)\n",
      "\u001b[2K     \u001b[90m━━━━━━━━━━━━━━━━━━━━━━━━━━━━━━━━━━━━━━━\u001b[0m \u001b[32m82.1/82.1 kB\u001b[0m \u001b[31m550.4 MB/s\u001b[0m eta \u001b[36m0:00:00\u001b[0m\n",
      "\u001b[?25hRequirement already satisfied: requests>=2.21.0 in /opt/conda/lib/python3.9/site-packages (from evidently) (2.28.1)\n",
      "Requirement already satisfied: statsmodels>=0.12.2 in /opt/conda/lib/python3.9/site-packages (from evidently) (0.13.2)\n",
      "Requirement already satisfied: scikit-learn>=0.24.0 in /opt/conda/lib/python3.9/site-packages (from evidently) (1.1.2)\n",
      "Collecting typing-inspect>=0.9.0\n",
      "  Downloading typing_inspect-0.9.0-py3-none-any.whl (8.8 kB)\n",
      "Requirement already satisfied: scipy>=1.5.4 in /opt/conda/lib/python3.9/site-packages (from evidently) (1.9.1)\n",
      "Requirement already satisfied: numpy>=1.19.5 in /opt/conda/lib/python3.9/site-packages (from evidently) (1.22.4)\n",
      "Collecting rich>=13\n",
      "  Downloading rich-13.7.0-py3-none-any.whl (240 kB)\n",
      "\u001b[2K     \u001b[90m━━━━━━━━━━━━━━━━━━━━━━━━━━━━━━━━━━━━━━\u001b[0m \u001b[32m240.6/240.6 kB\u001b[0m \u001b[31m43.4 MB/s\u001b[0m eta \u001b[36m0:00:00\u001b[0m\n",
      "\u001b[?25hRequirement already satisfied: PyYAML>=5.1 in /opt/conda/lib/python3.9/site-packages (from evidently) (5.4.1)\n",
      "Collecting starlette<0.37.0,>=0.36.3\n",
      "  Downloading starlette-0.36.3-py3-none-any.whl (71 kB)\n",
      "\u001b[2K     \u001b[90m━━━━━━━━━━━━━━━━━━━━━━━━━━━━━━━━━━━━━━━\u001b[0m \u001b[32m71.5/71.5 kB\u001b[0m \u001b[31m315.4 MB/s\u001b[0m eta \u001b[36m0:00:00\u001b[0m\n",
      "\u001b[?25hCollecting typing-extensions>=4.8.0\n",
      "  Downloading typing_extensions-4.9.0-py3-none-any.whl (32 kB)\n",
      "Requirement already satisfied: psutil<6,>=5 in /opt/conda/lib/python3.9/site-packages (from fastapi-restful>=0.5.0->evidently) (5.9.2)\n",
      "Collecting appdirs\n",
      "  Downloading appdirs-1.4.4-py2.py3-none-any.whl (9.6 kB)\n",
      "Collecting filelock\n",
      "  Downloading filelock-3.13.1-py3-none-any.whl (11 kB)\n",
      "Collecting distro\n",
      "  Downloading distro-1.9.0-py3-none-any.whl (20 kB)\n",
      "Requirement already satisfied: joblib in /opt/conda/lib/python3.9/site-packages (from nltk>=3.6.7->evidently) (1.2.0)\n",
      "Requirement already satisfied: tqdm in /opt/conda/lib/python3.9/site-packages (from nltk>=3.6.7->evidently) (4.64.1)\n",
      "Requirement already satisfied: click in /opt/conda/lib/python3.9/site-packages (from nltk>=3.6.7->evidently) (8.0.4)\n",
      "Collecting regex>=2021.8.3\n",
      "  Downloading regex-2023.12.25-cp39-cp39-manylinux_2_17_x86_64.manylinux2014_x86_64.whl (773 kB)\n",
      "\u001b[2K     \u001b[90m━━━━━━━━━━━━━━━━━━━━━━━━━━━━━━━━━━━━━━\u001b[0m \u001b[32m773.4/773.4 kB\u001b[0m \u001b[31m48.7 MB/s\u001b[0m eta \u001b[36m0:00:00\u001b[0m\n",
      "\u001b[?25h\u001b[33mWARNING: pandas 1.4.4 does not provide the extra 'parquet'\u001b[0m\u001b[33m\n",
      "\u001b[0mRequirement already satisfied: pytz>=2020.1 in /opt/conda/lib/python3.9/site-packages (from pandas[parquet]>=1.3.5->evidently) (2022.4)\n",
      "Requirement already satisfied: python-dateutil>=2.8.1 in /opt/conda/lib/python3.9/site-packages (from pandas[parquet]>=1.3.5->evidently) (2.8.2)\n",
      "Requirement already satisfied: tenacity>=6.2.0 in /opt/conda/lib/python3.9/site-packages (from plotly>=5.5.0->evidently) (8.2.2)\n",
      "Requirement already satisfied: certifi>=2017.4.17 in /opt/conda/lib/python3.9/site-packages (from requests>=2.21.0->evidently) (2022.9.24)\n",
      "Requirement already satisfied: urllib3<1.27,>=1.21.1 in /opt/conda/lib/python3.9/site-packages (from requests>=2.21.0->evidently) (1.26.11)\n",
      "Requirement already satisfied: charset-normalizer<3,>=2 in /opt/conda/lib/python3.9/site-packages (from requests>=2.21.0->evidently) (2.1.1)\n",
      "Requirement already satisfied: idna<4,>=2.5 in /opt/conda/lib/python3.9/site-packages (from requests>=2.21.0->evidently) (3.4)\n",
      "Collecting markdown-it-py>=2.2.0\n",
      "  Downloading markdown_it_py-3.0.0-py3-none-any.whl (87 kB)\n",
      "\u001b[2K     \u001b[90m━━━━━━━━━━━━━━━━━━━━━━━━━━━━━━━━━━━━━━━━\u001b[0m \u001b[32m87.5/87.5 kB\u001b[0m \u001b[31m78.5 MB/s\u001b[0m eta \u001b[36m0:00:00\u001b[0m\n",
      "\u001b[?25hRequirement already satisfied: pygments<3.0.0,>=2.13.0 in /opt/conda/lib/python3.9/site-packages (from rich>=13->evidently) (2.13.0)\n",
      "Requirement already satisfied: threadpoolctl>=2.0.0 in /opt/conda/lib/python3.9/site-packages (from scikit-learn>=0.24.0->evidently) (3.1.0)\n",
      "Requirement already satisfied: packaging>=21.3 in /opt/conda/lib/python3.9/site-packages (from statsmodels>=0.12.2->evidently) (21.3)\n",
      "Requirement already satisfied: patsy>=0.5.2 in /opt/conda/lib/python3.9/site-packages (from statsmodels>=0.12.2->evidently) (0.5.2)\n",
      "Collecting mypy-extensions>=0.3.0\n",
      "  Downloading mypy_extensions-1.0.0-py3-none-any.whl (4.7 kB)\n",
      "Requirement already satisfied: h11>=0.8 in /opt/conda/lib/python3.9/site-packages (from uvicorn>=0.22.0->evidently) (0.14.0)\n",
      "Collecting mdurl~=0.1\n",
      "  Downloading mdurl-0.1.2-py3-none-any.whl (10.0 kB)\n",
      "Requirement already satisfied: pyparsing!=3.0.5,>=2.0.2 in /opt/conda/lib/python3.9/site-packages (from packaging>=21.3->statsmodels>=0.12.2->evidently) (3.0.9)\n",
      "Requirement already satisfied: six in /opt/conda/lib/python3.9/site-packages (from patsy>=0.5.2->statsmodels>=0.12.2->evidently) (1.16.0)\n",
      "Requirement already satisfied: anyio<5,>=3.4.0 in /opt/conda/lib/python3.9/site-packages (from starlette<0.37.0,>=0.36.3->fastapi>=0.100.0->evidently) (3.6.1)\n",
      "Requirement already satisfied: sniffio>=1.1 in /opt/conda/lib/python3.9/site-packages (from anyio<5,>=3.4.0->starlette<0.37.0,>=0.36.3->fastapi>=0.100.0->evidently) (1.3.0)\n",
      "Installing collected packages: appdirs, watchdog, typing-extensions, regex, mypy-extensions, mdurl, filelock, distro, uvicorn, typing-inspect, starlette, nltk, markdown-it-py, iterative-telemetry, rich, fastapi, fastapi-restful, evidently\n",
      "  Attempting uninstall: typing-extensions\n",
      "    Found existing installation: typing_extensions 4.4.0\n",
      "    Uninstalling typing_extensions-4.4.0:\n",
      "      Successfully uninstalled typing_extensions-4.4.0\n",
      "  Attempting uninstall: uvicorn\n",
      "    Found existing installation: uvicorn 0.20.0\n",
      "    Uninstalling uvicorn-0.20.0:\n",
      "      Successfully uninstalled uvicorn-0.20.0\n",
      "  Attempting uninstall: starlette\n",
      "    Found existing installation: starlette 0.27.0\n",
      "    Uninstalling starlette-0.27.0:\n",
      "      Successfully uninstalled starlette-0.27.0\n",
      "  Attempting uninstall: fastapi\n",
      "    Found existing installation: fastapi 0.95.2\n",
      "    Uninstalling fastapi-0.95.2:\n",
      "      Successfully uninstalled fastapi-0.95.2\n",
      "\u001b[31mERROR: pip's dependency resolver does not currently take into account all the packages that are installed. This behaviour is the source of the following dependency conflicts.\n",
      "mlrun 1.4.0 requires fastapi~=0.95.2, but you have fastapi 0.109.2 which is incompatible.\u001b[0m\u001b[31m\n",
      "\u001b[0mSuccessfully installed appdirs-1.4.4 distro-1.9.0 evidently-0.4.14 fastapi-0.109.2 fastapi-restful-0.5.0 filelock-3.13.1 iterative-telemetry-0.0.8 markdown-it-py-3.0.0 mdurl-0.1.2 mypy-extensions-1.0.0 nltk-3.8.1 regex-2023.12.25 rich-13.7.0 starlette-0.36.3 typing-extensions-4.9.0 typing-inspect-0.9.0 uvicorn-0.27.0.post1 watchdog-3.0.0\n",
      "\n",
      "\u001b[1m[\u001b[0m\u001b[34;49mnotice\u001b[0m\u001b[1;39;49m]\u001b[0m\u001b[39;49m A new release of pip available: \u001b[0m\u001b[31;49m22.3.1\u001b[0m\u001b[39;49m -> \u001b[0m\u001b[32;49m24.0\u001b[0m\n",
      "\u001b[1m[\u001b[0m\u001b[34;49mnotice\u001b[0m\u001b[1;39;49m]\u001b[0m\u001b[39;49m To update, run: \u001b[0m\u001b[32;49mpip install --upgrade pip\u001b[0m\n",
      "> 2024-02-06 15:57:12,628 [debug] Auto mount disabled due to user selection (auto_mount_type=none)\n",
      "> 2024-02-06 15:57:12,641 [info] Storing function: {'name': 'run-drift-detection-run-drift-detection', 'uid': 'ed64f142d41d4512b6dbb7cf68c7db6f', 'db': 'http://localhost:8080'}\n",
      "> 2024-02-06 15:57:12,671 [debug] starting local run: run_drift_detection.py # run_drift_detection\n",
      "> 2024-02-06 15:57:12,685 [debug] The packagers manager collected the packager: BoolPackager(packable_type=bool, artifact_types=['object', 'result'], priority=5)\n",
      "> 2024-02-06 15:57:12,686 [debug] The packagers manager collected the packager: BytearrayPackager(packable_type=bytearray, artifact_types=['file', 'object', 'result'], priority=5)\n",
      "> 2024-02-06 15:57:12,686 [debug] The packagers manager collected the packager: BytesPackager(packable_type=bytes, artifact_types=['file', 'object', 'result'], priority=5)\n",
      "> 2024-02-06 15:57:12,687 [debug] The packagers manager collected the packager: DictPackager(packable_type=dict, artifact_types=['file', 'object', 'result'], priority=5)\n",
      "> 2024-02-06 15:57:12,688 [debug] The packagers manager collected the packager: FloatPackager(packable_type=float, artifact_types=['object', 'result'], priority=5)\n",
      "> 2024-02-06 15:57:12,688 [debug] The packagers manager collected the packager: FrozensetPackager(packable_type=frozenset, artifact_types=['file', 'object', 'result'], priority=5)\n",
      "> 2024-02-06 15:57:12,688 [debug] The packagers manager collected the packager: IntPackager(packable_type=int, artifact_types=['object', 'result'], priority=5)\n",
      "> 2024-02-06 15:57:12,689 [debug] The packagers manager collected the packager: ListPackager(packable_type=list, artifact_types=['file', 'object', 'result'], priority=5)\n",
      "> 2024-02-06 15:57:12,689 [debug] The packagers manager collected the packager: PathPackager(packable_type=Path, artifact_types=['object', 'path', 'result'], priority=5)\n",
      "> 2024-02-06 15:57:12,689 [debug] The packagers manager collected the packager: SetPackager(packable_type=set, artifact_types=['file', 'object', 'result'], priority=5)\n",
      "> 2024-02-06 15:57:12,690 [debug] The packagers manager collected the packager: StrPackager(packable_type=str, artifact_types=['object', 'path', 'result'], priority=5)\n",
      "> 2024-02-06 15:57:12,690 [debug] The packagers manager collected the packager: TuplePackager(packable_type=tuple, artifact_types=['file', 'object', 'result'], priority=5)\n",
      "> 2024-02-06 15:57:12,691 [debug] The packagers manager collected the packager: PandasDataFramePackager(packable_type=DataFrame, artifact_types=['dataset', 'file', 'object', 'result'], priority=5)\n",
      "> 2024-02-06 15:57:12,691 [debug] The packagers manager collected the packager: PandasSeriesPackager(packable_type=Series, artifact_types=['file', 'object', 'result'], priority=5)\n",
      "> 2024-02-06 15:57:12,692 [debug] The packagers manager collected the packager: NumPyNDArrayDictPackager(packable_type=typing.Dict[str, numpy.ndarray], artifact_types=['file', 'object', 'result'], priority=4)\n",
      "> 2024-02-06 15:57:12,692 [debug] The packagers manager collected the packager: NumPyNDArrayListPackager(packable_type=typing.List[numpy.ndarray], artifact_types=['file', 'object', 'result'], priority=4)\n",
      "> 2024-02-06 15:57:12,692 [debug] The packagers manager collected the packager: NumPyNDArrayPackager(packable_type=ndarray, artifact_types=['dataset', 'file', 'object', 'result'], priority=5)\n",
      "> 2024-02-06 15:57:12,693 [debug] The packagers manager collected the packager: NumPyNumberPackager(packable_type=number, artifact_types=['object', 'result'], priority=5)\n",
      "> 2024-02-06 15:57:12,713 [debug] The packagers manager collected the packager: BoolPackager(packable_type=bool, artifact_types=['object', 'result'], priority=5)\n",
      "> 2024-02-06 15:57:12,714 [debug] The packagers manager collected the packager: BytearrayPackager(packable_type=bytearray, artifact_types=['file', 'object', 'result'], priority=5)\n",
      "> 2024-02-06 15:57:12,714 [debug] The packagers manager collected the packager: BytesPackager(packable_type=bytes, artifact_types=['file', 'object', 'result'], priority=5)\n",
      "> 2024-02-06 15:57:12,714 [debug] The packagers manager collected the packager: DictPackager(packable_type=dict, artifact_types=['file', 'object', 'result'], priority=5)\n",
      "> 2024-02-06 15:57:12,715 [debug] The packagers manager collected the packager: FloatPackager(packable_type=float, artifact_types=['object', 'result'], priority=5)\n",
      "> 2024-02-06 15:57:12,715 [debug] The packagers manager collected the packager: FrozensetPackager(packable_type=frozenset, artifact_types=['file', 'object', 'result'], priority=5)\n",
      "> 2024-02-06 15:57:12,716 [debug] The packagers manager collected the packager: IntPackager(packable_type=int, artifact_types=['object', 'result'], priority=5)\n",
      "> 2024-02-06 15:57:12,717 [debug] The packagers manager collected the packager: ListPackager(packable_type=list, artifact_types=['file', 'object', 'result'], priority=5)\n",
      "> 2024-02-06 15:57:12,717 [debug] The packagers manager collected the packager: PathPackager(packable_type=Path, artifact_types=['object', 'path', 'result'], priority=5)\n",
      "> 2024-02-06 15:57:12,718 [debug] The packagers manager collected the packager: SetPackager(packable_type=set, artifact_types=['file', 'object', 'result'], priority=5)\n",
      "> 2024-02-06 15:57:12,718 [debug] The packagers manager collected the packager: StrPackager(packable_type=str, artifact_types=['object', 'path', 'result'], priority=5)\n",
      "> 2024-02-06 15:57:12,718 [debug] The packagers manager collected the packager: TuplePackager(packable_type=tuple, artifact_types=['file', 'object', 'result'], priority=5)\n",
      "> 2024-02-06 15:57:12,719 [debug] The packagers manager collected the packager: PandasDataFramePackager(packable_type=DataFrame, artifact_types=['dataset', 'file', 'object', 'result'], priority=5)\n",
      "> 2024-02-06 15:57:12,719 [debug] The packagers manager collected the packager: PandasSeriesPackager(packable_type=Series, artifact_types=['file', 'object', 'result'], priority=5)\n",
      "> 2024-02-06 15:57:12,720 [debug] The packagers manager collected the packager: NumPyNDArrayDictPackager(packable_type=typing.Dict[str, numpy.ndarray], artifact_types=['file', 'object', 'result'], priority=4)\n",
      "> 2024-02-06 15:57:12,720 [debug] The packagers manager collected the packager: NumPyNDArrayListPackager(packable_type=typing.List[numpy.ndarray], artifact_types=['file', 'object', 'result'], priority=4)\n",
      "> 2024-02-06 15:57:12,720 [debug] The packagers manager collected the packager: NumPyNDArrayPackager(packable_type=ndarray, artifact_types=['dataset', 'file', 'object', 'result'], priority=5)\n",
      "> 2024-02-06 15:57:12,721 [debug] The packagers manager collected the packager: NumPyNumberPackager(packable_type=number, artifact_types=['object', 'result'], priority=5)\n",
      "> 2024-02-06 15:57:22,175 [debug] Run updates: {'name': 'run-drift-detection-run-drift-detection', 'uid': 'ed64f142d41d4512b6dbb7cf68c7db6f', 'kind': '', 'last_state': '', 'updates': {'status.last_update': '2024-02-06T15:57:22.175038+00:00', 'status.state': 'completed'}}\n",
      "> 2024-02-06 15:57:22,186 [debug] No notifications to push for run: {'run_uid': 'ed64f142d41d4512b6dbb7cf68c7db6f'}\n"
     ]
    },
    {
     "data": {
      "text/html": [
       "<style>\n",
       ".dictlist {\n",
       "  background-color: #4EC64B;\n",
       "  text-align: center;\n",
       "  margin: 4px;\n",
       "  border-radius: 3px; padding: 0px 3px 1px 3px; display: inline-block;}\n",
       ".artifact {\n",
       "  cursor: pointer;\n",
       "  background-color: #4EC64B;\n",
       "  text-align: left;\n",
       "  margin: 4px; border-radius: 3px; padding: 0px 3px 1px 3px; display: inline-block;\n",
       "}\n",
       "div.block.hidden {\n",
       "  display: none;\n",
       "}\n",
       ".clickable {\n",
       "  cursor: pointer;\n",
       "}\n",
       ".ellipsis {\n",
       "  display: inline-block;\n",
       "  max-width: 60px;\n",
       "  white-space: nowrap;\n",
       "  overflow: hidden;\n",
       "  text-overflow: ellipsis;\n",
       "}\n",
       ".master-wrapper {\n",
       "  display: flex;\n",
       "  flex-flow: row nowrap;\n",
       "  justify-content: flex-start;\n",
       "  align-items: stretch;\n",
       "}\n",
       ".master-tbl {\n",
       "  flex: 3\n",
       "}\n",
       ".master-wrapper > div {\n",
       "  margin: 4px;\n",
       "  padding: 10px;\n",
       "}\n",
       "iframe.fileview {\n",
       "  border: 0 none;\n",
       "  height: 100%;\n",
       "  width: 100%;\n",
       "  white-space: pre-wrap;\n",
       "}\n",
       ".pane-header-title {\n",
       "  width: 80%;\n",
       "  font-weight: 500;\n",
       "}\n",
       ".pane-header {\n",
       "  line-height: 1;\n",
       "  background-color: #4EC64B;\n",
       "  padding: 3px;\n",
       "}\n",
       ".pane-header .close {\n",
       "  font-size: 20px;\n",
       "  font-weight: 700;\n",
       "  float: right;\n",
       "  margin-top: -5px;\n",
       "}\n",
       ".master-wrapper .right-pane {\n",
       "  border: 1px inset silver;\n",
       "  width: 40%;\n",
       "  min-height: 300px;\n",
       "  flex: 3\n",
       "  min-width: 500px;\n",
       "}\n",
       ".master-wrapper * {\n",
       "  box-sizing: border-box;\n",
       "}\n",
       "</style><script>\n",
       "function copyToClipboard(fld) {\n",
       "    if (document.queryCommandSupported && document.queryCommandSupported('copy')) {\n",
       "        var textarea = document.createElement('textarea');\n",
       "        textarea.textContent = fld.innerHTML;\n",
       "        textarea.style.position = 'fixed';\n",
       "        document.body.appendChild(textarea);\n",
       "        textarea.select();\n",
       "\n",
       "        try {\n",
       "            return document.execCommand('copy'); // Security exception may be thrown by some browsers.\n",
       "        } catch (ex) {\n",
       "\n",
       "        } finally {\n",
       "            document.body.removeChild(textarea);\n",
       "        }\n",
       "    }\n",
       "}\n",
       "function expandPanel(el) {\n",
       "  const panelName = \"#\" + el.getAttribute('paneName');\n",
       "  console.log(el.title);\n",
       "\n",
       "  document.querySelector(panelName + \"-title\").innerHTML = el.title\n",
       "  iframe = document.querySelector(panelName + \"-body\");\n",
       "\n",
       "  const tblcss = `<style> body { font-family: Arial, Helvetica, sans-serif;}\n",
       "    #csv { margin-bottom: 15px; }\n",
       "    #csv table { border-collapse: collapse;}\n",
       "    #csv table td { padding: 4px 8px; border: 1px solid silver;} </style>`;\n",
       "\n",
       "  function csvToHtmlTable(str) {\n",
       "    return '<div id=\"csv\"><table><tr><td>' +  str.replace(/[\\n\\r]+$/g, '').replace(/[\\n\\r]+/g, '</td></tr><tr><td>')\n",
       "      .replace(/,/g, '</td><td>') + '</td></tr></table></div>';\n",
       "  }\n",
       "\n",
       "  function reqListener () {\n",
       "    if (el.title.endsWith(\".csv\")) {\n",
       "      iframe.setAttribute(\"srcdoc\", tblcss + csvToHtmlTable(this.responseText));\n",
       "    } else {\n",
       "      iframe.setAttribute(\"srcdoc\", this.responseText);\n",
       "    }\n",
       "    console.log(this.responseText);\n",
       "  }\n",
       "\n",
       "  const oReq = new XMLHttpRequest();\n",
       "  oReq.addEventListener(\"load\", reqListener);\n",
       "  oReq.open(\"GET\", el.title);\n",
       "  oReq.send();\n",
       "\n",
       "\n",
       "  //iframe.src = el.title;\n",
       "  const resultPane = document.querySelector(panelName + \"-pane\");\n",
       "  if (resultPane.classList.contains(\"hidden\")) {\n",
       "    resultPane.classList.remove(\"hidden\");\n",
       "  }\n",
       "}\n",
       "function closePanel(el) {\n",
       "  const panelName = \"#\" + el.getAttribute('paneName')\n",
       "  const resultPane = document.querySelector(panelName + \"-pane\");\n",
       "  if (!resultPane.classList.contains(\"hidden\")) {\n",
       "    resultPane.classList.add(\"hidden\");\n",
       "  }\n",
       "}\n",
       "\n",
       "</script>\n",
       "<div class=\"master-wrapper\">\n",
       "  <div class=\"block master-tbl\"><div>\n",
       "<style scoped>\n",
       "    .dataframe tbody tr th:only-of-type {\n",
       "        vertical-align: middle;\n",
       "    }\n",
       "\n",
       "    .dataframe tbody tr th {\n",
       "        vertical-align: top;\n",
       "    }\n",
       "\n",
       "    .dataframe thead th {\n",
       "        text-align: right;\n",
       "    }\n",
       "</style>\n",
       "<table border=\"1\" class=\"dataframe\">\n",
       "  <thead>\n",
       "    <tr style=\"text-align: right;\">\n",
       "      <th>project</th>\n",
       "      <th>uid</th>\n",
       "      <th>iter</th>\n",
       "      <th>start</th>\n",
       "      <th>state</th>\n",
       "      <th>name</th>\n",
       "      <th>labels</th>\n",
       "      <th>inputs</th>\n",
       "      <th>parameters</th>\n",
       "      <th>results</th>\n",
       "      <th>artifacts</th>\n",
       "    </tr>\n",
       "  </thead>\n",
       "  <tbody>\n",
       "    <tr>\n",
       "      <td>drift-detection</td>\n",
       "      <td><div title=\"ed64f142d41d4512b6dbb7cf68c7db6f\"><a href=\"http://localhost:8060/projects/drift-detection/jobs/monitor/ed64f142d41d4512b6dbb7cf68c7db6f/overview\" target=\"_blank\" >...68c7db6f</a></div></td>\n",
       "      <td>0</td>\n",
       "      <td>Feb 06 15:57:12</td>\n",
       "      <td>completed</td>\n",
       "      <td>run-drift-detection-run-drift-detection</td>\n",
       "      <td><div class=\"dictlist\">kind=</div><div class=\"dictlist\">owner=jovyan</div><div class=\"dictlist\">host=ca2e72edab07</div></td>\n",
       "      <td></td>\n",
       "      <td></td>\n",
       "      <td><div class=\"dictlist\">drift_result=False</div></td>\n",
       "      <td></td>\n",
       "    </tr>\n",
       "  </tbody>\n",
       "</table>\n",
       "</div></div>\n",
       "  <div id=\"resulte92942a4-pane\" class=\"right-pane block hidden\">\n",
       "    <div class=\"pane-header\">\n",
       "      <span id=\"resulte92942a4-title\" class=\"pane-header-title\">Title</span>\n",
       "      <span onclick=\"closePanel(this)\" paneName=\"resulte92942a4\" class=\"close clickable\">&times;</span>\n",
       "    </div>\n",
       "    <iframe class=\"fileview\" id=\"resulte92942a4-body\"></iframe>\n",
       "  </div>\n",
       "</div>\n"
      ],
      "text/plain": [
       "<IPython.core.display.HTML object>"
      ]
     },
     "metadata": {},
     "output_type": "display_data"
    },
    {
     "name": "stdout",
     "output_type": "stream",
     "text": [
      "\n"
     ]
    },
    {
     "data": {
      "text/html": [
       "<b> > to track results use the .show() or .logs() methods  or <a href=\"http://localhost:8060/projects/drift-detection/jobs/monitor/ed64f142d41d4512b6dbb7cf68c7db6f/overview\" target=\"_blank\">click here</a> to open in UI</b>"
      ],
      "text/plain": [
       "<IPython.core.display.HTML object>"
      ]
     },
     "metadata": {},
     "output_type": "display_data"
    },
    {
     "name": "stdout",
     "output_type": "stream",
     "text": [
      "> 2024-02-06 15:57:22,194 [info] Run execution finished: {'status': 'completed', 'name': 'run-drift-detection-run-drift-detection'}\n"
     ]
    },
    {
     "data": {
      "text/plain": [
       "<mlrun.projects.project.MlrunProject at 0x7f9de0726400>"
      ]
     },
     "execution_count": 65,
     "metadata": {},
     "output_type": "execute_result"
    }
   ],
   "source": [
    "!pip install evidently\n",
    "project.run_function(\"run-drift-detection\", local=True, auto_build=True)\n",
    "project.save()"
   ]
  },
  {
   "cell_type": "code",
   "execution_count": null,
   "id": "eb78e6e1-34bd-4109-b680-5e83ec97c1be",
   "metadata": {},
   "outputs": [],
   "source": []
  },
  {
   "cell_type": "markdown",
   "id": "5df3d54a-04fa-4bf9-9ad1-109d7af2858c",
   "metadata": {},
   "source": [
    "## Export AI Product project configurations (objects, functions, workflows, artifacts)"
   ]
  },
  {
   "cell_type": "code",
   "execution_count": 22,
   "id": "b35cab4b-3409-4ff8-b037-3690d2b5b0d6",
   "metadata": {},
   "outputs": [],
   "source": [
    "project_file_path = \"/home/albana/ai_product_card_templates/document_classification_model/fasttext/project-config.yaml\"\n",
    "project.export(project_file_path)"
   ]
  },
  {
   "cell_type": "code",
   "execution_count": null,
   "id": "f117b2b5-97c9-4bb9-8608-ee9ab884543c",
   "metadata": {},
   "outputs": [],
   "source": []
  },
  {
   "cell_type": "code",
   "execution_count": null,
   "id": "9e7da2d4-6237-453d-bf3d-75bdb3a5a135",
   "metadata": {},
   "outputs": [],
   "source": []
  },
  {
   "cell_type": "code",
   "execution_count": null,
   "id": "f87068b2-9aee-49ea-974b-d2ed687b033f",
   "metadata": {},
   "outputs": [],
   "source": []
  },
  {
   "cell_type": "code",
   "execution_count": null,
   "id": "47e83946-51d4-4255-a239-9a3c86f9cedb",
   "metadata": {},
   "outputs": [],
   "source": []
  },
  {
   "cell_type": "code",
   "execution_count": null,
   "id": "79cd83b4-218b-4cc7-8352-79b4f56745dd",
   "metadata": {},
   "outputs": [],
   "source": []
  },
  {
   "cell_type": "code",
   "execution_count": null,
   "id": "72b9acae-d346-496d-a8a4-6907f2e5c1c7",
   "metadata": {},
   "outputs": [],
   "source": []
  },
  {
   "cell_type": "code",
   "execution_count": null,
   "id": "133fd40a-8dfa-4db1-a868-9cbd450a0310",
   "metadata": {},
   "outputs": [],
   "source": []
  },
  {
   "cell_type": "code",
   "execution_count": null,
   "id": "1f18252a-3290-4ef1-b6a5-16452c501402",
   "metadata": {},
   "outputs": [],
   "source": []
  },
  {
   "cell_type": "code",
   "execution_count": null,
   "id": "3025397a-506b-4f40-b9a5-b77e960fe195",
   "metadata": {},
   "outputs": [],
   "source": []
  },
  {
   "cell_type": "code",
   "execution_count": null,
   "id": "7520f7d9-c0dc-4177-b176-ff87b7aa1ae1",
   "metadata": {},
   "outputs": [],
   "source": []
  },
  {
   "cell_type": "code",
   "execution_count": null,
   "id": "73dd11f0-cff6-4aae-810f-c741f517fe6e",
   "metadata": {},
   "outputs": [],
   "source": []
  },
  {
   "cell_type": "code",
   "execution_count": null,
   "id": "816a69ee-0352-4cd8-a572-dbef87819fed",
   "metadata": {},
   "outputs": [],
   "source": []
  },
  {
   "cell_type": "code",
   "execution_count": null,
   "id": "a4ca9928-fce4-46c9-8a47-5a6ad8077ff0",
   "metadata": {},
   "outputs": [],
   "source": []
  },
  {
   "cell_type": "code",
   "execution_count": 21,
   "id": "0a68b8de-7c35-455e-ba89-e22a6640c012",
   "metadata": {},
   "outputs": [],
   "source": [
    "serving_fn = mlrun.new_function(\n",
    "    \"serving\",\n",
    "    image=\"python:3.9\",\n",
    "    kind=\"serving\",\n",
    "    requirements=[\"mlrun[complete]\", \"scikit-learn~=1.3.0\"],\n",
    ")"
   ]
  },
  {
   "cell_type": "code",
   "execution_count": 9,
   "id": "47b723d8-acaa-4f31-bb47-909a03cdc633",
   "metadata": {},
   "outputs": [
    {
     "name": "stdout",
     "output_type": "stream",
     "text": [
      "function: auto-trainer\n",
      "Automatic train, evaluate and predict functions for the ML frameworks - Scikit-Learn, XGBoost and LightGBM.\n",
      "default handler: train\n",
      "entry points:\n",
      "  train: Training a model with the given dataset.\n",
      "\n",
      "example::\n",
      "\n",
      "    import mlrun\n",
      "    project = mlrun.get_or_create_project(\"my-project\")\n",
      "    project.set_function(\"hub://auto_trainer\", \"train\")\n",
      "    trainer_run = project.run(\n",
      "        name=\"train\",\n",
      "        handler=\"train\",\n",
      "        inputs={\"dataset\": \"./path/to/dataset.csv\"},\n",
      "        params={\n",
      "            \"model_class\": \"sklearn.linear_model.LogisticRegression\",\n",
      "            \"label_columns\": \"label\",\n",
      "            \"drop_columns\": \"id\",\n",
      "            \"model_name\": \"my-model\",\n",
      "            \"tag\": \"v1.0.0\",\n",
      "            \"sample_set\": \"./path/to/sample_set.csv\",\n",
      "            \"test_set\": \"./path/to/test_set.csv\",\n",
      "            \"CLASS_solver\": \"liblinear\",\n",
      "        },\n",
      "    )\n",
      "    context(MLClientCtx)  - MLRun context\n",
      "    dataset(DataItem)  - The dataset to train the model on. Can be either a URI or a FeatureVector\n",
      "    model_class(str)  - The class of the model, e.g. `sklearn.linear_model.LogisticRegression`\n",
      "    label_columns(Optional[Union[str, List[str]]])  - The target label(s) of the column(s) in the dataset. for Regression or Classification tasks. Mandatory when dataset is not a FeatureVector., default=None\n",
      "    drop_columns(List[str])  - str or a list of strings that represent the columns to drop, default=None\n",
      "    model_name(str)  - The model's name to use for storing the model artifact, default to 'model', default=model\n",
      "    tag(str)  - The model's tag to log with, default=\n",
      "    sample_set(DataItem)  - A sample set of inputs for the model for logging its stats along the model in favour of model monitoring. Can be either a URI or a FeatureVector, default=None\n",
      "    test_set(DataItem)  - The test set to train the model with., default=None\n",
      "    train_test_split_size(float)  - if test_set was provided then this argument is ignored. Should be between 0.0 and 1.0 and represent the proportion of the dataset to include in the test split. The size of the Training set is set to the complement of this value. Default = 0.2, default=None\n",
      "    random_state(int)  - Relevant only when using train_test_split_size. A random state seed to shuffle the data. For more information, see: https://scikit-learn.org/stable/glossary.html#term-random_state Notice that here we only pass integer values., default=None\n",
      "    labels(dict)  - Labels to log with the model, default=None\n",
      "  evaluate: Evaluating a model. Artifacts generated by the MLHandler.\n",
      "    context(MLClientCtx)  - MLRun context.\n",
      "    model(str)  - The model Store path.\n",
      "    dataset(DataItem)  - The dataset to evaluate the model on. Can be either a URI or a FeatureVector.\n",
      "    drop_columns(List[str])  - str or a list of strings that represent the columns to drop., default=None\n",
      "    label_columns(Optional[Union[str, List[str]]])  - The target label(s) of the column(s) in the dataset. for Regression or Classification tasks. Mandatory when dataset is not a FeatureVector., default=None\n",
      "  predict: Predicting dataset by a model.\n",
      "    context(MLClientCtx)  - MLRun context.\n",
      "    model(str)  - The model Store path.\n",
      "    dataset(DataItem)  - The dataset to predict the model on. Can be either a URI, a FeatureVector or a sample in a shape of a list/dict. When passing a sample, pass the dataset as a field in `params` instead of `inputs`.\n",
      "    drop_columns(Union[str, List[str], int, List[int]])  - str/int or a list of strings/ints that represent the column names/indices to drop. When the dataset is a list/dict this parameter should be represented by integers., default=None\n",
      "    label_columns(Optional[Union[str, List[str]]])  - The target label(s) of the column(s) in the dataset. for Regression or Classification tasks. Mandatory when dataset is not a FeatureVector., default=None\n",
      "    result_set(Optional[str])  - The db key to set name of the prediction result and the filename. Default to 'prediction'., default=None\n"
     ]
    }
   ],
   "source": []
  },
  {
   "cell_type": "code",
   "execution_count": null,
   "id": "47c3467b-a1d2-4c09-bd7c-0c19f3811819",
   "metadata": {},
   "outputs": [],
   "source": []
  }
 ],
 "metadata": {
  "kernelspec": {
   "display_name": "Python 3 (ipykernel)",
   "language": "python",
   "name": "python3"
  },
  "language_info": {
   "codemirror_mode": {
    "name": "ipython",
    "version": 3
   },
   "file_extension": ".py",
   "mimetype": "text/x-python",
   "name": "python",
   "nbconvert_exporter": "python",
   "pygments_lexer": "ipython3",
   "version": "3.9.13"
  }
 },
 "nbformat": 4,
 "nbformat_minor": 5
}
