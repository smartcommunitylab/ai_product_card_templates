{
 "cells": [
  {
   "cell_type": "code",
   "execution_count": 1,
   "id": "47283bed-9f47-4a2c-a059-f1adbab2bb00",
   "metadata": {},
   "outputs": [],
   "source": [
    "import mlrun"
   ]
  },
  {
   "cell_type": "markdown",
   "id": "9d2faf41-b8b5-4233-84f6-7bf8f6241a6f",
   "metadata": {},
   "source": [
    "# Create the 'Legal Acts Classification' AIPC project"
   ]
  },
  {
   "cell_type": "code",
   "execution_count": 90,
   "id": "095725e7-4836-4461-9cd5-d0fb485ca238",
   "metadata": {},
   "outputs": [
    {
     "name": "stdout",
     "output_type": "stream",
     "text": [
      "Project Source: https://github.com/smartcommunitylab/ai_product_card_templates/tree/main/aipc_examples/document_classification_aipc/fasttext\n",
      "> 2024-02-27 14:07:31,962 [debug] Auto mount disabled due to user selection (auto_mount_type=none)\n",
      "> 2024-02-27 14:07:32,188 [info] Project loaded successfully: {'project_name': 'fasttext-aipc'}\n"
     ]
    }
   ],
   "source": [
    "project = mlrun.get_or_create_project(\n",
    "    name=\"fasttext-aipc\",\n",
    "    context=\"./\",\n",
    "    parameters={\n",
    "        \"source\": \"https://github.com/smartcommunitylab/ai_product_card_templates/tree/main/aipc_examples/document_classification_aipc/fasttext\",\n",
    "        \"default_image\": \"mlrun/mlrun\",\n",
    "        \"requirements_file\": \"./requirements.txt\",\n",
    "        \"metadata_path\": \"../../metadata/\"\n",
    "    }\n",
    ")"
   ]
  },
  {
   "cell_type": "code",
   "execution_count": null,
   "id": "ff3f50d4-1f87-4293-a684-5f8694ea6490",
   "metadata": {},
   "outputs": [],
   "source": []
  },
  {
   "cell_type": "code",
   "execution_count": null,
   "id": "d02eb7de-b35b-4fbd-ae9c-c97d7bc4c29f",
   "metadata": {},
   "outputs": [],
   "source": []
  },
  {
   "cell_type": "code",
   "execution_count": null,
   "id": "4fdb558e-4cb2-446b-8df2-a10176d63a53",
   "metadata": {},
   "outputs": [],
   "source": []
  },
  {
   "cell_type": "code",
   "execution_count": null,
   "id": "92623058-37d6-4e40-8172-746077408564",
   "metadata": {},
   "outputs": [],
   "source": []
  },
  {
   "cell_type": "markdown",
   "id": "8c9f4318-1a3b-4e2b-8aea-a67040afdbd0",
   "metadata": {},
   "source": [
    "## Run specific worklows from the project"
   ]
  },
  {
   "cell_type": "code",
   "execution_count": 88,
   "id": "7765c9f9-fd18-497e-ad06-bf3c6043459c",
   "metadata": {
    "collapsed": true,
    "jupyter": {
     "outputs_hidden": true
    },
    "tags": []
   },
   "outputs": [
    {
     "ename": "KeyError",
     "evalue": "'main'",
     "output_type": "error",
     "traceback": [
      "\u001b[0;31m---------------------------------------------------------------------------\u001b[0m",
      "\u001b[0;31mKeyError\u001b[0m                                  Traceback (most recent call last)",
      "Cell \u001b[0;32mIn [88], line 3\u001b[0m\n\u001b[1;32m      1\u001b[0m \u001b[38;5;66;03m# Run the workflow main\u001b[39;00m\n\u001b[1;32m      2\u001b[0m data_url \u001b[38;5;241m=\u001b[39m \u001b[38;5;124m\"\u001b[39m\u001b[38;5;124mhttps://drive.usercontent.google.com/u/0/uc?id=11xy6a6cbteD2TG9r3CU16ysO50xrqZf2&export=download\u001b[39m\u001b[38;5;124m\"\u001b[39m\n\u001b[0;32m----> 3\u001b[0m \u001b[43mproject\u001b[49m\u001b[38;5;241;43m.\u001b[39;49m\u001b[43mrun\u001b[49m\u001b[43m(\u001b[49m\u001b[38;5;124;43m\"\u001b[39;49m\u001b[38;5;124;43mmain\u001b[39;49m\u001b[38;5;124;43m\"\u001b[39;49m\u001b[43m,\u001b[49m\u001b[43m \u001b[49m\u001b[43marguments\u001b[49m\u001b[38;5;241;43m=\u001b[39;49m\u001b[43m{\u001b[49m\u001b[38;5;124;43m'\u001b[39;49m\u001b[38;5;124;43mdata\u001b[39;49m\u001b[38;5;124;43m'\u001b[39;49m\u001b[43m:\u001b[49m\u001b[43m \u001b[49m\u001b[43mdata_url\u001b[49m\u001b[43m}\u001b[49m\u001b[43m)\u001b[49m\n",
      "File \u001b[0;32m/opt/conda/lib/python3.9/site-packages/mlrun/projects/project.py:2298\u001b[0m, in \u001b[0;36mMlrunProject.run\u001b[0;34m(self, name, workflow_path, arguments, artifact_path, workflow_handler, namespace, sync, watch, dirty, ttl, engine, local, schedule, timeout, overwrite, source, cleanup_ttl)\u001b[0m\n\u001b[1;32m   2296\u001b[0m     workflow_spec \u001b[38;5;241m=\u001b[39m WorkflowSpec(path\u001b[38;5;241m=\u001b[39mworkflow_path, args\u001b[38;5;241m=\u001b[39marguments)\n\u001b[1;32m   2297\u001b[0m \u001b[38;5;28;01melse\u001b[39;00m:\n\u001b[0;32m-> 2298\u001b[0m     workflow_spec \u001b[38;5;241m=\u001b[39m \u001b[38;5;28;43mself\u001b[39;49m\u001b[38;5;241;43m.\u001b[39;49m\u001b[43mspec\u001b[49m\u001b[38;5;241;43m.\u001b[39;49m\u001b[43m_workflows\u001b[49m\u001b[43m[\u001b[49m\u001b[43mname\u001b[49m\u001b[43m]\u001b[49m\u001b[38;5;241m.\u001b[39mcopy()\n\u001b[1;32m   2299\u001b[0m     workflow_spec\u001b[38;5;241m.\u001b[39mmerge_args(arguments)\n\u001b[1;32m   2300\u001b[0m workflow_spec\u001b[38;5;241m.\u001b[39mcleanup_ttl \u001b[38;5;241m=\u001b[39m (\n\u001b[1;32m   2301\u001b[0m     cleanup_ttl \u001b[38;5;129;01mor\u001b[39;00m ttl \u001b[38;5;129;01mor\u001b[39;00m workflow_spec\u001b[38;5;241m.\u001b[39mcleanup_ttl \u001b[38;5;129;01mor\u001b[39;00m workflow_spec\u001b[38;5;241m.\u001b[39mttl\n\u001b[1;32m   2302\u001b[0m )\n",
      "\u001b[0;31mKeyError\u001b[0m: 'main'"
     ]
    }
   ],
   "source": [
    "# Run the workflow main\n",
    "data_url = \"https://drive.usercontent.google.com/u/0/uc?id=11xy6a6cbteD2TG9r3CU16ysO50xrqZf2&export=download\"\n",
    "project.run(\"main\", arguments={'data': data_url})  # run the workflow \"main\""
   ]
  },
  {
   "cell_type": "code",
   "execution_count": null,
   "id": "dbd04b3f-bc38-4917-badb-fbb056898845",
   "metadata": {},
   "outputs": [],
   "source": []
  }
 ],
 "metadata": {
  "kernelspec": {
   "display_name": "Python 3 (ipykernel)",
   "language": "python",
   "name": "python3"
  },
  "language_info": {
   "codemirror_mode": {
    "name": "ipython",
    "version": 3
   },
   "file_extension": ".py",
   "mimetype": "text/x-python",
   "name": "python",
   "nbconvert_exporter": "python",
   "pygments_lexer": "ipython3",
   "version": "3.9.13"
  }
 },
 "nbformat": 4,
 "nbformat_minor": 5
}
