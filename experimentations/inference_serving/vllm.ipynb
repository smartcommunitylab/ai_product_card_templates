{
 "cells": [
  {
   "cell_type": "code",
   "execution_count": null,
   "id": "a1c42628-bb77-4bc1-b104-3af11c06f4cf",
   "metadata": {},
   "outputs": [],
   "source": [
    "pip install vllm"
   ]
  },
  {
   "cell_type": "code",
   "execution_count": null,
   "id": "01f099ea-8ce9-4185-874d-b05bcaef211b",
   "metadata": {},
   "outputs": [],
   "source": [
    "from huggingface_hub import snapshot_download\n",
    "import huggingface_hub\n",
    "\n",
    "sql_lora_path = snapshot_download(repo_id=\"yard1/llama-2-7b-sql-lora-test\")"
   ]
  },
  {
   "cell_type": "code",
   "execution_count": null,
   "id": "88a0bb3f-8efc-4e6c-aa4d-2fa071c3bb19",
   "metadata": {},
   "outputs": [],
   "source": [
    "from vllm import LLM, SamplingParams\n",
    "from vllm.lora.request import LoRARequest\n",
    "\n",
    "huggingface_hub.login(\"HF_AUTH_TOKEN\")\n",
    "llm = LLM(model=\"meta-llama/Llama-2-7b-hf\", enable_lora=True)"
   ]
  },
  {
   "cell_type": "code",
   "execution_count": null,
   "id": "8ccf3632-f50e-4319-b878-db98a387e0f3",
   "metadata": {},
   "outputs": [],
   "source": [
    "sampling_params = SamplingParams(\n",
    "    temperature=0,\n",
    "    max_tokens=256,\n",
    "    stop=[\"[/assistant]\"]\n",
    ")\n",
    "\n",
    "prompts = [\n",
    "     \"[user] Write a SQL query to answer the question based on the table schema.\\n\\n context: CREATE TABLE table_name_74 (icao VARCHAR, airport VARCHAR)\\n\\n question: Name the ICAO for lilongwe international airport [/user] [assistant]\",\n",
    "     \"[user] Write a SQL query to answer the question based on the table schema.\\n\\n context: CREATE TABLE table_name_11 (nationality VARCHAR, elector VARCHAR)\\n\\n question: When Anchero Pantaleone was the elector what is under nationality? [/user] [assistant]\",\n",
    "]\n",
    "\n",
    "outputs = llm.generate(\n",
    "    prompts,\n",
    "    sampling_params,\n",
    "    lora_request=LoRARequest(\"sql_adapter\", 1, sql_lora_path)\n",
    ")"
   ]
  }
 ],
 "metadata": {
  "kernelspec": {
   "display_name": "Python 3 (ipykernel)",
   "language": "python",
   "name": "python3"
  },
  "language_info": {
   "codemirror_mode": {
    "name": "ipython",
    "version": 3
   },
   "file_extension": ".py",
   "mimetype": "text/x-python",
   "name": "python",
   "nbconvert_exporter": "python",
   "pygments_lexer": "ipython3",
   "version": "3.9.13"
  }
 },
 "nbformat": 4,
 "nbformat_minor": 5
}
