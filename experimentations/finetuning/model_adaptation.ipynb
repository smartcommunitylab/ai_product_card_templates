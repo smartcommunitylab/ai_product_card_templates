{
 "cells": [
  {
   "cell_type": "code",
   "execution_count": null,
   "id": "b74b3278-9c80-4b98-9f51-ecda297b80b4",
   "metadata": {
    "collapsed": true,
    "jupyter": {
     "outputs_hidden": true
    },
    "tags": []
   },
   "outputs": [],
   "source": [
    "!pip install transformers datasets"
   ]
  },
  {
   "cell_type": "markdown",
   "id": "4b320cb2-7562-4d66-9daf-b0a748473fde",
   "metadata": {},
   "source": [
    "# Create the AutoTokenizer of the dataset"
   ]
  },
  {
   "cell_type": "code",
   "execution_count": null,
   "id": "a2fd2eb2-a977-49f1-8f9d-0159ffcca787",
   "metadata": {
    "collapsed": true,
    "jupyter": {
     "outputs_hidden": true
    },
    "tags": []
   },
   "outputs": [],
   "source": [
    "from transformers import AutoTokenizer\n",
    "from datasets import load_dataset\n",
    "\n",
    "def tokenize_function(examples):\n",
    "    return tokenizer(examples[\"text\"], padding=\"max_length\", truncation=True)\n",
    "\n",
    "\n",
    "dataset = load_dataset(\"yelp_review_full\")\n",
    "dataset[\"train\"][100]"
   ]
  },
  {
   "cell_type": "code",
   "execution_count": null,
   "id": "f93b61a6-5e07-4bb6-8b47-40c028e8dad7",
   "metadata": {},
   "outputs": [],
   "source": [
    "# apply the same tokenizer used to train the original model\n",
    "tokenizer = AutoTokenizer.from_pretrained(\"dbmdz/bert-base-italian-cased\")\n",
    "tokenized_datasets = dataset.map(tokenize_function, batched=True)"
   ]
  },
  {
   "cell_type": "markdown",
   "id": "df9981ea-9b0e-45d5-a9de-7049bf0688fe",
   "metadata": {},
   "source": [
    "## Encode the text with the tokenizer"
   ]
  },
  {
   "cell_type": "code",
   "execution_count": null,
   "id": "49978525-fd36-42f3-9040-08a218cd8538",
   "metadata": {},
   "outputs": [],
   "source": [
    "text = \"How are you?\"\n",
    "encoded_text = tokenizer(text)\n",
    "encoded_text"
   ]
  },
  {
   "cell_type": "code",
   "execution_count": null,
   "id": "9b684f51-061a-4d01-8c78-a3d803bc2464",
   "metadata": {},
   "outputs": [],
   "source": [
    "decoded_text = tokenizer.decode(encoded_text[\"input_ids\"])\n",
    "decoded_text"
   ]
  },
  {
   "cell_type": "markdown",
   "id": "348c60a3-a418-4a98-9b13-f32c5b1e0260",
   "metadata": {},
   "source": [
    "## Padding and truncation"
   ]
  },
  {
   "cell_type": "markdown",
   "id": "2103b642-76f3-4d69-a9f9-563a1ac779c1",
   "metadata": {},
   "source": [
    "### Adjust padding and truncation"
   ]
  },
  {
   "cell_type": "code",
   "execution_count": null,
   "id": "3afe9784-8e88-40c7-8658-04d5f9105193",
   "metadata": {},
   "outputs": [],
   "source": [
    "several_sentences = [\"How are you?\", \"Another text\", \"Yes\"]\n",
    "tokenizer(several_sentences)"
   ]
  },
  {
   "cell_type": "code",
   "execution_count": null,
   "id": "f5d77842-1830-4272-a10c-bf7b628229d8",
   "metadata": {},
   "outputs": [],
   "source": [
    "tokenizer.truncation_side = \"left\"\n",
    "tokenizer(several_sentences, max_length=6, padding=True, truncation=True)"
   ]
  },
  {
   "cell_type": "code",
   "execution_count": null,
   "id": "c9a8b75f-af34-4fc3-b7aa-b2bff12bd76a",
   "metadata": {},
   "outputs": [],
   "source": []
  },
  {
   "cell_type": "code",
   "execution_count": null,
   "id": "1ad6171b-ac72-44e8-95b2-527bc41df045",
   "metadata": {
    "collapsed": true,
    "jupyter": {
     "outputs_hidden": true
    },
    "tags": []
   },
   "outputs": [],
   "source": [
    "from trl.train import SFTTrainer, TrainingArguments\n",
    "\n",
    "\n",
    "os.environ[\"WANDB_PROJECT\"] = \"alpaca_ft\"  # name your W&B project\n",
    "os.environ[\"WANDB_LOG_MODEL\"] = \"checkpoint\"  # log all model checkpoints\n",
    "\n",
    "\n",
    "training_args = TrainingArguments(\n",
    "    report_to=\"wandb\",\n",
    "    per_device_train_batch_size=16,\n",
    "    learning_rate=2e-4,\n",
    "    lr_scheduler_type=\"cosine\",\n",
    "    num_train_epochs=3,\n",
    "    gradient_accumulation_steps=2, # simulate larger batch sizes\n",
    ")\n",
    "\n",
    "\n",
    "trainer = SFTTrainer(\n",
    "    model,\n",
    "    train_dataset=train_dataset,\n",
    "    eval_dataset=eval_dataset,\n",
    "    packing=True, # pack samples together for efficient training\n",
    "    max_seq_length=1024, # maximum packed length \n",
    "    args=training_args,\n",
    "    formatting_func=formatting_func, # format samples with a model schema\n",
    ")\n",
    "trainer.train()\n"
   ]
  },
  {
   "cell_type": "code",
   "execution_count": null,
   "id": "0b94aa1c-c9d7-447c-98cf-89abd18cbee8",
   "metadata": {},
   "outputs": [],
   "source": []
  }
 ],
 "metadata": {
  "kernelspec": {
   "display_name": "Python 3 (ipykernel)",
   "language": "python",
   "name": "python3"
  },
  "language_info": {
   "codemirror_mode": {
    "name": "ipython",
    "version": 3
   },
   "file_extension": ".py",
   "mimetype": "text/x-python",
   "name": "python",
   "nbconvert_exporter": "python",
   "pygments_lexer": "ipython3",
   "version": "3.9.13"
  }
 },
 "nbformat": 4,
 "nbformat_minor": 5
}
