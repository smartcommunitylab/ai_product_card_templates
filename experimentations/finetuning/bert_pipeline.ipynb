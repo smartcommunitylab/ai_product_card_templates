{
 "cells": [
  {
   "cell_type": "code",
   "execution_count": 1,
   "id": "a3a72fa5-9f6e-4068-8632-17d82d1cebf3",
   "metadata": {},
   "outputs": [],
   "source": [
    "import mlrun"
   ]
  },
  {
   "cell_type": "markdown",
   "id": "8d765606-90b1-4de3-a204-a05656501cf8",
   "metadata": {},
   "source": [
    "## Create the project"
   ]
  },
  {
   "cell_type": "code",
   "execution_count": 2,
   "id": "811e6299-4e4a-4ab3-9ef5-7d4ec95e1cf7",
   "metadata": {
    "collapsed": true,
    "jupyter": {
     "outputs_hidden": true
    },
    "tags": []
   },
   "outputs": [
    {
     "name": "stdout",
     "output_type": "stream",
     "text": [
      "> 2024-02-27 14:42:30,684 [error] Failed to run project_setup script: {'setup_file_path': './project_setup.py', 'exc': \"0: unknown tag - ':return: Dictionary with the metrics.'\"}\n"
     ]
    },
    {
     "ename": "ValueError",
     "evalue": "0: unknown tag - ':return: Dictionary with the metrics.'",
     "output_type": "error",
     "traceback": [
      "\u001b[0;31m---------------------------------------------------------------------------\u001b[0m",
      "\u001b[0;31mValueError\u001b[0m                                Traceback (most recent call last)",
      "Cell \u001b[0;32mIn [2], line 1\u001b[0m\n\u001b[0;32m----> 1\u001b[0m project \u001b[38;5;241m=\u001b[39m \u001b[43mmlrun\u001b[49m\u001b[38;5;241;43m.\u001b[39;49m\u001b[43mget_or_create_project\u001b[49m\u001b[43m(\u001b[49m\n\u001b[1;32m      2\u001b[0m \u001b[43m    \u001b[49m\u001b[43mname\u001b[49m\u001b[38;5;241;43m=\u001b[39;49m\u001b[38;5;124;43m\"\u001b[39;49m\u001b[38;5;124;43mbert-classification\u001b[39;49m\u001b[38;5;124;43m\"\u001b[39;49m\u001b[43m,\u001b[49m\u001b[43m \u001b[49m\n\u001b[1;32m      3\u001b[0m \u001b[43m    \u001b[49m\u001b[43mcontext\u001b[49m\u001b[38;5;241;43m=\u001b[39;49m\u001b[38;5;124;43m\"\u001b[39;49m\u001b[38;5;124;43m./\u001b[39;49m\u001b[38;5;124;43m\"\u001b[39;49m\u001b[43m,\u001b[49m\n\u001b[1;32m      4\u001b[0m \u001b[43m    \u001b[49m\u001b[43mparameters\u001b[49m\u001b[38;5;241;43m=\u001b[39;49m\u001b[43m{\u001b[49m\n\u001b[1;32m      5\u001b[0m \u001b[43m        \u001b[49m\u001b[38;5;124;43m\"\u001b[39;49m\u001b[38;5;124;43mbase_image\u001b[39;49m\u001b[38;5;124;43m\"\u001b[39;49m\u001b[43m:\u001b[49m\u001b[43m \u001b[49m\u001b[38;5;124;43m\"\u001b[39;49m\u001b[38;5;124;43mmlrun/mlrun\u001b[39;49m\u001b[38;5;124;43m\"\u001b[39;49m\u001b[43m,\u001b[49m\n\u001b[1;32m      6\u001b[0m \u001b[43m        \u001b[49m\u001b[38;5;124;43m\"\u001b[39;49m\u001b[38;5;124;43mrequirements_file\u001b[39;49m\u001b[38;5;124;43m\"\u001b[39;49m\u001b[43m:\u001b[49m\u001b[43m \u001b[49m\u001b[38;5;124;43m\"\u001b[39;49m\u001b[38;5;124;43m./requirements.txt\u001b[39;49m\u001b[38;5;124;43m\"\u001b[39;49m\n\u001b[1;32m      7\u001b[0m \u001b[43m    \u001b[49m\u001b[43m}\u001b[49m\n\u001b[1;32m      8\u001b[0m \u001b[43m)\u001b[49m\n",
      "File \u001b[0;32m/opt/conda/lib/python3.9/site-packages/mlrun/projects/project.py:460\u001b[0m, in \u001b[0;36mget_or_create_project\u001b[0;34m(name, context, url, secrets, init_git, subpath, clone, user_project, from_template, save, parameters)\u001b[0m\n\u001b[1;32m    456\u001b[0m load_from_path \u001b[38;5;241m=\u001b[39m url \u001b[38;5;129;01mor\u001b[39;00m path\u001b[38;5;241m.\u001b[39misfile(spec_path)\n\u001b[1;32m    457\u001b[0m \u001b[38;5;28;01mtry\u001b[39;00m:\n\u001b[1;32m    458\u001b[0m     \u001b[38;5;66;03m# load project from the DB.\u001b[39;00m\n\u001b[1;32m    459\u001b[0m     \u001b[38;5;66;03m# use `name` as `url` as we load the project from the DB\u001b[39;00m\n\u001b[0;32m--> 460\u001b[0m     project \u001b[38;5;241m=\u001b[39m \u001b[43mload_project\u001b[49m\u001b[43m(\u001b[49m\n\u001b[1;32m    461\u001b[0m \u001b[43m        \u001b[49m\u001b[43mcontext\u001b[49m\u001b[43m,\u001b[49m\n\u001b[1;32m    462\u001b[0m \u001b[43m        \u001b[49m\u001b[43mname\u001b[49m\u001b[43m,\u001b[49m\n\u001b[1;32m    463\u001b[0m \u001b[43m        \u001b[49m\u001b[43mname\u001b[49m\u001b[43m,\u001b[49m\n\u001b[1;32m    464\u001b[0m \u001b[43m        \u001b[49m\u001b[43msecrets\u001b[49m\u001b[38;5;241;43m=\u001b[39;49m\u001b[43msecrets\u001b[49m\u001b[43m,\u001b[49m\n\u001b[1;32m    465\u001b[0m \u001b[43m        \u001b[49m\u001b[43minit_git\u001b[49m\u001b[38;5;241;43m=\u001b[39;49m\u001b[43minit_git\u001b[49m\u001b[43m,\u001b[49m\n\u001b[1;32m    466\u001b[0m \u001b[43m        \u001b[49m\u001b[43msubpath\u001b[49m\u001b[38;5;241;43m=\u001b[39;49m\u001b[43msubpath\u001b[49m\u001b[43m,\u001b[49m\n\u001b[1;32m    467\u001b[0m \u001b[43m        \u001b[49m\u001b[43mclone\u001b[49m\u001b[38;5;241;43m=\u001b[39;49m\u001b[43mclone\u001b[49m\u001b[43m,\u001b[49m\n\u001b[1;32m    468\u001b[0m \u001b[43m        \u001b[49m\u001b[43muser_project\u001b[49m\u001b[38;5;241;43m=\u001b[39;49m\u001b[43muser_project\u001b[49m\u001b[43m,\u001b[49m\n\u001b[1;32m    469\u001b[0m \u001b[43m        \u001b[49m\u001b[38;5;66;43;03m# only loading project from db so no need to save it\u001b[39;49;00m\n\u001b[1;32m    470\u001b[0m \u001b[43m        \u001b[49m\u001b[43msave\u001b[49m\u001b[38;5;241;43m=\u001b[39;49m\u001b[38;5;28;43;01mFalse\u001b[39;49;00m\u001b[43m,\u001b[49m\n\u001b[1;32m    471\u001b[0m \u001b[43m        \u001b[49m\u001b[43mparameters\u001b[49m\u001b[38;5;241;43m=\u001b[39;49m\u001b[43mparameters\u001b[49m\u001b[43m,\u001b[49m\n\u001b[1;32m    472\u001b[0m \u001b[43m    \u001b[49m\u001b[43m)\u001b[49m\n\u001b[1;32m    473\u001b[0m     logger\u001b[38;5;241m.\u001b[39minfo(\u001b[38;5;124m\"\u001b[39m\u001b[38;5;124mProject loaded successfully\u001b[39m\u001b[38;5;124m\"\u001b[39m, project_name\u001b[38;5;241m=\u001b[39mname)\n\u001b[1;32m    474\u001b[0m     \u001b[38;5;28;01mreturn\u001b[39;00m project\n",
      "File \u001b[0;32m/opt/conda/lib/python3.9/site-packages/mlrun/projects/project.py:384\u001b[0m, in \u001b[0;36mload_project\u001b[0;34m(context, url, name, secrets, init_git, subpath, clone, user_project, save, sync_functions, parameters)\u001b[0m\n\u001b[1;32m    381\u001b[0m     project\u001b[38;5;241m.\u001b[39msave()\n\u001b[1;32m    383\u001b[0m \u001b[38;5;66;03m# Hook for initializing the project using a project_setup script\u001b[39;00m\n\u001b[0;32m--> 384\u001b[0m project \u001b[38;5;241m=\u001b[39m \u001b[43mproject\u001b[49m\u001b[38;5;241;43m.\u001b[39;49m\u001b[43msetup\u001b[49m\u001b[43m(\u001b[49m\u001b[43mto_save\u001b[49m\u001b[43m)\u001b[49m\n\u001b[1;32m    386\u001b[0m \u001b[38;5;28;01mif\u001b[39;00m to_save:\n\u001b[1;32m    387\u001b[0m     project\u001b[38;5;241m.\u001b[39mregister_artifacts()\n",
      "File \u001b[0;32m/opt/conda/lib/python3.9/site-packages/mlrun/projects/project.py:1760\u001b[0m, in \u001b[0;36mMlrunProject.setup\u001b[0;34m(self, save)\u001b[0m\n\u001b[1;32m   1756\u001b[0m \u001b[38;5;66;03m# Hook for initializing the project using a project_setup script\u001b[39;00m\n\u001b[1;32m   1757\u001b[0m setup_file_path \u001b[38;5;241m=\u001b[39m path\u001b[38;5;241m.\u001b[39mjoin(\n\u001b[1;32m   1758\u001b[0m     \u001b[38;5;28mself\u001b[39m\u001b[38;5;241m.\u001b[39mcontext, \u001b[38;5;28mself\u001b[39m\u001b[38;5;241m.\u001b[39mspec\u001b[38;5;241m.\u001b[39msubpath \u001b[38;5;129;01mor\u001b[39;00m \u001b[38;5;124m\"\u001b[39m\u001b[38;5;124m\"\u001b[39m, \u001b[38;5;124m\"\u001b[39m\u001b[38;5;124mproject_setup.py\u001b[39m\u001b[38;5;124m\"\u001b[39m\n\u001b[1;32m   1759\u001b[0m )\n\u001b[0;32m-> 1760\u001b[0m \u001b[38;5;28;01mreturn\u001b[39;00m \u001b[43m_run_project_setup\u001b[49m\u001b[43m(\u001b[49m\u001b[38;5;28;43mself\u001b[39;49m\u001b[43m,\u001b[49m\u001b[43m \u001b[49m\u001b[43msetup_file_path\u001b[49m\u001b[43m,\u001b[49m\u001b[43m \u001b[49m\u001b[43msave\u001b[49m\u001b[43m)\u001b[49m\n",
      "File \u001b[0;32m/opt/conda/lib/python3.9/site-packages/mlrun/projects/project.py:560\u001b[0m, in \u001b[0;36m_run_project_setup\u001b[0;34m(project, setup_file_path, save)\u001b[0m\n\u001b[1;32m    554\u001b[0m \u001b[38;5;28;01mexcept\u001b[39;00m \u001b[38;5;167;01mException\u001b[39;00m \u001b[38;5;28;01mas\u001b[39;00m exc:\n\u001b[1;32m    555\u001b[0m     logger\u001b[38;5;241m.\u001b[39merror(\n\u001b[1;32m    556\u001b[0m         \u001b[38;5;124m\"\u001b[39m\u001b[38;5;124mFailed to run project_setup script\u001b[39m\u001b[38;5;124m\"\u001b[39m,\n\u001b[1;32m    557\u001b[0m         setup_file_path\u001b[38;5;241m=\u001b[39msetup_file_path,\n\u001b[1;32m    558\u001b[0m         exc\u001b[38;5;241m=\u001b[39mmlrun\u001b[38;5;241m.\u001b[39merrors\u001b[38;5;241m.\u001b[39merr_to_str(exc),\n\u001b[1;32m    559\u001b[0m     )\n\u001b[0;32m--> 560\u001b[0m     \u001b[38;5;28;01mraise\u001b[39;00m exc\n\u001b[1;32m    561\u001b[0m \u001b[38;5;28;01mif\u001b[39;00m save:\n\u001b[1;32m    562\u001b[0m     project\u001b[38;5;241m.\u001b[39msave()\n",
      "File \u001b[0;32m/opt/conda/lib/python3.9/site-packages/mlrun/projects/project.py:553\u001b[0m, in \u001b[0;36m_run_project_setup\u001b[0;34m(project, setup_file_path, save)\u001b[0m\n\u001b[1;32m    551\u001b[0m \u001b[38;5;28;01mif\u001b[39;00m \u001b[38;5;28mhasattr\u001b[39m(mod, \u001b[38;5;124m\"\u001b[39m\u001b[38;5;124msetup\u001b[39m\u001b[38;5;124m\"\u001b[39m):\n\u001b[1;32m    552\u001b[0m     \u001b[38;5;28;01mtry\u001b[39;00m:\n\u001b[0;32m--> 553\u001b[0m         project \u001b[38;5;241m=\u001b[39m \u001b[38;5;28;43mgetattr\u001b[39;49m\u001b[43m(\u001b[49m\u001b[43mmod\u001b[49m\u001b[43m,\u001b[49m\u001b[43m \u001b[49m\u001b[38;5;124;43m\"\u001b[39;49m\u001b[38;5;124;43msetup\u001b[39;49m\u001b[38;5;124;43m\"\u001b[39;49m\u001b[43m)\u001b[49m\u001b[43m(\u001b[49m\u001b[43mproject\u001b[49m\u001b[43m)\u001b[49m\n\u001b[1;32m    554\u001b[0m     \u001b[38;5;28;01mexcept\u001b[39;00m \u001b[38;5;167;01mException\u001b[39;00m \u001b[38;5;28;01mas\u001b[39;00m exc:\n\u001b[1;32m    555\u001b[0m         logger\u001b[38;5;241m.\u001b[39merror(\n\u001b[1;32m    556\u001b[0m             \u001b[38;5;124m\"\u001b[39m\u001b[38;5;124mFailed to run project_setup script\u001b[39m\u001b[38;5;124m\"\u001b[39m,\n\u001b[1;32m    557\u001b[0m             setup_file_path\u001b[38;5;241m=\u001b[39msetup_file_path,\n\u001b[1;32m    558\u001b[0m             exc\u001b[38;5;241m=\u001b[39mmlrun\u001b[38;5;241m.\u001b[39merrors\u001b[38;5;241m.\u001b[39merr_to_str(exc),\n\u001b[1;32m    559\u001b[0m         )\n",
      "File \u001b[0;32m~/ai_product_card_templates/aipc_examples/document_classification_aipc/bert/ai_task_implementation/project_setup.py:31\u001b[0m, in \u001b[0;36msetup\u001b[0;34m(project)\u001b[0m\n\u001b[1;32m     21\u001b[0m     project\u001b[38;5;241m.\u001b[39mset_default_image(default_image)\n\u001b[1;32m     23\u001b[0m project\u001b[38;5;241m.\u001b[39mset_function(\n\u001b[1;32m     24\u001b[0m     \u001b[38;5;124m\"\u001b[39m\u001b[38;5;124mpreprocess.py\u001b[39m\u001b[38;5;124m\"\u001b[39m,\n\u001b[1;32m     25\u001b[0m     name\u001b[38;5;241m=\u001b[39m\u001b[38;5;124m\"\u001b[39m\u001b[38;5;124mpreprocess\u001b[39m\u001b[38;5;124m\"\u001b[39m,\n\u001b[0;32m   (...)\u001b[0m\n\u001b[1;32m     28\u001b[0m     handler\u001b[38;5;241m=\u001b[39m\u001b[38;5;124m\"\u001b[39m\u001b[38;5;124mpreprocessdata\u001b[39m\u001b[38;5;124m\"\u001b[39m\n\u001b[1;32m     29\u001b[0m )\n\u001b[0;32m---> 31\u001b[0m \u001b[43mproject\u001b[49m\u001b[38;5;241;43m.\u001b[39;49m\u001b[43mset_function\u001b[49m\u001b[43m(\u001b[49m\n\u001b[1;32m     32\u001b[0m \u001b[43m    \u001b[49m\u001b[38;5;124;43m\"\u001b[39;49m\u001b[38;5;124;43mtrain.py\u001b[39;49m\u001b[38;5;124;43m\"\u001b[39;49m\u001b[43m,\u001b[49m\n\u001b[1;32m     33\u001b[0m \u001b[43m    \u001b[49m\u001b[43mname\u001b[49m\u001b[38;5;241;43m=\u001b[39;49m\u001b[38;5;124;43m\"\u001b[39;49m\u001b[38;5;124;43mtrain\u001b[39;49m\u001b[38;5;124;43m\"\u001b[39;49m\u001b[43m,\u001b[49m\n\u001b[1;32m     34\u001b[0m \u001b[43m    \u001b[49m\u001b[43mkind\u001b[49m\u001b[38;5;241;43m=\u001b[39;49m\u001b[38;5;124;43m\"\u001b[39;49m\u001b[38;5;124;43mjob\u001b[39;49m\u001b[38;5;124;43m\"\u001b[39;49m\u001b[43m,\u001b[49m\n\u001b[1;32m     35\u001b[0m \u001b[43m    \u001b[49m\u001b[43mimage\u001b[49m\u001b[38;5;241;43m=\u001b[39;49m\u001b[38;5;124;43m\"\u001b[39;49m\u001b[38;5;124;43mmlrun/mlrun\u001b[39;49m\u001b[38;5;124;43m\"\u001b[39;49m\u001b[43m,\u001b[49m\n\u001b[1;32m     36\u001b[0m \u001b[43m    \u001b[49m\u001b[43mhandler\u001b[49m\u001b[38;5;241;43m=\u001b[39;49m\u001b[38;5;124;43m\"\u001b[39;49m\u001b[38;5;124;43mtrain\u001b[39;49m\u001b[38;5;124;43m\"\u001b[39;49m\n\u001b[1;32m     37\u001b[0m \u001b[43m\u001b[49m\u001b[43m)\u001b[49m\n\u001b[1;32m     39\u001b[0m project\u001b[38;5;241m.\u001b[39mset_function(\n\u001b[1;32m     40\u001b[0m     \u001b[38;5;124m\"\u001b[39m\u001b[38;5;124mevaluate.py\u001b[39m\u001b[38;5;124m\"\u001b[39m,\n\u001b[1;32m     41\u001b[0m     name\u001b[38;5;241m=\u001b[39m\u001b[38;5;124m\"\u001b[39m\u001b[38;5;124mevaluate\u001b[39m\u001b[38;5;124m\"\u001b[39m,\n\u001b[1;32m     42\u001b[0m     kind\u001b[38;5;241m=\u001b[39m\u001b[38;5;124m\"\u001b[39m\u001b[38;5;124mjob\u001b[39m\u001b[38;5;124m\"\u001b[39m,\n\u001b[1;32m     43\u001b[0m     handler\u001b[38;5;241m=\u001b[39m\u001b[38;5;124m\"\u001b[39m\u001b[38;5;124mevaluate\u001b[39m\u001b[38;5;124m\"\u001b[39m\n\u001b[1;32m     44\u001b[0m )\n\u001b[1;32m     46\u001b[0m \u001b[38;5;66;03m# Save and return the project:\u001b[39;00m\n",
      "File \u001b[0;32m/opt/conda/lib/python3.9/site-packages/mlrun/projects/project.py:1848\u001b[0m, in \u001b[0;36mMlrunProject.set_function\u001b[0;34m(self, func, name, kind, image, handler, with_repo, tag, requirements, requirements_file)\u001b[0m\n\u001b[1;32m   1837\u001b[0m     function_dict \u001b[38;5;241m=\u001b[39m {\n\u001b[1;32m   1838\u001b[0m         \u001b[38;5;124m\"\u001b[39m\u001b[38;5;124murl\u001b[39m\u001b[38;5;124m\"\u001b[39m: func,\n\u001b[1;32m   1839\u001b[0m         \u001b[38;5;124m\"\u001b[39m\u001b[38;5;124mname\u001b[39m\u001b[38;5;124m\"\u001b[39m: name,\n\u001b[0;32m   (...)\u001b[0m\n\u001b[1;32m   1845\u001b[0m         \u001b[38;5;124m\"\u001b[39m\u001b[38;5;124mrequirements\u001b[39m\u001b[38;5;124m\"\u001b[39m: requirements,\n\u001b[1;32m   1846\u001b[0m     }\n\u001b[1;32m   1847\u001b[0m     func \u001b[38;5;241m=\u001b[39m {k: v \u001b[38;5;28;01mfor\u001b[39;00m k, v \u001b[38;5;129;01min\u001b[39;00m function_dict\u001b[38;5;241m.\u001b[39mitems() \u001b[38;5;28;01mif\u001b[39;00m v}\n\u001b[0;32m-> 1848\u001b[0m     resolved_function_name, function_object \u001b[38;5;241m=\u001b[39m \u001b[43m_init_function_from_dict\u001b[49m\u001b[43m(\u001b[49m\n\u001b[1;32m   1849\u001b[0m \u001b[43m        \u001b[49m\u001b[43mfunc\u001b[49m\u001b[43m,\u001b[49m\u001b[43m \u001b[49m\u001b[38;5;28;43mself\u001b[39;49m\n\u001b[1;32m   1850\u001b[0m \u001b[43m    \u001b[49m\u001b[43m)\u001b[49m\n\u001b[1;32m   1851\u001b[0m     func[\u001b[38;5;124m\"\u001b[39m\u001b[38;5;124mname\u001b[39m\u001b[38;5;124m\"\u001b[39m] \u001b[38;5;241m=\u001b[39m resolved_function_name\n\u001b[1;32m   1852\u001b[0m \u001b[38;5;28;01melif\u001b[39;00m \u001b[38;5;28mhasattr\u001b[39m(func, \u001b[38;5;124m\"\u001b[39m\u001b[38;5;124mto_dict\u001b[39m\u001b[38;5;124m\"\u001b[39m):\n",
      "File \u001b[0;32m/opt/conda/lib/python3.9/site-packages/mlrun/projects/project.py:3130\u001b[0m, in \u001b[0;36m_init_function_from_dict\u001b[0;34m(f, project, name)\u001b[0m\n\u001b[1;32m   3121\u001b[0m         func \u001b[38;5;241m=\u001b[39m new_function(\n\u001b[1;32m   3122\u001b[0m             name,\n\u001b[1;32m   3123\u001b[0m             command\u001b[38;5;241m=\u001b[39mrelative_url,\n\u001b[0;32m   (...)\u001b[0m\n\u001b[1;32m   3127\u001b[0m             tag\u001b[38;5;241m=\u001b[39mtag,\n\u001b[1;32m   3128\u001b[0m         )\n\u001b[1;32m   3129\u001b[0m     \u001b[38;5;28;01melse\u001b[39;00m:\n\u001b[0;32m-> 3130\u001b[0m         func \u001b[38;5;241m=\u001b[39m \u001b[43mcode_to_function\u001b[49m\u001b[43m(\u001b[49m\n\u001b[1;32m   3131\u001b[0m \u001b[43m            \u001b[49m\u001b[43mname\u001b[49m\u001b[43m,\u001b[49m\n\u001b[1;32m   3132\u001b[0m \u001b[43m            \u001b[49m\u001b[43mfilename\u001b[49m\u001b[38;5;241;43m=\u001b[39;49m\u001b[43murl\u001b[49m\u001b[43m,\u001b[49m\n\u001b[1;32m   3133\u001b[0m \u001b[43m            \u001b[49m\u001b[43mimage\u001b[49m\u001b[38;5;241;43m=\u001b[39;49m\u001b[43mimage\u001b[49m\u001b[43m,\u001b[49m\n\u001b[1;32m   3134\u001b[0m \u001b[43m            \u001b[49m\u001b[43mkind\u001b[49m\u001b[38;5;241;43m=\u001b[39;49m\u001b[43mkind\u001b[49m\u001b[43m \u001b[49m\u001b[38;5;129;43;01mor\u001b[39;49;00m\u001b[43m \u001b[49m\u001b[38;5;124;43m\"\u001b[39;49m\u001b[38;5;124;43mjob\u001b[39;49m\u001b[38;5;124;43m\"\u001b[39;49m\u001b[43m,\u001b[49m\n\u001b[1;32m   3135\u001b[0m \u001b[43m            \u001b[49m\u001b[43mhandler\u001b[49m\u001b[38;5;241;43m=\u001b[39;49m\u001b[43mhandler\u001b[49m\u001b[43m,\u001b[49m\n\u001b[1;32m   3136\u001b[0m \u001b[43m            \u001b[49m\u001b[43mtag\u001b[49m\u001b[38;5;241;43m=\u001b[39;49m\u001b[43mtag\u001b[49m\u001b[43m,\u001b[49m\n\u001b[1;32m   3137\u001b[0m \u001b[43m        \u001b[49m\u001b[43m)\u001b[49m\n\u001b[1;32m   3138\u001b[0m \u001b[38;5;28;01melse\u001b[39;00m:\n\u001b[1;32m   3139\u001b[0m     \u001b[38;5;28;01mraise\u001b[39;00m \u001b[38;5;167;01mValueError\u001b[39;00m(\u001b[38;5;124mf\u001b[39m\u001b[38;5;124m\"\u001b[39m\u001b[38;5;124munsupported function url:handler \u001b[39m\u001b[38;5;132;01m{\u001b[39;00murl\u001b[38;5;132;01m}\u001b[39;00m\u001b[38;5;124m:\u001b[39m\u001b[38;5;132;01m{\u001b[39;00mhandler\u001b[38;5;132;01m}\u001b[39;00m\u001b[38;5;124m or no spec\u001b[39m\u001b[38;5;124m\"\u001b[39m)\n",
      "File \u001b[0;32m/opt/conda/lib/python3.9/site-packages/mlrun/run.py:941\u001b[0m, in \u001b[0;36mcode_to_function\u001b[0;34m(name, project, tag, filename, handler, kind, image, code_output, embed_code, description, requirements, categories, labels, with_doc, ignored_tags, requirements_file)\u001b[0m\n\u001b[1;32m    938\u001b[0m r\u001b[38;5;241m.\u001b[39mprepare_image_for_deploy()\n\u001b[1;32m    940\u001b[0m \u001b[38;5;28;01mif\u001b[39;00m with_doc:\n\u001b[0;32m--> 941\u001b[0m     \u001b[43mupdate_function_entry_points\u001b[49m\u001b[43m(\u001b[49m\u001b[43mr\u001b[49m\u001b[43m,\u001b[49m\u001b[43m \u001b[49m\u001b[43mcode\u001b[49m\u001b[43m)\u001b[49m\n\u001b[1;32m    942\u001b[0m r\u001b[38;5;241m.\u001b[39mspec\u001b[38;5;241m.\u001b[39mdefault_handler \u001b[38;5;241m=\u001b[39m handler\n\u001b[1;32m    943\u001b[0m \u001b[38;5;28;01mreturn\u001b[39;00m r\n",
      "File \u001b[0;32m/opt/conda/lib/python3.9/site-packages/mlrun/runtimes/funcdoc.py:304\u001b[0m, in \u001b[0;36mupdate_function_entry_points\u001b[0;34m(function, code)\u001b[0m\n\u001b[1;32m    303\u001b[0m \u001b[38;5;28;01mdef\u001b[39;00m \u001b[38;5;21mupdate_function_entry_points\u001b[39m(function, code):\n\u001b[0;32m--> 304\u001b[0m     handlers \u001b[38;5;241m=\u001b[39m \u001b[43mfind_handlers\u001b[49m\u001b[43m(\u001b[49m\u001b[43mcode\u001b[49m\u001b[43m)\u001b[49m\n\u001b[1;32m    305\u001b[0m     function\u001b[38;5;241m.\u001b[39mspec\u001b[38;5;241m.\u001b[39mentry_points \u001b[38;5;241m=\u001b[39m {\n\u001b[1;32m    306\u001b[0m         handler[\u001b[38;5;124m\"\u001b[39m\u001b[38;5;124mname\u001b[39m\u001b[38;5;124m\"\u001b[39m]: as_func(handler) \u001b[38;5;28;01mfor\u001b[39;00m handler \u001b[38;5;129;01min\u001b[39;00m handlers\n\u001b[1;32m    307\u001b[0m     }\n",
      "File \u001b[0;32m/opt/conda/lib/python3.9/site-packages/mlrun/runtimes/funcdoc.py:284\u001b[0m, in \u001b[0;36mfind_handlers\u001b[0;34m(code, handlers)\u001b[0m\n\u001b[1;32m    282\u001b[0m visitor \u001b[38;5;241m=\u001b[39m ASTVisitor()\n\u001b[1;32m    283\u001b[0m visitor\u001b[38;5;241m.\u001b[39mvisit(mod)\n\u001b[0;32m--> 284\u001b[0m funcs \u001b[38;5;241m=\u001b[39m [ast_func_info(fn) \u001b[38;5;28;01mfor\u001b[39;00m fn \u001b[38;5;129;01min\u001b[39;00m visitor\u001b[38;5;241m.\u001b[39mfuncs]\n\u001b[1;32m    285\u001b[0m \u001b[38;5;28;01mif\u001b[39;00m handlers:\n\u001b[1;32m    286\u001b[0m     \u001b[38;5;28;01mreturn\u001b[39;00m [f \u001b[38;5;28;01mfor\u001b[39;00m f \u001b[38;5;129;01min\u001b[39;00m funcs \u001b[38;5;28;01mif\u001b[39;00m f[\u001b[38;5;124m\"\u001b[39m\u001b[38;5;124mname\u001b[39m\u001b[38;5;124m\"\u001b[39m] \u001b[38;5;129;01min\u001b[39;00m handlers]\n",
      "File \u001b[0;32m/opt/conda/lib/python3.9/site-packages/mlrun/runtimes/funcdoc.py:284\u001b[0m, in \u001b[0;36m<listcomp>\u001b[0;34m(.0)\u001b[0m\n\u001b[1;32m    282\u001b[0m visitor \u001b[38;5;241m=\u001b[39m ASTVisitor()\n\u001b[1;32m    283\u001b[0m visitor\u001b[38;5;241m.\u001b[39mvisit(mod)\n\u001b[0;32m--> 284\u001b[0m funcs \u001b[38;5;241m=\u001b[39m [\u001b[43mast_func_info\u001b[49m\u001b[43m(\u001b[49m\u001b[43mfn\u001b[49m\u001b[43m)\u001b[49m \u001b[38;5;28;01mfor\u001b[39;00m fn \u001b[38;5;129;01min\u001b[39;00m visitor\u001b[38;5;241m.\u001b[39mfuncs]\n\u001b[1;32m    285\u001b[0m \u001b[38;5;28;01mif\u001b[39;00m handlers:\n\u001b[1;32m    286\u001b[0m     \u001b[38;5;28;01mreturn\u001b[39;00m [f \u001b[38;5;28;01mfor\u001b[39;00m f \u001b[38;5;129;01min\u001b[39;00m funcs \u001b[38;5;28;01mif\u001b[39;00m f[\u001b[38;5;124m\"\u001b[39m\u001b[38;5;124mname\u001b[39m\u001b[38;5;124m\"\u001b[39m] \u001b[38;5;129;01min\u001b[39;00m handlers]\n",
      "File \u001b[0;32m/opt/conda/lib/python3.9/site-packages/mlrun/runtimes/funcdoc.py:200\u001b[0m, in \u001b[0;36mast_func_info\u001b[0;34m(func)\u001b[0m\n\u001b[1;32m    197\u001b[0m \u001b[38;5;28;01mif\u001b[39;00m \u001b[38;5;129;01mnot\u001b[39;00m doc\u001b[38;5;241m.\u001b[39mstrip():\n\u001b[1;32m    198\u001b[0m     \u001b[38;5;28;01mreturn\u001b[39;00m out\n\u001b[0;32m--> 200\u001b[0m \u001b[38;5;28;01mreturn\u001b[39;00m \u001b[43mmerge_doc\u001b[49m\u001b[43m(\u001b[49m\u001b[43mout\u001b[49m\u001b[43m,\u001b[49m\u001b[43m \u001b[49m\u001b[43mdoc\u001b[49m\u001b[43m)\u001b[49m\n",
      "File \u001b[0;32m/opt/conda/lib/python3.9/site-packages/mlrun/runtimes/funcdoc.py:99\u001b[0m, in \u001b[0;36mmerge_doc\u001b[0;34m(out, doc)\u001b[0m\n\u001b[1;32m     98\u001b[0m \u001b[38;5;28;01mdef\u001b[39;00m \u001b[38;5;21mmerge_doc\u001b[39m(out, doc):\n\u001b[0;32m---> 99\u001b[0m     doc, params, ret \u001b[38;5;241m=\u001b[39m \u001b[43mparse_rst\u001b[49m\u001b[43m(\u001b[49m\u001b[43mdoc\u001b[49m\u001b[43m)\u001b[49m\n\u001b[1;32m    100\u001b[0m     out[\u001b[38;5;124m\"\u001b[39m\u001b[38;5;124mdoc\u001b[39m\u001b[38;5;124m\"\u001b[39m] \u001b[38;5;241m=\u001b[39m doc\n\u001b[1;32m    102\u001b[0m     \u001b[38;5;28;01mfor\u001b[39;00m param \u001b[38;5;129;01min\u001b[39;00m params:\n",
      "File \u001b[0;32m/opt/conda/lib/python3.9/site-packages/mlrun/runtimes/funcdoc.py:169\u001b[0m, in \u001b[0;36mparse_rst\u001b[0;34m(docstring)\u001b[0m\n\u001b[1;32m    167\u001b[0m         ret[\u001b[38;5;124m\"\u001b[39m\u001b[38;5;124mtype\u001b[39m\u001b[38;5;124m\"\u001b[39m] \u001b[38;5;241m=\u001b[39m text\n\u001b[1;32m    168\u001b[0m     \u001b[38;5;28;01melse\u001b[39;00m:\n\u001b[0;32m--> 169\u001b[0m         \u001b[38;5;28;01mraise\u001b[39;00m \u001b[38;5;167;01mValueError\u001b[39;00m(\u001b[38;5;124mf\u001b[39m\u001b[38;5;124m\"\u001b[39m\u001b[38;5;132;01m{\u001b[39;00mi\u001b[38;5;241m+\u001b[39m\u001b[38;5;241m1\u001b[39m\u001b[38;5;132;01m}\u001b[39;00m\u001b[38;5;124m: unknown tag - \u001b[39m\u001b[38;5;132;01m{\u001b[39;00mlines[i]\u001b[38;5;132;01m!r}\u001b[39;00m\u001b[38;5;124m\"\u001b[39m)\n\u001b[1;32m    171\u001b[0m params \u001b[38;5;241m=\u001b[39m [params[name] \u001b[38;5;28;01mfor\u001b[39;00m name \u001b[38;5;129;01min\u001b[39;00m names]\n\u001b[1;32m    172\u001b[0m \u001b[38;5;28;01mreturn\u001b[39;00m doc, params, ret\n",
      "\u001b[0;31mValueError\u001b[0m: 0: unknown tag - ':return: Dictionary with the metrics.'"
     ]
    }
   ],
   "source": [
    "project = mlrun.get_or_create_project(\n",
    "    name=\"bert-classification\", \n",
    "    context=\"./\",\n",
    "    parameters={\n",
    "        \"base_image\": \"mlrun/mlrun\",\n",
    "        \"requirements_file\": \"./requirements.txt\"\n",
    "    }\n",
    ")"
   ]
  },
  {
   "cell_type": "code",
   "execution_count": 70,
   "id": "ef97d276-581c-4c07-a1db-39d87a4fa8dd",
   "metadata": {},
   "outputs": [
    {
     "name": "stdout",
     "output_type": "stream",
     "text": [
      "> 2024-02-13 11:39:31,174 [debug] Auto mount disabled due to user selection (auto_mount_type=none)\n"
     ]
    },
    {
     "data": {
      "text/plain": [
       "BuildStatus(ready=True, outputs={'image': '.mlrun-project-image-bert-classification'})"
      ]
     },
     "execution_count": 70,
     "metadata": {},
     "output_type": "execute_result"
    }
   ],
   "source": [
    "base_image = project.get_param(\"base_image\") # mlrun/mlrun\n",
    "requirements_file = project.get_param(\"requirements_file\") # requirements.txt\n",
    "\n",
    "project.build_image(\n",
    "    base_image=base_image,\n",
    "    requirements_file=requirements_file,\n",
    "    set_as_default=True\n",
    ")"
   ]
  },
  {
   "cell_type": "markdown",
   "id": "880618fb-a419-4ad7-ba62-82509fdb9677",
   "metadata": {},
   "source": [
    "## Create function for pre-processing data"
   ]
  },
  {
   "cell_type": "code",
   "execution_count": 76,
   "id": "d8dda119-310f-454c-b8a2-0a96fdd9249f",
   "metadata": {
    "tags": []
   },
   "outputs": [
    {
     "name": "stdout",
     "output_type": "stream",
     "text": [
      "huggingface/tokenizers: The current process just got forked, after parallelism has already been used. Disabling parallelism to avoid deadlocks...\n",
      "To disable this warning, you can either:\n",
      "\t- Avoid using `tokenizers` before the fork if possible\n",
      "\t- Explicitly set the environment variable TOKENIZERS_PARALLELISM=(true | false)\n"
     ]
    },
    {
     "data": {
      "text/plain": [
       "<mlrun.projects.project.MlrunProject at 0x7fb1704e8c10>"
      ]
     },
     "execution_count": 76,
     "metadata": {},
     "output_type": "execute_result"
    }
   ],
   "source": [
    "pre_proc_func = project.set_function(\n",
    "    \"preprocess.py\",\n",
    "    name=\"preprocess\",\n",
    "    kind=\"job\",\n",
    "    handler=\"preprocessdata\"\n",
    ")\n",
    "project.save()"
   ]
  },
  {
   "cell_type": "code",
   "execution_count": 83,
   "id": "3d2560c1-86f8-4d47-8985-55275fac2952",
   "metadata": {
    "collapsed": true,
    "jupyter": {
     "outputs_hidden": true
    },
    "tags": []
   },
   "outputs": [
    {
     "name": "stdout",
     "output_type": "stream",
     "text": [
      "> 2024-02-13 13:12:29,695 [debug] Auto mount disabled due to user selection (auto_mount_type=none)\n",
      "> 2024-02-13 13:12:29,705 [info] Storing function: {'name': 'preprocess-preprocessdata', 'uid': '351714bf04cb410d8b94a48c644330c9', 'db': 'http://localhost:8080'}\n",
      "> 2024-02-13 13:12:29,725 [debug] starting local run: preprocess.py # preprocessdata\n",
      "> 2024-02-13 13:12:29,736 [debug] The packagers manager collected the packager: BoolPackager(packable_type=bool, artifact_types=['object', 'result'], priority=5)\n",
      "> 2024-02-13 13:12:29,736 [debug] The packagers manager collected the packager: BytearrayPackager(packable_type=bytearray, artifact_types=['file', 'object', 'result'], priority=5)\n",
      "> 2024-02-13 13:12:29,736 [debug] The packagers manager collected the packager: BytesPackager(packable_type=bytes, artifact_types=['file', 'object', 'result'], priority=5)\n",
      "> 2024-02-13 13:12:29,736 [debug] The packagers manager collected the packager: DictPackager(packable_type=dict, artifact_types=['file', 'object', 'result'], priority=5)\n",
      "> 2024-02-13 13:12:29,737 [debug] The packagers manager collected the packager: FloatPackager(packable_type=float, artifact_types=['object', 'result'], priority=5)\n",
      "> 2024-02-13 13:12:29,737 [debug] The packagers manager collected the packager: FrozensetPackager(packable_type=frozenset, artifact_types=['file', 'object', 'result'], priority=5)\n",
      "> 2024-02-13 13:12:29,737 [debug] The packagers manager collected the packager: IntPackager(packable_type=int, artifact_types=['object', 'result'], priority=5)\n",
      "> 2024-02-13 13:12:29,737 [debug] The packagers manager collected the packager: ListPackager(packable_type=list, artifact_types=['file', 'object', 'result'], priority=5)\n",
      "> 2024-02-13 13:12:29,738 [debug] The packagers manager collected the packager: PathPackager(packable_type=Path, artifact_types=['object', 'path', 'result'], priority=5)\n",
      "> 2024-02-13 13:12:29,738 [debug] The packagers manager collected the packager: SetPackager(packable_type=set, artifact_types=['file', 'object', 'result'], priority=5)\n",
      "> 2024-02-13 13:12:29,738 [debug] The packagers manager collected the packager: StrPackager(packable_type=str, artifact_types=['object', 'path', 'result'], priority=5)\n",
      "> 2024-02-13 13:12:29,738 [debug] The packagers manager collected the packager: TuplePackager(packable_type=tuple, artifact_types=['file', 'object', 'result'], priority=5)\n",
      "> 2024-02-13 13:12:29,738 [debug] The packagers manager collected the packager: PandasDataFramePackager(packable_type=DataFrame, artifact_types=['dataset', 'file', 'object', 'result'], priority=5)\n",
      "> 2024-02-13 13:12:29,739 [debug] The packagers manager collected the packager: PandasSeriesPackager(packable_type=Series, artifact_types=['file', 'object', 'result'], priority=5)\n",
      "> 2024-02-13 13:12:29,739 [debug] The packagers manager collected the packager: NumPyNDArrayDictPackager(packable_type=typing.Dict[str, numpy.ndarray], artifact_types=['file', 'object', 'result'], priority=4)\n",
      "> 2024-02-13 13:12:29,739 [debug] The packagers manager collected the packager: NumPyNDArrayListPackager(packable_type=typing.List[numpy.ndarray], artifact_types=['file', 'object', 'result'], priority=4)\n",
      "> 2024-02-13 13:12:29,739 [debug] The packagers manager collected the packager: NumPyNDArrayPackager(packable_type=ndarray, artifact_types=['dataset', 'file', 'object', 'result'], priority=5)\n",
      "> 2024-02-13 13:12:29,739 [debug] The packagers manager collected the packager: NumPyNumberPackager(packable_type=number, artifact_types=['object', 'result'], priority=5)\n",
      "> 2024-02-13 13:12:29,744 [debug] The packagers manager collected the packager: BoolPackager(packable_type=bool, artifact_types=['object', 'result'], priority=5)\n",
      "> 2024-02-13 13:12:29,744 [debug] The packagers manager collected the packager: BytearrayPackager(packable_type=bytearray, artifact_types=['file', 'object', 'result'], priority=5)\n",
      "> 2024-02-13 13:12:29,745 [debug] The packagers manager collected the packager: BytesPackager(packable_type=bytes, artifact_types=['file', 'object', 'result'], priority=5)\n",
      "> 2024-02-13 13:12:29,745 [debug] The packagers manager collected the packager: DictPackager(packable_type=dict, artifact_types=['file', 'object', 'result'], priority=5)\n",
      "> 2024-02-13 13:12:29,745 [debug] The packagers manager collected the packager: FloatPackager(packable_type=float, artifact_types=['object', 'result'], priority=5)\n",
      "> 2024-02-13 13:12:29,745 [debug] The packagers manager collected the packager: FrozensetPackager(packable_type=frozenset, artifact_types=['file', 'object', 'result'], priority=5)\n",
      "> 2024-02-13 13:12:29,745 [debug] The packagers manager collected the packager: IntPackager(packable_type=int, artifact_types=['object', 'result'], priority=5)\n",
      "> 2024-02-13 13:12:29,746 [debug] The packagers manager collected the packager: ListPackager(packable_type=list, artifact_types=['file', 'object', 'result'], priority=5)\n",
      "> 2024-02-13 13:12:29,746 [debug] The packagers manager collected the packager: PathPackager(packable_type=Path, artifact_types=['object', 'path', 'result'], priority=5)\n",
      "> 2024-02-13 13:12:29,746 [debug] The packagers manager collected the packager: SetPackager(packable_type=set, artifact_types=['file', 'object', 'result'], priority=5)\n",
      "> 2024-02-13 13:12:29,746 [debug] The packagers manager collected the packager: StrPackager(packable_type=str, artifact_types=['object', 'path', 'result'], priority=5)\n",
      "> 2024-02-13 13:12:29,746 [debug] The packagers manager collected the packager: TuplePackager(packable_type=tuple, artifact_types=['file', 'object', 'result'], priority=5)\n",
      "> 2024-02-13 13:12:29,747 [debug] The packagers manager collected the packager: PandasDataFramePackager(packable_type=DataFrame, artifact_types=['dataset', 'file', 'object', 'result'], priority=5)\n",
      "> 2024-02-13 13:12:29,747 [debug] The packagers manager collected the packager: PandasSeriesPackager(packable_type=Series, artifact_types=['file', 'object', 'result'], priority=5)\n",
      "> 2024-02-13 13:12:29,747 [debug] The packagers manager collected the packager: NumPyNDArrayDictPackager(packable_type=typing.Dict[str, numpy.ndarray], artifact_types=['file', 'object', 'result'], priority=4)\n",
      "> 2024-02-13 13:12:29,747 [debug] The packagers manager collected the packager: NumPyNDArrayListPackager(packable_type=typing.List[numpy.ndarray], artifact_types=['file', 'object', 'result'], priority=4)\n",
      "> 2024-02-13 13:12:29,747 [debug] The packagers manager collected the packager: NumPyNDArrayPackager(packable_type=ndarray, artifact_types=['dataset', 'file', 'object', 'result'], priority=5)\n",
      "> 2024-02-13 13:12:29,748 [debug] The packagers manager collected the packager: NumPyNumberPackager(packable_type=number, artifact_types=['object', 'result'], priority=5)\n",
      "Tokenizers config:\n",
      "{'bg': 'Geotrend/bert-base-bg-cased', 'cs': 'DeepPavlov/bert-base-bg-cs-pl-ru-cased', 'da': 'Maltehb/danish-bert-botxo', 'de': 'bert-base-german-cased', 'el': 'nlpaueb/bert-base-greek-uncased-v1', 'en': 'nlpaueb/legal-bert-base-uncased', 'es': 'dccuchile/bert-base-spanish-wwm-cased', 'et': 'EMBEDDIA/finest-bert', 'fi': 'EMBEDDIA/finest-bert', 'fr': 'camembert-base', 'ga': 'DCU-NLP/bert-base-irish-cased-v1', 'hr': 'bert-base-multilingual-cased', 'hu': 'SZTAKI-HLT/hubert-base-cc', 'it': 'dbmdz/bert-base-italian-cased', 'lt': 'EMBEDDIA/litlat-bert', 'lv': 'EMBEDDIA/litlat-bert', 'mt': 'bert-base-multilingual-cased', 'nl': 'wietsedv/bert-base-dutch-cased', 'pl': 'dkleczek/bert-base-polish-cased-v1', 'pt': 'neuralmind/bert-base-portuguese-cased', 'ro': 'dumitrescustefan/bert-base-romanian-cased-v1', 'sk': 'bert-base-multilingual-cased', 'sl': 'bert-base-multilingual-cased', 'sv': 'KB/bert-base-swedish-cased'}\n",
      "\n",
      "Working on directory: it...\n",
      "Lang: 'it', Tokenizer: 'dbmdz/bert-base-italian-cased'\n",
      "Files to process : 1949.json.gz, 1951.json.gz, 1952.json.gz, 1953.json.gz, 1954.json.gz, 1955.json.gz, 1956.json.gz, 1957.json.gz, 2020.json.gz\n",
      "\n",
      "Processing file: '1949.json.gz'...\n",
      "2024-02-13 13:12:29 - 1/2\r"
     ]
    },
    {
     "name": "stderr",
     "output_type": "stream",
     "text": [
      "Token indices sequence length is longer than the specified maximum sequence length for this model (8113 > 512). Running this sequence through the model will result in indexing errors\n"
     ]
    },
    {
     "name": "stdout",
     "output_type": "stream",
     "text": [
      "Dataset stats: - total documents: 2, big documents: 2, ratio: 100.0000%\n",
      "               - total tokens: 16535, unk tokens: 0, ratio: 0.0000%\n",
      "Processing file: '1951.json.gz'...\n"
     ]
    },
    {
     "name": "stderr",
     "output_type": "stream",
     "text": [
      "Token indices sequence length is longer than the specified maximum sequence length for this model (879 > 512). Running this sequence through the model will result in indexing errors\n"
     ]
    },
    {
     "name": "stdout",
     "output_type": "stream",
     "text": [
      "No documents found in the dataset.\n",
      "Processing file: '1952.json.gz'...\n",
      "Dataset stats: - total documents: 3, big documents: 2, ratio: 66.6667%\n",
      "               - total tokens: 1771, unk tokens: 4, ratio: 0.2259%\n",
      "Processing file: '1953.json.gz'...\n"
     ]
    },
    {
     "name": "stderr",
     "output_type": "stream",
     "text": [
      "Token indices sequence length is longer than the specified maximum sequence length for this model (1446 > 512). Running this sequence through the model will result in indexing errors\n"
     ]
    },
    {
     "name": "stdout",
     "output_type": "stream",
     "text": [
      "Dataset stats: - total documents: 8, big documents: 5, ratio: 62.5000%\n",
      "               - total tokens: 5554, unk tokens: 14, ratio: 0.2521%\n",
      "Processing file: '1954.json.gz'...\n"
     ]
    },
    {
     "name": "stderr",
     "output_type": "stream",
     "text": [
      "Token indices sequence length is longer than the specified maximum sequence length for this model (9697 > 512). Running this sequence through the model will result in indexing errors\n"
     ]
    },
    {
     "name": "stdout",
     "output_type": "stream",
     "text": [
      "Dataset stats: - total documents: 7, big documents: 5, ratio: 71.4286%\n",
      "               - total tokens: 14445, unk tokens: 38, ratio: 0.2631%\n",
      "Processing file: '1955.json.gz'...\n"
     ]
    },
    {
     "name": "stderr",
     "output_type": "stream",
     "text": [
      "Token indices sequence length is longer than the specified maximum sequence length for this model (12012 > 512). Running this sequence through the model will result in indexing errors\n"
     ]
    },
    {
     "name": "stdout",
     "output_type": "stream",
     "text": [
      "Dataset stats: - total documents: 3, big documents: 1, ratio: 33.3333%\n",
      "               - total tokens: 12669, unk tokens: 15, ratio: 0.1184%\n",
      "Processing file: '1956.json.gz'...\n"
     ]
    },
    {
     "name": "stderr",
     "output_type": "stream",
     "text": [
      "Token indices sequence length is longer than the specified maximum sequence length for this model (1059 > 512). Running this sequence through the model will result in indexing errors\n"
     ]
    },
    {
     "name": "stdout",
     "output_type": "stream",
     "text": [
      "Dataset stats: - total documents: 6, big documents: 3, ratio: 50.0000%\n",
      "               - total tokens: 14905, unk tokens: 33, ratio: 0.2214%\n",
      "Processing file: '1957.json.gz'...\n"
     ]
    },
    {
     "name": "stderr",
     "output_type": "stream",
     "text": [
      "Token indices sequence length is longer than the specified maximum sequence length for this model (1022 > 512). Running this sequence through the model will result in indexing errors\n"
     ]
    },
    {
     "name": "stdout",
     "output_type": "stream",
     "text": [
      "Dataset stats: - total documents: 2, big documents: 2, ratio: 100.0000%\n",
      "               - total tokens: 2461, unk tokens: 13, ratio: 0.5282%\n",
      "Processing file: '2020.json.gz'...\n"
     ]
    },
    {
     "name": "stderr",
     "output_type": "stream",
     "text": [
      "Token indices sequence length is longer than the specified maximum sequence length for this model (1127 > 512). Running this sequence through the model will result in indexing errors\n"
     ]
    },
    {
     "name": "stdout",
     "output_type": "stream",
     "text": [
      "Dataset stats: - total documents: 8032, big documents: 4475, ratio: 55.7146%\n",
      "               - total tokens: 37738446, unk tokens: 196434, ratio: 0.5205%\n",
      "2024-02-13 13:15:01 - Saving splits...\n",
      "110 - Splitted the documents in - train: 6381, dev: 853, test: 829\n",
      "> 2024-02-13 13:15:34,878 [debug] Run updates: {'name': 'preprocess-preprocessdata', 'uid': '351714bf04cb410d8b94a48c644330c9', 'kind': '', 'last_state': '', 'updates': {'status.last_update': '2024-02-13T13:15:34.878767+00:00', 'status.state': 'completed'}}\n",
      "> 2024-02-13 13:15:34,887 [debug] No notifications to push for run: {'run_uid': '351714bf04cb410d8b94a48c644330c9'}\n"
     ]
    },
    {
     "data": {
      "text/html": [
       "<style>\n",
       ".dictlist {\n",
       "  background-color: #4EC64B;\n",
       "  text-align: center;\n",
       "  margin: 4px;\n",
       "  border-radius: 3px; padding: 0px 3px 1px 3px; display: inline-block;}\n",
       ".artifact {\n",
       "  cursor: pointer;\n",
       "  background-color: #4EC64B;\n",
       "  text-align: left;\n",
       "  margin: 4px; border-radius: 3px; padding: 0px 3px 1px 3px; display: inline-block;\n",
       "}\n",
       "div.block.hidden {\n",
       "  display: none;\n",
       "}\n",
       ".clickable {\n",
       "  cursor: pointer;\n",
       "}\n",
       ".ellipsis {\n",
       "  display: inline-block;\n",
       "  max-width: 60px;\n",
       "  white-space: nowrap;\n",
       "  overflow: hidden;\n",
       "  text-overflow: ellipsis;\n",
       "}\n",
       ".master-wrapper {\n",
       "  display: flex;\n",
       "  flex-flow: row nowrap;\n",
       "  justify-content: flex-start;\n",
       "  align-items: stretch;\n",
       "}\n",
       ".master-tbl {\n",
       "  flex: 3\n",
       "}\n",
       ".master-wrapper > div {\n",
       "  margin: 4px;\n",
       "  padding: 10px;\n",
       "}\n",
       "iframe.fileview {\n",
       "  border: 0 none;\n",
       "  height: 100%;\n",
       "  width: 100%;\n",
       "  white-space: pre-wrap;\n",
       "}\n",
       ".pane-header-title {\n",
       "  width: 80%;\n",
       "  font-weight: 500;\n",
       "}\n",
       ".pane-header {\n",
       "  line-height: 1;\n",
       "  background-color: #4EC64B;\n",
       "  padding: 3px;\n",
       "}\n",
       ".pane-header .close {\n",
       "  font-size: 20px;\n",
       "  font-weight: 700;\n",
       "  float: right;\n",
       "  margin-top: -5px;\n",
       "}\n",
       ".master-wrapper .right-pane {\n",
       "  border: 1px inset silver;\n",
       "  width: 40%;\n",
       "  min-height: 300px;\n",
       "  flex: 3\n",
       "  min-width: 500px;\n",
       "}\n",
       ".master-wrapper * {\n",
       "  box-sizing: border-box;\n",
       "}\n",
       "</style><script>\n",
       "function copyToClipboard(fld) {\n",
       "    if (document.queryCommandSupported && document.queryCommandSupported('copy')) {\n",
       "        var textarea = document.createElement('textarea');\n",
       "        textarea.textContent = fld.innerHTML;\n",
       "        textarea.style.position = 'fixed';\n",
       "        document.body.appendChild(textarea);\n",
       "        textarea.select();\n",
       "\n",
       "        try {\n",
       "            return document.execCommand('copy'); // Security exception may be thrown by some browsers.\n",
       "        } catch (ex) {\n",
       "\n",
       "        } finally {\n",
       "            document.body.removeChild(textarea);\n",
       "        }\n",
       "    }\n",
       "}\n",
       "function expandPanel(el) {\n",
       "  const panelName = \"#\" + el.getAttribute('paneName');\n",
       "  console.log(el.title);\n",
       "\n",
       "  document.querySelector(panelName + \"-title\").innerHTML = el.title\n",
       "  iframe = document.querySelector(panelName + \"-body\");\n",
       "\n",
       "  const tblcss = `<style> body { font-family: Arial, Helvetica, sans-serif;}\n",
       "    #csv { margin-bottom: 15px; }\n",
       "    #csv table { border-collapse: collapse;}\n",
       "    #csv table td { padding: 4px 8px; border: 1px solid silver;} </style>`;\n",
       "\n",
       "  function csvToHtmlTable(str) {\n",
       "    return '<div id=\"csv\"><table><tr><td>' +  str.replace(/[\\n\\r]+$/g, '').replace(/[\\n\\r]+/g, '</td></tr><tr><td>')\n",
       "      .replace(/,/g, '</td><td>') + '</td></tr></table></div>';\n",
       "  }\n",
       "\n",
       "  function reqListener () {\n",
       "    if (el.title.endsWith(\".csv\")) {\n",
       "      iframe.setAttribute(\"srcdoc\", tblcss + csvToHtmlTable(this.responseText));\n",
       "    } else {\n",
       "      iframe.setAttribute(\"srcdoc\", this.responseText);\n",
       "    }\n",
       "    console.log(this.responseText);\n",
       "  }\n",
       "\n",
       "  const oReq = new XMLHttpRequest();\n",
       "  oReq.addEventListener(\"load\", reqListener);\n",
       "  oReq.open(\"GET\", el.title);\n",
       "  oReq.send();\n",
       "\n",
       "\n",
       "  //iframe.src = el.title;\n",
       "  const resultPane = document.querySelector(panelName + \"-pane\");\n",
       "  if (resultPane.classList.contains(\"hidden\")) {\n",
       "    resultPane.classList.remove(\"hidden\");\n",
       "  }\n",
       "}\n",
       "function closePanel(el) {\n",
       "  const panelName = \"#\" + el.getAttribute('paneName')\n",
       "  const resultPane = document.querySelector(panelName + \"-pane\");\n",
       "  if (!resultPane.classList.contains(\"hidden\")) {\n",
       "    resultPane.classList.add(\"hidden\");\n",
       "  }\n",
       "}\n",
       "\n",
       "</script>\n",
       "<div class=\"master-wrapper\">\n",
       "  <div class=\"block master-tbl\"><div>\n",
       "<style scoped>\n",
       "    .dataframe tbody tr th:only-of-type {\n",
       "        vertical-align: middle;\n",
       "    }\n",
       "\n",
       "    .dataframe tbody tr th {\n",
       "        vertical-align: top;\n",
       "    }\n",
       "\n",
       "    .dataframe thead th {\n",
       "        text-align: right;\n",
       "    }\n",
       "</style>\n",
       "<table border=\"1\" class=\"dataframe\">\n",
       "  <thead>\n",
       "    <tr style=\"text-align: right;\">\n",
       "      <th>project</th>\n",
       "      <th>uid</th>\n",
       "      <th>iter</th>\n",
       "      <th>start</th>\n",
       "      <th>state</th>\n",
       "      <th>name</th>\n",
       "      <th>labels</th>\n",
       "      <th>inputs</th>\n",
       "      <th>parameters</th>\n",
       "      <th>results</th>\n",
       "      <th>artifacts</th>\n",
       "    </tr>\n",
       "  </thead>\n",
       "  <tbody>\n",
       "    <tr>\n",
       "      <td>bert-classification</td>\n",
       "      <td><div title=\"351714bf04cb410d8b94a48c644330c9\"><a href=\"http://localhost:8060/projects/bert-classification/jobs/monitor/351714bf04cb410d8b94a48c644330c9/overview\" target=\"_blank\" >...644330c9</a></div></td>\n",
       "      <td>0</td>\n",
       "      <td>Feb 13 13:12:29</td>\n",
       "      <td>completed</td>\n",
       "      <td>preprocess-preprocessdata</td>\n",
       "      <td><div class=\"dictlist\">kind=</div><div class=\"dictlist\">owner=jovyan</div><div class=\"dictlist\">host=a7388fe5f22d</div></td>\n",
       "      <td></td>\n",
       "      <td></td>\n",
       "      <td></td>\n",
       "      <td></td>\n",
       "    </tr>\n",
       "  </tbody>\n",
       "</table>\n",
       "</div></div>\n",
       "  <div id=\"result53d4f36e-pane\" class=\"right-pane block hidden\">\n",
       "    <div class=\"pane-header\">\n",
       "      <span id=\"result53d4f36e-title\" class=\"pane-header-title\">Title</span>\n",
       "      <span onclick=\"closePanel(this)\" paneName=\"result53d4f36e\" class=\"close clickable\">&times;</span>\n",
       "    </div>\n",
       "    <iframe class=\"fileview\" id=\"result53d4f36e-body\"></iframe>\n",
       "  </div>\n",
       "</div>\n"
      ],
      "text/plain": [
       "<IPython.core.display.HTML object>"
      ]
     },
     "metadata": {},
     "output_type": "display_data"
    },
    {
     "name": "stdout",
     "output_type": "stream",
     "text": [
      "\n"
     ]
    },
    {
     "data": {
      "text/html": [
       "<b> > to track results use the .show() or .logs() methods  or <a href=\"http://localhost:8060/projects/bert-classification/jobs/monitor/351714bf04cb410d8b94a48c644330c9/overview\" target=\"_blank\">click here</a> to open in UI</b>"
      ],
      "text/plain": [
       "<IPython.core.display.HTML object>"
      ]
     },
     "metadata": {},
     "output_type": "display_data"
    },
    {
     "name": "stdout",
     "output_type": "stream",
     "text": [
      "> 2024-02-13 13:15:34,893 [info] Run execution finished: {'status': 'completed', 'name': 'preprocess-preprocessdata'}\n"
     ]
    }
   ],
   "source": [
    "get_data_run = project.run_function(\"preprocess\", local=True)"
   ]
  },
  {
   "cell_type": "markdown",
   "id": "00438475-cb74-4b68-8476-76a3f3e74b8b",
   "metadata": {},
   "source": [
    "## Create function for training"
   ]
  },
  {
   "cell_type": "code",
   "execution_count": null,
   "id": "43b696e5-706f-48e4-b1ea-9a7a9a1c7562",
   "metadata": {},
   "outputs": [],
   "source": [
    "project.set_function(\n",
    "    \"train.py\",\n",
    "    name=\"train\",\n",
    "    kind=\"job\",\n",
    "    handler=\"train\"\n",
    ")"
   ]
  },
  {
   "cell_type": "code",
   "execution_count": null,
   "id": "2161820a-6d2f-4f7f-937c-2fcb6399cd1d",
   "metadata": {},
   "outputs": [],
   "source": [
    "project.run_function(\"train\", local=True)"
   ]
  },
  {
   "cell_type": "code",
   "execution_count": null,
   "id": "c654461d-7053-4940-81da-9a573d9f5758",
   "metadata": {},
   "outputs": [],
   "source": []
  },
  {
   "cell_type": "markdown",
   "id": "a35a0782-f254-479d-8def-95eddee585e5",
   "metadata": {},
   "source": [
    "## Create function for evaluation"
   ]
  },
  {
   "cell_type": "code",
   "execution_count": null,
   "id": "8ecc5b90-0dcf-4af0-a81f-5aff5fbc83a8",
   "metadata": {},
   "outputs": [],
   "source": [
    "project.set_function(\n",
    "    \"evaluate.py\",\n",
    "    name=\"evaluate\",\n",
    "    kind=\"job\",\n",
    "    handler=\"evaluate\"\n",
    ")"
   ]
  }
 ],
 "metadata": {
  "kernelspec": {
   "display_name": "Python 3 (ipykernel)",
   "language": "python",
   "name": "python3"
  },
  "language_info": {
   "codemirror_mode": {
    "name": "ipython",
    "version": 3
   },
   "file_extension": ".py",
   "mimetype": "text/x-python",
   "name": "python",
   "nbconvert_exporter": "python",
   "pygments_lexer": "ipython3",
   "version": "3.9.16"
  }
 },
 "nbformat": 4,
 "nbformat_minor": 5
}
