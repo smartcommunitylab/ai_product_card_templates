{
 "cells": [
  {
   "cell_type": "markdown",
   "metadata": {
    "id": "FntdtXUtnWlw"
   },
   "source": [
    "# IBM HR analytics"
   ]
  },
  {
   "cell_type": "code",
   "execution_count": null,
   "metadata": {
    "id": "xxiKqQq3nfQf"
   },
   "outputs": [],
   "source": [
    "try:\n",
    "    import evidently\n",
    "except:\n",
    "    !pip install git+https://github.com/evidentlyai/evidently.git"
   ]
  },
  {
   "cell_type": "code",
   "execution_count": null,
   "metadata": {
    "id": "2GCt_DtRn4_f"
   },
   "outputs": [],
   "source": [
    "!pip install catboost"
   ]
  },
  {
   "cell_type": "code",
   "execution_count": null,
   "metadata": {
    "id": "yI8tP92anWl6"
   },
   "outputs": [],
   "source": [
    "#Import of the particular libraries \n",
    "import math\n",
    "import numpy as np\n",
    "import os \n",
    "import pandas as pd"
   ]
  },
  {
   "cell_type": "code",
   "execution_count": null,
   "metadata": {
    "id": "XIewNLK-nWmA"
   },
   "outputs": [],
   "source": [
    "from sklearn.ensemble import RandomForestClassifier\n",
    "from sklearn.model_selection import train_test_split\n",
    "from sklearn import metrics\n",
    "from catboost import CatBoostClassifier"
   ]
  },
  {
   "cell_type": "code",
   "execution_count": null,
   "metadata": {
    "id": "TSBOOaHJnWmB"
   },
   "outputs": [],
   "source": [
    "from evidently.report import Report\n",
    "from evidently.metric_preset import ClassificationPreset\n",
    "from evidently.pipeline.column_mapping import ColumnMapping"
   ]
  },
  {
   "cell_type": "markdown",
   "metadata": {
    "id": "ZjqxxxQHnWmC"
   },
   "source": [
    "## Source data"
   ]
  },
  {
   "cell_type": "markdown",
   "metadata": {
    "id": "QhflIH6mqyj8"
   },
   "source": [
    "Download this dataset https://www.kaggle.com/pavansubhasht/ibm-hr-analytics-attrition-dataset\n",
    "\n",
    "You can just download data from kaggle and upload it here manually or using kaggle API https://www.kaggle.com/docs/api"
   ]
  },
  {
   "cell_type": "code",
   "execution_count": null,
   "metadata": {
    "id": "Jx8LET3inWmJ"
   },
   "outputs": [],
   "source": [
    "dataset = pd.read_csv(\"WA_Fn-UseC_-HR-Employee-Attrition.csv\", sep = ',', header = 0)"
   ]
  },
  {
   "cell_type": "code",
   "execution_count": null,
   "metadata": {
    "id": "bJjwSq6hnWmK"
   },
   "outputs": [],
   "source": [
    "dataset.head()"
   ]
  },
  {
   "cell_type": "code",
   "execution_count": null,
   "metadata": {
    "id": "o36K6V6RnWmY"
   },
   "outputs": [],
   "source": [
    "dataset.describe()"
   ]
  },
  {
   "cell_type": "markdown",
   "metadata": {
    "id": "74FFpCamnWmd"
   },
   "source": [
    "## Feature engineering"
   ]
  },
  {
   "cell_type": "code",
   "execution_count": null,
   "metadata": {
    "id": "SFZCUSXlnWmx"
   },
   "outputs": [],
   "source": [
    "target_name = 'Attrition'"
   ]
  },
  {
   "cell_type": "code",
   "execution_count": null,
   "metadata": {
    "id": "CZhNoxAhnWmy"
   },
   "outputs": [],
   "source": [
    "numerique_features = ['Age', 'DailyRate', 'DistanceFromHome', 'Education', 'EnvironmentSatisfaction',\n",
    "                      'HourlyRate', 'JobInvolvement', 'JobLevel', 'JobSatisfaction', 'MonthlyIncome',\n",
    "                      'MonthlyRate', 'NumCompaniesWorked', 'PercentSalaryHike', 'PerformanceRating',\n",
    "                      'RelationshipSatisfaction','StockOptionLevel', 'TotalWorkingYears',\n",
    "                      'TrainingTimesLastYear', 'WorkLifeBalance', 'YearsAtCompany', 'YearsInCurrentRole',\n",
    "                      'YearsSinceLastPromotion', 'YearsWithCurrManager'\n",
    "                     ]"
   ]
  },
  {
   "cell_type": "code",
   "execution_count": null,
   "metadata": {
    "id": "z3y4XCJanWmz"
   },
   "outputs": [],
   "source": [
    "categorical_features = ['BusinessTravel', 'Department', 'EducationField', 'Gender',\n",
    "                        'JobRole', 'MaritalStatus', 'OverTime'\n",
    "                       ]"
   ]
  },
  {
   "cell_type": "code",
   "execution_count": null,
   "metadata": {
    "id": "hrIpxNA0nWm7"
   },
   "outputs": [],
   "source": [
    "processed_dataset = dataset.copy(deep = True)"
   ]
  },
  {
   "cell_type": "markdown",
   "metadata": {
    "id": "Alt68tlMnWm9"
   },
   "source": [
    "#### Drop constant features"
   ]
  },
  {
   "cell_type": "code",
   "execution_count": null,
   "metadata": {
    "id": "_Sb2e5LDnWm_"
   },
   "outputs": [],
   "source": [
    "processed_dataset.drop(columns = ['EmployeeCount', 'StandardHours', 'Over18'], inplace = True)"
   ]
  },
  {
   "cell_type": "markdown",
   "metadata": {
    "id": "hrwb2A_BnWnB"
   },
   "source": [
    "#### BusinessTravel"
   ]
  },
  {
   "cell_type": "code",
   "execution_count": null,
   "metadata": {
    "id": "6LeZhrkCnWnB"
   },
   "outputs": [],
   "source": [
    "processed_dataset.BusinessTravel.value_counts()"
   ]
  },
  {
   "cell_type": "code",
   "execution_count": null,
   "metadata": {
    "id": "EGQMhSyXnWnC"
   },
   "outputs": [],
   "source": [
    "business_travel_dummies = pd.get_dummies(processed_dataset.BusinessTravel, prefix = 'b_travel')\n",
    "processed_dataset = pd.concat([processed_dataset, business_travel_dummies], axis=1)"
   ]
  },
  {
   "cell_type": "markdown",
   "metadata": {
    "id": "9MJWixMxnWno"
   },
   "source": [
    "#### Department"
   ]
  },
  {
   "cell_type": "code",
   "execution_count": null,
   "metadata": {
    "id": "4XTvszyKnWnq"
   },
   "outputs": [],
   "source": [
    "dataset.Department.value_counts()"
   ]
  },
  {
   "cell_type": "code",
   "execution_count": null,
   "metadata": {
    "id": "MAexXFJRnWnq"
   },
   "outputs": [],
   "source": [
    "department_dummies = pd.get_dummies(processed_dataset.Department, prefix = 'department')\n",
    "processed_dataset = pd.concat([processed_dataset, department_dummies], axis=1)"
   ]
  },
  {
   "cell_type": "markdown",
   "metadata": {
    "id": "J3-E0tLPnWns"
   },
   "source": [
    "#### EducationField"
   ]
  },
  {
   "cell_type": "code",
   "execution_count": null,
   "metadata": {
    "id": "gOZUOQNgnWnt"
   },
   "outputs": [],
   "source": [
    "dataset.EducationField.value_counts()"
   ]
  },
  {
   "cell_type": "code",
   "execution_count": null,
   "metadata": {
    "id": "FtV7j9KAnWnz"
   },
   "outputs": [],
   "source": [
    "edu_field_dummies = pd.get_dummies(processed_dataset.Department, prefix = 'edu_field')\n",
    "processed_dataset = pd.concat([processed_dataset, edu_field_dummies], axis=1)"
   ]
  },
  {
   "cell_type": "markdown",
   "metadata": {
    "id": "c_bD6GQInWn0"
   },
   "source": [
    "#### Gender"
   ]
  },
  {
   "cell_type": "code",
   "execution_count": null,
   "metadata": {
    "id": "XOMMyW0MnWn1"
   },
   "outputs": [],
   "source": [
    "dataset.Gender.value_counts()"
   ]
  },
  {
   "cell_type": "code",
   "execution_count": null,
   "metadata": {
    "id": "FTNSgJExnWn2"
   },
   "outputs": [],
   "source": [
    "processed_dataset['gender_bin'] = processed_dataset.Gender.apply(\n",
    "    lambda x : 0 if x == 'Male' else 1 if x == 'Female' else -1)"
   ]
  },
  {
   "cell_type": "markdown",
   "metadata": {
    "id": "UWlOGL6NnWn5"
   },
   "source": [
    "#### JobRole"
   ]
  },
  {
   "cell_type": "code",
   "execution_count": null,
   "metadata": {
    "id": "cpzrfDlknWn5"
   },
   "outputs": [],
   "source": [
    "dataset.JobRole.value_counts()"
   ]
  },
  {
   "cell_type": "code",
   "execution_count": null,
   "metadata": {
    "id": "bVNa1iDZnWn6"
   },
   "outputs": [],
   "source": [
    "job_role_dummies = pd.get_dummies(processed_dataset.JobRole, prefix = 'job_role')\n",
    "processed_dataset = pd.concat([processed_dataset, job_role_dummies], axis=1)"
   ]
  },
  {
   "cell_type": "markdown",
   "metadata": {
    "id": "VeSXQqd_nWn7"
   },
   "source": [
    "#### MaritalStatus"
   ]
  },
  {
   "cell_type": "code",
   "execution_count": null,
   "metadata": {
    "id": "sBlKaLgInWn7"
   },
   "outputs": [],
   "source": [
    "dataset.MaritalStatus.value_counts()"
   ]
  },
  {
   "cell_type": "code",
   "execution_count": null,
   "metadata": {
    "id": "gYvc-xFPnWn8"
   },
   "outputs": [],
   "source": [
    "marital_dummies = pd.get_dummies(processed_dataset.MaritalStatus, prefix = 'marital')\n",
    "processed_dataset = pd.concat([processed_dataset, marital_dummies], axis=1)"
   ]
  },
  {
   "cell_type": "markdown",
   "metadata": {
    "id": "HKDhTtRGnWn9"
   },
   "source": [
    "#### OverTime"
   ]
  },
  {
   "cell_type": "code",
   "execution_count": null,
   "metadata": {
    "id": "ZAYzVnOunWn-"
   },
   "outputs": [],
   "source": [
    "dataset.OverTime.value_counts()"
   ]
  },
  {
   "cell_type": "code",
   "execution_count": null,
   "metadata": {
    "id": "pBzLh8SdnWoB"
   },
   "outputs": [],
   "source": [
    "overtime_dummies = pd.get_dummies(processed_dataset.OverTime, prefix = 'overtime')\n",
    "processed_dataset = pd.concat([processed_dataset, overtime_dummies], axis=1)"
   ]
  },
  {
   "cell_type": "code",
   "execution_count": null,
   "metadata": {
    "id": "kgODaaIknWoD"
   },
   "outputs": [],
   "source": [
    "#drop initial categorical features\n",
    "processed_dataset.drop(columns = categorical_features, inplace = True)"
   ]
  },
  {
   "cell_type": "markdown",
   "metadata": {
    "id": "5sQnycssnWoE"
   },
   "source": [
    "### Target"
   ]
  },
  {
   "cell_type": "code",
   "execution_count": null,
   "metadata": {
    "id": "rsA4nPLOnWoE"
   },
   "outputs": [],
   "source": [
    "processed_dataset['target'] = processed_dataset.Attrition.apply(\n",
    "    lambda x : 0 if x == 'No' else 1 if x == 'Yes' else -1)"
   ]
  },
  {
   "cell_type": "markdown",
   "metadata": {
    "id": "7zAVWWuanWoF"
   },
   "source": [
    "## Dataset generation"
   ]
  },
  {
   "cell_type": "code",
   "execution_count": null,
   "metadata": {
    "id": "dHFuHwq4nWoG"
   },
   "outputs": [],
   "source": [
    "features = ['Age','DailyRate', 'DistanceFromHome', 'Education',\n",
    "       'EmployeeNumber', 'EnvironmentSatisfaction', 'HourlyRate',\n",
    "       'JobInvolvement', 'JobLevel', 'JobSatisfaction', 'MonthlyIncome',\n",
    "       'MonthlyRate', 'NumCompaniesWorked', 'PercentSalaryHike',\n",
    "       'PerformanceRating', 'RelationshipSatisfaction', 'StockOptionLevel',\n",
    "       'TotalWorkingYears', 'TrainingTimesLastYear', 'WorkLifeBalance',\n",
    "       'YearsAtCompany', 'YearsInCurrentRole', 'YearsSinceLastPromotion',\n",
    "       'YearsWithCurrManager', 'b_travel_Non-Travel',\n",
    "       'b_travel_Travel_Frequently', 'b_travel_Travel_Rarely',\n",
    "       'department_Human Resources', 'department_Research & Development',\n",
    "       'department_Sales', 'edu_field_Human Resources',\n",
    "       'edu_field_Research & Development', 'edu_field_Sales', 'gender_bin',\n",
    "       'job_role_Healthcare Representative', 'job_role_Human Resources',\n",
    "       'job_role_Laboratory Technician', 'job_role_Manager',\n",
    "       'job_role_Manufacturing Director', 'job_role_Research Director',\n",
    "       'job_role_Research Scientist', 'job_role_Sales Executive',\n",
    "       'job_role_Sales Representative', 'marital_Divorced', 'marital_Married',\n",
    "       'marital_Single', 'overtime_No', 'overtime_Yes',]"
   ]
  },
  {
   "cell_type": "markdown",
   "metadata": {
    "id": "XUeFLTo1nWoH"
   },
   "source": [
    "#### Train & Holdout Test Split"
   ]
  },
  {
   "cell_type": "code",
   "execution_count": null,
   "metadata": {
    "id": "jmbSVswHnWoH"
   },
   "outputs": [],
   "source": [
    "RANDOM_STATE = 1603"
   ]
  },
  {
   "cell_type": "code",
   "execution_count": null,
   "metadata": {
    "id": "EPQIQV3tnWoI"
   },
   "outputs": [],
   "source": [
    "train_data, test_data, train_y, test_y = train_test_split(processed_dataset[features], processed_dataset.target,\n",
    "                                                   random_state = RANDOM_STATE, test_size = 0.25,\n",
    "                                                   stratify = processed_dataset.target)"
   ]
  },
  {
   "cell_type": "markdown",
   "metadata": {
    "id": "rLYYVS13nWoI"
   },
   "source": [
    "## Modeling"
   ]
  },
  {
   "cell_type": "markdown",
   "metadata": {
    "id": "2drlTMsPnWoJ"
   },
   "source": [
    "### Baseline"
   ]
  },
  {
   "cell_type": "code",
   "execution_count": null,
   "metadata": {
    "id": "Y9uSLcPrnWoK"
   },
   "outputs": [],
   "source": [
    "rf = RandomForestClassifier(n_estimators=500, n_jobs = -1, random_state = 11)"
   ]
  },
  {
   "cell_type": "code",
   "execution_count": null,
   "metadata": {
    "id": "4vntlMtGnWoL"
   },
   "outputs": [],
   "source": [
    "rf.fit(train_data[features], train_y)"
   ]
  },
  {
   "cell_type": "markdown",
   "metadata": {
    "id": "Iu5OqlHMnWoL"
   },
   "source": [
    "### Baseline Classification Report"
   ]
  },
  {
   "cell_type": "code",
   "execution_count": null,
   "metadata": {
    "id": "hiG4zonBnWoM"
   },
   "outputs": [],
   "source": [
    "train_probas = pd.DataFrame(rf.predict_proba(train_data[features]))\n",
    "train_probas.columns = ['no', 'yes']\n",
    "test_probas = pd.DataFrame(rf.predict_proba(test_data[features]))\n",
    "test_probas.columns = ['no', 'yes']"
   ]
  },
  {
   "cell_type": "code",
   "execution_count": null,
   "metadata": {
    "id": "HWiqDB_jnWoN"
   },
   "outputs": [],
   "source": [
    "train_data.reset_index(inplace=True, drop=True)\n",
    "train_data['Attrition'] = ['no' if x == 0 else 'yes' for x in train_y]\n",
    "rf_merged_train = pd.concat([train_data, train_probas], axis = 1)\n",
    "\n",
    "test_data.reset_index(inplace=True, drop=True)\n",
    "test_data['Attrition'] = ['no' if x == 0 else 'yes' for x in test_y]\n",
    "rf_merged_test = pd.concat([test_data, test_probas], axis = 1)"
   ]
  },
  {
   "cell_type": "code",
   "execution_count": null,
   "metadata": {
    "id": "LZIAOc5NnWoN"
   },
   "outputs": [],
   "source": [
    "column_mapping = ColumnMapping()\n",
    "\n",
    "column_mapping.target = 'Attrition'\n",
    "column_mapping.prediction = ['yes', 'no']\n",
    "column_mapping.pos_label = 'yes'\n",
    "\n",
    "column_mapping.numerical_features = ['Age','DailyRate', 'DistanceFromHome', 'Education',\n",
    "       'EmployeeNumber', 'EnvironmentSatisfaction', 'HourlyRate',\n",
    "       'JobInvolvement', 'JobLevel', 'JobSatisfaction', 'MonthlyIncome',\n",
    "       'MonthlyRate', 'NumCompaniesWorked', 'PercentSalaryHike',\n",
    "       'PerformanceRating', 'RelationshipSatisfaction', 'StockOptionLevel',\n",
    "       'TotalWorkingYears', 'TrainingTimesLastYear', 'WorkLifeBalance',\n",
    "       'YearsAtCompany', 'YearsInCurrentRole', 'YearsSinceLastPromotion',\n",
    "       'YearsWithCurrManager']\n",
    "\n",
    "column_mapping.categorical_features = ['b_travel_Non-Travel',\n",
    "       'b_travel_Travel_Frequently', 'b_travel_Travel_Rarely',\n",
    "       'department_Human Resources', 'department_Research & Development',\n",
    "       'department_Sales', 'edu_field_Human Resources',\n",
    "       'edu_field_Research & Development', 'edu_field_Sales', 'gender_bin',\n",
    "       'job_role_Healthcare Representative', 'job_role_Human Resources',\n",
    "       'job_role_Laboratory Technician', 'job_role_Manager',\n",
    "       'job_role_Manufacturing Director', 'job_role_Research Director',\n",
    "       'job_role_Research Scientist', 'job_role_Sales Executive',\n",
    "       'job_role_Sales Representative', 'marital_Divorced', 'marital_Married',\n",
    "       'marital_Single', 'overtime_No', 'overtime_Yes']"
   ]
  },
  {
   "cell_type": "code",
   "execution_count": null,
   "metadata": {
    "id": "gkZT5QkNJlVM"
   },
   "outputs": [],
   "source": [
    "classification_performance_report = Report(metrics=[\n",
    "    ClassificationPreset(),\n",
    "])\n",
    "\n",
    "classification_performance_report.run(reference_data=rf_merged_train, current_data=rf_merged_test, column_mapping = column_mapping)\n",
    "\n",
    "classification_performance_report"
   ]
  },
  {
   "cell_type": "code",
   "execution_count": null,
   "metadata": {
    "id": "zxEOMfatnWoP"
   },
   "outputs": [],
   "source": [
    "#classification_performance_report.save_html('ibm_hr_attrition_baseline_performance.html')"
   ]
  },
  {
   "cell_type": "markdown",
   "metadata": {
    "id": "kDybWAGmnWoR"
   },
   "source": [
    "## Better model"
   ]
  },
  {
   "cell_type": "code",
   "execution_count": null,
   "metadata": {
    "id": "mxCs-_arnWoR"
   },
   "outputs": [],
   "source": [
    "cat = CatBoostClassifier(random_state= 11, iterations=1600, learning_rate=0.008, class_weights = {0:1, 1:6})"
   ]
  },
  {
   "cell_type": "code",
   "execution_count": null,
   "metadata": {
    "id": "yNSEXLJjnWoS"
   },
   "outputs": [],
   "source": [
    "cat.fit(train_data[features], train_y)"
   ]
  },
  {
   "cell_type": "code",
   "execution_count": null,
   "metadata": {
    "id": "ZnxOftCSnWoT"
   },
   "outputs": [],
   "source": [
    "train_probas = pd.DataFrame(cat.predict_proba(train_data[features]))\n",
    "train_probas.columns = ['no', 'yes']\n",
    "test_probas = pd.DataFrame(cat.predict_proba(test_data[features]))\n",
    "test_probas.columns = ['no', 'yes']"
   ]
  },
  {
   "cell_type": "code",
   "execution_count": null,
   "metadata": {
    "id": "rEXDusS8nWoT"
   },
   "outputs": [],
   "source": [
    "train_data.reset_index(inplace=True, drop=True)\n",
    "train_data['target'] = ['no' if x == 0 else 'yes' for x in train_y]\n",
    "cat_merged_train = pd.concat([train_data, train_probas], axis = 1)\n",
    "\n",
    "test_data.reset_index(inplace=True, drop=True)\n",
    "test_data['target'] = ['no' if x == 0 else 'yes' for x in test_y]\n",
    "cat_merged_test = pd.concat([test_data, test_probas], axis = 1)"
   ]
  },
  {
   "cell_type": "code",
   "execution_count": null,
   "metadata": {
    "id": "zsr7ZwgEISZw"
   },
   "outputs": [],
   "source": [
    "classification_performance_report = Report(metrics=[\n",
    "    ClassificationPreset(),\n",
    "])\n",
    "\n",
    "classification_performance_report.run(reference_data=cat_merged_train, current_data=cat_merged_test, column_mapping = column_mapping)\n",
    "\n",
    "classification_performance_report"
   ]
  },
  {
   "cell_type": "code",
   "execution_count": null,
   "metadata": {
    "id": "6GPsfafFnWoU"
   },
   "outputs": [],
   "source": [
    "#classification_performance_report.save_html('ibm_hr_attrition_better_model_performance.html')"
   ]
  },
  {
   "cell_type": "markdown",
   "metadata": {
    "id": "Kep_f9SfnWoX"
   },
   "source": [
    "## Models comparison"
   ]
  },
  {
   "cell_type": "code",
   "execution_count": null,
   "metadata": {
    "id": "SrRhNjT-nWoY"
   },
   "outputs": [],
   "source": [
    "classification_performance_report.run(reference_data=rf_merged_test, current_data=cat_merged_test, column_mapping = column_mapping)\n",
    "\n",
    "classification_performance_report"
   ]
  },
  {
   "cell_type": "code",
   "execution_count": null,
   "metadata": {
    "id": "_XoKUwQjnWoY"
   },
   "outputs": [],
   "source": [
    "#classification_performance_report.save_html('ibm_hr_attrition_model_comparison.html')"
   ]
  },
  {
   "cell_type": "markdown",
   "metadata": {},
   "source": [
    "# Support Evidently\n",
    "Enjoyed the tutorial? Star Evidently on GitHub to contribute back! This helps us continue creating free open-source tools for the community. https://github.com/evidentlyai/evidently"
   ]
  }
 ],
 "metadata": {
  "colab": {
   "provenance": []
  },
  "kernelspec": {
   "display_name": "Python 3 (ipykernel)",
   "language": "python",
   "name": "python3"
  },
  "language_info": {
   "codemirror_mode": {
    "name": "ipython",
    "version": 3
   },
   "file_extension": ".py",
   "mimetype": "text/x-python",
   "name": "python",
   "nbconvert_exporter": "python",
   "pygments_lexer": "ipython3",
   "version": "3.9.16"
  }
 },
 "nbformat": 4,
 "nbformat_minor": 4
}
